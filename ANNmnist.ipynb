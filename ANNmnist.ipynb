{
  "nbformat": 4,
  "nbformat_minor": 0,
  "metadata": {
    "accelerator": "GPU",
    "colab": {
      "name": "ANNmnist.ipynb",
      "provenance": [],
      "collapsed_sections": [
        "1kY4g75WEtOz",
        "rAWvZvtpExxL",
        "8UZL9g74E6uB",
        "mhmIdlRPE_76",
        "OQ_ioCVdERI9",
        "uaHpqxNUEWxJ"
      ],
      "toc_visible": true
    },
    "kernelspec": {
      "name": "python3",
      "display_name": "Python 3"
    },
    "language_info": {
      "codemirror_mode": {
        "name": "ipython",
        "version": 3
      },
      "file_extension": ".py",
      "mimetype": "text/x-python",
      "name": "python",
      "nbconvert_exporter": "python",
      "pygments_lexer": "ipython3",
      "version": "3.7.4"
    }
  },
  "cells": [
    {
      "cell_type": "markdown",
      "metadata": {
        "colab_type": "text",
        "id": "1kY4g75WEtOz"
      },
      "source": [
        "# Install dependencies"
      ]
    },
    {
      "cell_type": "code",
      "metadata": {
        "colab_type": "code",
        "id": "T7o82XPgoqhw",
        "outputId": "cd09f6e8-d84a-4783-ec87-bb1fb4a59929",
        "colab": {
          "base_uri": "https://localhost:8080/",
          "height": 1000
        }
      },
      "source": [
        "!pip install -U keras-tuner\n",
        "!pip install lime\n",
        "!pip install keras tensorflow"
      ],
      "execution_count": 0,
      "outputs": [
        {
          "output_type": "stream",
          "text": [
            "Requirement already up-to-date: keras-tuner in /usr/local/lib/python3.6/dist-packages (1.0.1)\n",
            "Requirement already satisfied, skipping upgrade: future in /usr/local/lib/python3.6/dist-packages (from keras-tuner) (0.16.0)\n",
            "Requirement already satisfied, skipping upgrade: colorama in /usr/local/lib/python3.6/dist-packages (from keras-tuner) (0.4.3)\n",
            "Requirement already satisfied, skipping upgrade: requests in /usr/local/lib/python3.6/dist-packages (from keras-tuner) (2.21.0)\n",
            "Requirement already satisfied, skipping upgrade: terminaltables in /usr/local/lib/python3.6/dist-packages (from keras-tuner) (3.1.0)\n",
            "Requirement already satisfied, skipping upgrade: tabulate in /usr/local/lib/python3.6/dist-packages (from keras-tuner) (0.8.6)\n",
            "Requirement already satisfied, skipping upgrade: tqdm in /usr/local/lib/python3.6/dist-packages (from keras-tuner) (4.28.1)\n",
            "Requirement already satisfied, skipping upgrade: scikit-learn in /usr/local/lib/python3.6/dist-packages (from keras-tuner) (0.22.1)\n",
            "Requirement already satisfied, skipping upgrade: numpy in /usr/local/lib/python3.6/dist-packages (from keras-tuner) (1.17.5)\n",
            "Requirement already satisfied, skipping upgrade: scipy in /usr/local/lib/python3.6/dist-packages (from keras-tuner) (1.4.1)\n",
            "Requirement already satisfied, skipping upgrade: urllib3<1.25,>=1.21.1 in /usr/local/lib/python3.6/dist-packages (from requests->keras-tuner) (1.24.3)\n",
            "Requirement already satisfied, skipping upgrade: idna<2.9,>=2.5 in /usr/local/lib/python3.6/dist-packages (from requests->keras-tuner) (2.8)\n",
            "Requirement already satisfied, skipping upgrade: certifi>=2017.4.17 in /usr/local/lib/python3.6/dist-packages (from requests->keras-tuner) (2019.11.28)\n",
            "Requirement already satisfied, skipping upgrade: chardet<3.1.0,>=3.0.2 in /usr/local/lib/python3.6/dist-packages (from requests->keras-tuner) (3.0.4)\n",
            "Requirement already satisfied, skipping upgrade: joblib>=0.11 in /usr/local/lib/python3.6/dist-packages (from scikit-learn->keras-tuner) (0.14.1)\n",
            "Requirement already satisfied: lime in /root/.local/lib/python3.6/site-packages (0.1.1.37)\n",
            "Requirement already satisfied: numpy in /usr/local/lib/python3.6/dist-packages (from lime) (1.17.5)\n",
            "Requirement already satisfied: matplotlib; python_version >= \"3.0\" in /usr/local/lib/python3.6/dist-packages (from lime) (3.1.3)\n",
            "Requirement already satisfied: scikit-image>=0.12; python_version >= \"3.0\" in /usr/local/lib/python3.6/dist-packages (from lime) (0.16.2)\n",
            "Requirement already satisfied: scipy in /usr/local/lib/python3.6/dist-packages (from lime) (1.4.1)\n",
            "Requirement already satisfied: scikit-learn>=0.18 in /usr/local/lib/python3.6/dist-packages (from lime) (0.22.1)\n",
            "Requirement already satisfied: progressbar in /root/.local/lib/python3.6/site-packages (from lime) (2.5)\n",
            "Requirement already satisfied: python-dateutil>=2.1 in /usr/local/lib/python3.6/dist-packages (from matplotlib; python_version >= \"3.0\"->lime) (2.6.1)\n",
            "Requirement already satisfied: kiwisolver>=1.0.1 in /usr/local/lib/python3.6/dist-packages (from matplotlib; python_version >= \"3.0\"->lime) (1.1.0)\n",
            "Requirement already satisfied: cycler>=0.10 in /usr/local/lib/python3.6/dist-packages (from matplotlib; python_version >= \"3.0\"->lime) (0.10.0)\n",
            "Requirement already satisfied: pyparsing!=2.0.4,!=2.1.2,!=2.1.6,>=2.0.1 in /usr/local/lib/python3.6/dist-packages (from matplotlib; python_version >= \"3.0\"->lime) (2.4.6)\n",
            "Requirement already satisfied: imageio>=2.3.0 in /usr/local/lib/python3.6/dist-packages (from scikit-image>=0.12; python_version >= \"3.0\"->lime) (2.4.1)\n",
            "Requirement already satisfied: pillow>=4.3.0 in /usr/local/lib/python3.6/dist-packages (from scikit-image>=0.12; python_version >= \"3.0\"->lime) (6.2.2)\n",
            "Requirement already satisfied: PyWavelets>=0.4.0 in /usr/local/lib/python3.6/dist-packages (from scikit-image>=0.12; python_version >= \"3.0\"->lime) (1.1.1)\n",
            "Requirement already satisfied: networkx>=2.0 in /usr/local/lib/python3.6/dist-packages (from scikit-image>=0.12; python_version >= \"3.0\"->lime) (2.4)\n",
            "Requirement already satisfied: joblib>=0.11 in /usr/local/lib/python3.6/dist-packages (from scikit-learn>=0.18->lime) (0.14.1)\n",
            "Requirement already satisfied: six>=1.5 in /usr/local/lib/python3.6/dist-packages (from python-dateutil>=2.1->matplotlib; python_version >= \"3.0\"->lime) (1.12.0)\n",
            "Requirement already satisfied: setuptools in /usr/local/lib/python3.6/dist-packages (from kiwisolver>=1.0.1->matplotlib; python_version >= \"3.0\"->lime) (45.1.0)\n",
            "Requirement already satisfied: decorator>=4.3.0 in /usr/local/lib/python3.6/dist-packages (from networkx>=2.0->scikit-image>=0.12; python_version >= \"3.0\"->lime) (4.4.1)\n",
            "Requirement already satisfied: keras in /usr/local/lib/python3.6/dist-packages (2.2.5)\n",
            "Requirement already satisfied: tensorflow in /usr/local/lib/python3.6/dist-packages (1.15.0)\n",
            "Requirement already satisfied: numpy>=1.9.1 in /usr/local/lib/python3.6/dist-packages (from keras) (1.17.5)\n",
            "Requirement already satisfied: keras-preprocessing>=1.1.0 in /usr/local/lib/python3.6/dist-packages (from keras) (1.1.0)\n",
            "Requirement already satisfied: six>=1.9.0 in /usr/local/lib/python3.6/dist-packages (from keras) (1.12.0)\n",
            "Requirement already satisfied: h5py in /usr/local/lib/python3.6/dist-packages (from keras) (2.8.0)\n",
            "Requirement already satisfied: keras-applications>=1.0.8 in /usr/local/lib/python3.6/dist-packages (from keras) (1.0.8)\n",
            "Requirement already satisfied: pyyaml in /usr/local/lib/python3.6/dist-packages (from keras) (3.13)\n",
            "Requirement already satisfied: scipy>=0.14 in /usr/local/lib/python3.6/dist-packages (from keras) (1.4.1)\n",
            "Requirement already satisfied: tensorboard<1.16.0,>=1.15.0 in /usr/local/lib/python3.6/dist-packages (from tensorflow) (1.15.0)\n",
            "Requirement already satisfied: grpcio>=1.8.6 in /usr/local/lib/python3.6/dist-packages (from tensorflow) (1.27.1)\n",
            "Requirement already satisfied: opt-einsum>=2.3.2 in /usr/local/lib/python3.6/dist-packages (from tensorflow) (3.1.0)\n",
            "Requirement already satisfied: wrapt>=1.11.1 in /usr/local/lib/python3.6/dist-packages (from tensorflow) (1.11.2)\n",
            "Requirement already satisfied: gast==0.2.2 in /usr/local/lib/python3.6/dist-packages (from tensorflow) (0.2.2)\n",
            "Requirement already satisfied: termcolor>=1.1.0 in /usr/local/lib/python3.6/dist-packages (from tensorflow) (1.1.0)\n",
            "Requirement already satisfied: astor>=0.6.0 in /usr/local/lib/python3.6/dist-packages (from tensorflow) (0.8.1)\n",
            "Requirement already satisfied: tensorflow-estimator==1.15.1 in /usr/local/lib/python3.6/dist-packages (from tensorflow) (1.15.1)\n",
            "Requirement already satisfied: protobuf>=3.6.1 in /usr/local/lib/python3.6/dist-packages (from tensorflow) (3.10.0)\n",
            "Requirement already satisfied: absl-py>=0.7.0 in /usr/local/lib/python3.6/dist-packages (from tensorflow) (0.9.0)\n",
            "Requirement already satisfied: wheel>=0.26 in /usr/local/lib/python3.6/dist-packages (from tensorflow) (0.34.2)\n",
            "Requirement already satisfied: google-pasta>=0.1.6 in /usr/local/lib/python3.6/dist-packages (from tensorflow) (0.1.8)\n",
            "Requirement already satisfied: werkzeug>=0.11.15 in /usr/local/lib/python3.6/dist-packages (from tensorboard<1.16.0,>=1.15.0->tensorflow) (1.0.0)\n",
            "Requirement already satisfied: markdown>=2.6.8 in /usr/local/lib/python3.6/dist-packages (from tensorboard<1.16.0,>=1.15.0->tensorflow) (3.2.1)\n",
            "Requirement already satisfied: setuptools>=41.0.0 in /usr/local/lib/python3.6/dist-packages (from tensorboard<1.16.0,>=1.15.0->tensorflow) (45.1.0)\n"
          ],
          "name": "stdout"
        }
      ]
    },
    {
      "cell_type": "code",
      "metadata": {
        "id": "DqohMMQoDYap",
        "colab_type": "code",
        "outputId": "52d09b8c-b24f-4f78-b384-e76e6af09c82",
        "colab": {
          "base_uri": "https://localhost:8080/",
          "height": 34
        }
      },
      "source": [
        "!pip -V"
      ],
      "execution_count": 0,
      "outputs": [
        {
          "output_type": "stream",
          "text": [
            "pip 19.3.1 from /usr/local/lib/python3.6/dist-packages/pip (python 3.6)\n"
          ],
          "name": "stdout"
        }
      ]
    },
    {
      "cell_type": "markdown",
      "metadata": {
        "colab_type": "text",
        "id": "rAWvZvtpExxL"
      },
      "source": [
        "# Import libraries"
      ]
    },
    {
      "cell_type": "code",
      "metadata": {
        "colab_type": "code",
        "id": "v6oIm11-n6rc",
        "outputId": "be4593a6-cac4-4962-ea21-0a1c411ceefe",
        "colab": {
          "base_uri": "https://localhost:8080/",
          "height": 81
        }
      },
      "source": [
        "from __future__ import print_function\n",
        "import keras\n",
        "from keras.datasets import mnist\n",
        "from keras.models import Sequential\n",
        "from keras.layers import Dense, Dropout, Flatten, MaxPooling2D, Dense, Activation\n",
        "from keras.layers import Conv2D, MaxPooling2D\n",
        "from keras import backend as K\n",
        "from sklearn.ensemble import RandomForestClassifier\n",
        "from sklearn.metrics import confusion_matrix\n",
        "from sklearn.utils.multiclass import unique_labels\n",
        "from sklearn.metrics import accuracy_score\n",
        "from sklearn.metrics import mean_squared_log_error\n",
        "from scipy import stats\n",
        "import tensorflow as tf\n",
        "import pickle as pk\n",
        "# for ploting data\n",
        "from matplotlib import pyplot as plt\n",
        "from matplotlib import rcParams\n",
        "rcParams.update({'figure.autolayout': True})\n",
        "# to explain local cases and understand the model's decision\n",
        "import lime\n",
        "from lime import lime_image\n",
        "from lime.wrappers.scikit_image import SegmentationAlgorithm\n",
        "# for matrix operation\n",
        "import numpy as np\n",
        "\n",
        "#for table manipulation\n",
        "import pandas as pd\n",
        "\n",
        "# garbage collector\n",
        "import gc\n",
        "\n",
        "import numpy as np\n",
        "import matplotlib.pyplot as plt\n",
        "from skimage.color import gray2rgb, rgb2gray, label2rgb\n",
        "# from tensorflow.keras.layers import Conv2D, MaxPooling2D, Dense, Flatten, Activation"
      ],
      "execution_count": 0,
      "outputs": [
        {
          "output_type": "stream",
          "text": [
            "Using TensorFlow backend.\n"
          ],
          "name": "stderr"
        },
        {
          "output_type": "display_data",
          "data": {
            "text/html": [
              "<p style=\"color: red;\">\n",
              "The default version of TensorFlow in Colab will soon switch to TensorFlow 2.x.<br>\n",
              "We recommend you <a href=\"https://www.tensorflow.org/guide/migrate\" target=\"_blank\">upgrade</a> now \n",
              "or ensure your notebook will continue to use TensorFlow 1.x via the <code>%tensorflow_version 1.x</code> magic:\n",
              "<a href=\"https://colab.research.google.com/notebooks/tensorflow_version.ipynb\" target=\"_blank\">more info</a>.</p>\n"
            ],
            "text/plain": [
              "<IPython.core.display.HTML object>"
            ]
          },
          "metadata": {
            "tags": []
          }
        }
      ]
    },
    {
      "cell_type": "markdown",
      "metadata": {
        "colab_type": "text",
        "id": "duOUOdOaE2W0"
      },
      "source": [
        "# Adapter"
      ]
    },
    {
      "cell_type": "code",
      "metadata": {
        "colab_type": "code",
        "id": "tWkvIsa78zss",
        "colab": {}
      },
      "source": [
        "class MyModel():\n",
        "    def __init__(self,model,ty,max=False):\n",
        "        self.model = model\n",
        "        self.ty=ty\n",
        "        self.max=True\n",
        "    def predict(self, img):\n",
        "        img = np.array(img)\n",
        "        if(len(img.shape)==3):\n",
        "            if(self.ty=='rf'):\n",
        "                data=img[:,:,0].reshape(1, img.shape[0]*img.shape[1])\n",
        "            else:\n",
        "                data=img[:,:,0].reshape(1, img.shape[0], img.shape[1], 1)\n",
        "        else:\n",
        "            if(self.ty=='rf'):\n",
        "                data=img[:,:,:,0].reshape(img.shape[0], img.shape[1]*img.shape[2])\n",
        "            else:\n",
        "                data=img[:,:,:,0].reshape(img.shape[0], img.shape[1], img.shape[2], 1)\n",
        "        pred=self.model.predict(data)\n",
        "        return pred"
      ],
      "execution_count": 0,
      "outputs": []
    },
    {
      "cell_type": "markdown",
      "metadata": {
        "colab_type": "text",
        "id": "8UZL9g74E6uB"
      },
      "source": [
        "# configuration"
      ]
    },
    {
      "cell_type": "code",
      "metadata": {
        "colab_type": "code",
        "id": "T90CddCkoGxQ",
        "colab": {}
      },
      "source": [
        "batch_size = 128\n",
        "num_classes = 10\n",
        "epochs = 1"
      ],
      "execution_count": 0,
      "outputs": []
    },
    {
      "cell_type": "code",
      "metadata": {
        "colab_type": "code",
        "id": "bXE-EG6loLBB",
        "colab": {}
      },
      "source": [
        "# input image dimensions\n",
        "img_rows, img_cols = 28, 28"
      ],
      "execution_count": 0,
      "outputs": []
    },
    {
      "cell_type": "markdown",
      "metadata": {
        "colab_type": "text",
        "id": "mhmIdlRPE_76"
      },
      "source": [
        "# Getting the data"
      ]
    },
    {
      "cell_type": "code",
      "metadata": {
        "colab_type": "code",
        "id": "cIhbsPjzoNzt",
        "colab": {}
      },
      "source": [
        "# the data, split between train and test sets\n",
        "(x_train, y_train), (x_test, y_test) = mnist.load_data()"
      ],
      "execution_count": 0,
      "outputs": []
    },
    {
      "cell_type": "markdown",
      "metadata": {
        "colab_type": "text",
        "id": "OQ_ioCVdERI9"
      },
      "source": [
        "# Parser"
      ]
    },
    {
      "cell_type": "code",
      "metadata": {
        "colab_type": "code",
        "id": "rUcvN-6soXf-",
        "outputId": "54776e41-b1cb-4fdb-9d38-77b51005c718",
        "colab": {
          "base_uri": "https://localhost:8080/",
          "height": 34
        }
      },
      "source": [
        "if K.image_data_format() == 'channels_first':\n",
        "    x_train = x_train.reshape(x_train.shape[0], 1, img_rows, img_cols)\n",
        "    x_test = x_test.reshape(x_test.shape[0], 1, img_rows, img_cols)\n",
        "    \n",
        "    x_train_2d=np.array([[[x[0] for x in y]for y in a]for a in x_train])\n",
        "    x_test_2d=np.array([[[x[0] for x in y]for y in a]for a in x_test])\n",
        "\n",
        "    x_train_1d=x_train.reshape(x_train.shape[1], x_train.shape[2]*x_train.shape[3])\n",
        "    x_test_1d=x_test.reshape(x_test.shape[1], x_test.shape[2]*x_test.shape[3])\n",
        "    x_train_1d=np.array(x_train_1d)\n",
        "    x_test_1d=np.array(x_test_1d)    \n",
        "    print(x_train_1d.shape, x_test_1d.shape)\n",
        "    input_shape = (1,img_rows, img_cols)\n",
        "else:\n",
        "    x_train = x_train.reshape(x_train.shape[0], img_rows, img_cols, 1)\n",
        "    x_test = x_test.reshape(x_test.shape[0], img_rows, img_cols, 1)\n",
        "    x_train_2d=np.array([[[x[0] for x in y]for y in a]for a in x_train])\n",
        "    x_test_2d=np.array([[[x[0] for x in y]for y in a]for a in x_test])\n",
        "    x_train_1d=x_train.reshape(x_train.shape[0], x_train.shape[1]*x_train.shape[2])\n",
        "    x_test_1d=x_test.reshape(x_test.shape[0], x_test.shape[1]*x_test.shape[2])\n",
        "    print(x_train_1d.shape, x_test_1d.shape)\n",
        "    input_shape = (img_rows, img_cols,1)"
      ],
      "execution_count": 0,
      "outputs": [
        {
          "output_type": "stream",
          "text": [
            "(60000, 784) (10000, 784)\n"
          ],
          "name": "stdout"
        }
      ]
    },
    {
      "cell_type": "code",
      "metadata": {
        "id": "KLr_n2eJQSWO",
        "colab_type": "code",
        "outputId": "b6bd4b38-6208-42e0-ac6f-2f5a12328482",
        "colab": {
          "base_uri": "https://localhost:8080/",
          "height": 34
        }
      },
      "source": [
        "x_train.shape"
      ],
      "execution_count": 0,
      "outputs": [
        {
          "output_type": "execute_result",
          "data": {
            "text/plain": [
              "(60000, 28, 28, 1)"
            ]
          },
          "metadata": {
            "tags": []
          },
          "execution_count": 29
        }
      ]
    },
    {
      "cell_type": "code",
      "metadata": {
        "colab_type": "code",
        "id": "QPXpK6BcoaEG",
        "outputId": "880f93ec-456e-41c9-bd85-456b7f22c9f9",
        "colab": {
          "base_uri": "https://localhost:8080/",
          "height": 69
        }
      },
      "source": [
        "x_train = x_train.astype('float32')\n",
        "x_test = x_test.astype('float32')\n",
        "x_train /= 255\n",
        "x_test /= 255\n",
        "print('x_train shape:', x_train.shape)\n",
        "print(x_train.shape[0], 'train samples')\n",
        "print(x_test.shape[0], 'test samples')"
      ],
      "execution_count": 0,
      "outputs": [
        {
          "output_type": "stream",
          "text": [
            "x_train shape: (60000, 28, 28, 1)\n",
            "60000 train samples\n",
            "10000 test samples\n"
          ],
          "name": "stdout"
        }
      ]
    },
    {
      "cell_type": "code",
      "metadata": {
        "colab_type": "code",
        "id": "RlfD2TuDocxP",
        "colab": {}
      },
      "source": [
        "# convert class vectors to binary class matrices\n",
        "y_train = keras.utils.to_categorical(y_train, num_classes)\n",
        "y_test = keras.utils.to_categorical(y_test, num_classes)"
      ],
      "execution_count": 0,
      "outputs": []
    },
    {
      "cell_type": "code",
      "metadata": {
        "colab_type": "code",
        "id": "b8mYuX03tu1P",
        "outputId": "20a513f4-85a7-46d7-b662-a5aa03375fd8",
        "colab": {
          "base_uri": "https://localhost:8080/",
          "height": 34
        }
      },
      "source": [
        "input_shape"
      ],
      "execution_count": 0,
      "outputs": [
        {
          "output_type": "execute_result",
          "data": {
            "text/plain": [
              "(28, 28, 1)"
            ]
          },
          "metadata": {
            "tags": []
          },
          "execution_count": 13
        }
      ]
    },
    {
      "cell_type": "markdown",
      "metadata": {
        "colab_type": "text",
        "id": "uaHpqxNUEWxJ"
      },
      "source": [
        "# Models"
      ]
    },
    {
      "cell_type": "markdown",
      "metadata": {
        "colab_type": "text",
        "id": "MNSBANLXsv_O"
      },
      "source": [
        "## ANN"
      ]
    },
    {
      "cell_type": "code",
      "metadata": {
        "colab_type": "code",
        "id": "g07DcbxOogB8",
        "outputId": "8439a140-c56d-4ad4-b395-a1df6cdba4dd",
        "colab": {
          "base_uri": "https://localhost:8080/",
          "height": 729
        }
      },
      "source": [
        "model = Sequential()\n",
        "model.add(Conv2D(32, kernel_size=(3, 3),\n",
        "                 activation='relu',\n",
        "                 input_shape=input_shape))\n",
        "model.add(Conv2D(64, (3, 3), activation='relu'))\n",
        "model.add(MaxPooling2D(pool_size=(2, 2)))\n",
        "model.add(Dropout(0.25))\n",
        "model.add(Flatten())\n",
        "model.add(Dense(128, activation='relu'))\n",
        "model.add(Dropout(0.5))\n",
        "model.add(Dense(num_classes, activation='softmax'))\n",
        "\n",
        "model.compile(loss=keras.losses.categorical_crossentropy,\n",
        "              optimizer=keras.optimizers.Adadelta(),\n",
        "              metrics=['accuracy'])\n",
        "model.summary()"
      ],
      "execution_count": 0,
      "outputs": [
        {
          "output_type": "stream",
          "text": [
            "WARNING:tensorflow:From /usr/local/lib/python3.6/dist-packages/keras/backend/tensorflow_backend.py:66: The name tf.get_default_graph is deprecated. Please use tf.compat.v1.get_default_graph instead.\n",
            "\n",
            "WARNING:tensorflow:From /usr/local/lib/python3.6/dist-packages/keras/backend/tensorflow_backend.py:541: The name tf.placeholder is deprecated. Please use tf.compat.v1.placeholder instead.\n",
            "\n",
            "WARNING:tensorflow:From /usr/local/lib/python3.6/dist-packages/keras/backend/tensorflow_backend.py:4432: The name tf.random_uniform is deprecated. Please use tf.random.uniform instead.\n",
            "\n",
            "WARNING:tensorflow:From /usr/local/lib/python3.6/dist-packages/keras/backend/tensorflow_backend.py:4267: The name tf.nn.max_pool is deprecated. Please use tf.nn.max_pool2d instead.\n",
            "\n",
            "WARNING:tensorflow:From /usr/local/lib/python3.6/dist-packages/keras/backend/tensorflow_backend.py:148: The name tf.placeholder_with_default is deprecated. Please use tf.compat.v1.placeholder_with_default instead.\n",
            "\n",
            "WARNING:tensorflow:From /usr/local/lib/python3.6/dist-packages/keras/backend/tensorflow_backend.py:3733: calling dropout (from tensorflow.python.ops.nn_ops) with keep_prob is deprecated and will be removed in a future version.\n",
            "Instructions for updating:\n",
            "Please use `rate` instead of `keep_prob`. Rate should be set to `rate = 1 - keep_prob`.\n",
            "WARNING:tensorflow:From /usr/local/lib/python3.6/dist-packages/keras/optimizers.py:793: The name tf.train.Optimizer is deprecated. Please use tf.compat.v1.train.Optimizer instead.\n",
            "\n",
            "WARNING:tensorflow:From /usr/local/lib/python3.6/dist-packages/keras/backend/tensorflow_backend.py:3576: The name tf.log is deprecated. Please use tf.math.log instead.\n",
            "\n",
            "Model: \"sequential_1\"\n",
            "_________________________________________________________________\n",
            "Layer (type)                 Output Shape              Param #   \n",
            "=================================================================\n",
            "conv2d_1 (Conv2D)            (None, 26, 26, 32)        320       \n",
            "_________________________________________________________________\n",
            "conv2d_2 (Conv2D)            (None, 24, 24, 64)        18496     \n",
            "_________________________________________________________________\n",
            "max_pooling2d_1 (MaxPooling2 (None, 12, 12, 64)        0         \n",
            "_________________________________________________________________\n",
            "dropout_1 (Dropout)          (None, 12, 12, 64)        0         \n",
            "_________________________________________________________________\n",
            "flatten_1 (Flatten)          (None, 9216)              0         \n",
            "_________________________________________________________________\n",
            "dense_1 (Dense)              (None, 128)               1179776   \n",
            "_________________________________________________________________\n",
            "dropout_2 (Dropout)          (None, 128)               0         \n",
            "_________________________________________________________________\n",
            "dense_2 (Dense)              (None, 10)                1290      \n",
            "=================================================================\n",
            "Total params: 1,199,882\n",
            "Trainable params: 1,199,882\n",
            "Non-trainable params: 0\n",
            "_________________________________________________________________\n"
          ],
          "name": "stdout"
        }
      ]
    },
    {
      "cell_type": "code",
      "metadata": {
        "colab_type": "code",
        "id": "d5FmXSQholAy",
        "outputId": "31eba4fd-e7c2-402e-f462-026b6f0a5014",
        "colab": {
          "base_uri": "https://localhost:8080/",
          "height": 469
        }
      },
      "source": [
        "%%time\n",
        "model.fit(x_train, y_train,\n",
        "          batch_size=batch_size,\n",
        "          epochs=epochs,\n",
        "          verbose=1,\n",
        "          validation_data=(x_test, y_test))\n",
        "score = model.evaluate(x_test, y_test, verbose=0)\n",
        "print('Test loss:', score[0])\n",
        "print('Test accuracy:', score[1])"
      ],
      "execution_count": 0,
      "outputs": [
        {
          "output_type": "stream",
          "text": [
            "WARNING:tensorflow:From /usr/local/lib/python3.6/dist-packages/tensorflow_core/python/ops/math_grad.py:1424: where (from tensorflow.python.ops.array_ops) is deprecated and will be removed in a future version.\n",
            "Instructions for updating:\n",
            "Use tf.where in 2.0, which has the same broadcast rule as np.where\n",
            "WARNING:tensorflow:From /usr/local/lib/python3.6/dist-packages/keras/backend/tensorflow_backend.py:1033: The name tf.assign_add is deprecated. Please use tf.compat.v1.assign_add instead.\n",
            "\n",
            "WARNING:tensorflow:From /usr/local/lib/python3.6/dist-packages/keras/backend/tensorflow_backend.py:1020: The name tf.assign is deprecated. Please use tf.compat.v1.assign instead.\n",
            "\n",
            "WARNING:tensorflow:From /usr/local/lib/python3.6/dist-packages/keras/backend/tensorflow_backend.py:3005: The name tf.Session is deprecated. Please use tf.compat.v1.Session instead.\n",
            "\n",
            "Train on 60000 samples, validate on 10000 samples\n",
            "Epoch 1/1\n",
            "WARNING:tensorflow:From /usr/local/lib/python3.6/dist-packages/keras/backend/tensorflow_backend.py:190: The name tf.get_default_session is deprecated. Please use tf.compat.v1.get_default_session instead.\n",
            "\n",
            "WARNING:tensorflow:From /usr/local/lib/python3.6/dist-packages/keras/backend/tensorflow_backend.py:197: The name tf.ConfigProto is deprecated. Please use tf.compat.v1.ConfigProto instead.\n",
            "\n",
            "WARNING:tensorflow:From /usr/local/lib/python3.6/dist-packages/keras/backend/tensorflow_backend.py:207: The name tf.global_variables is deprecated. Please use tf.compat.v1.global_variables instead.\n",
            "\n",
            "WARNING:tensorflow:From /usr/local/lib/python3.6/dist-packages/keras/backend/tensorflow_backend.py:216: The name tf.is_variable_initialized is deprecated. Please use tf.compat.v1.is_variable_initialized instead.\n",
            "\n",
            "WARNING:tensorflow:From /usr/local/lib/python3.6/dist-packages/keras/backend/tensorflow_backend.py:223: The name tf.variables_initializer is deprecated. Please use tf.compat.v1.variables_initializer instead.\n",
            "\n",
            "60000/60000 [==============================] - 8s 141us/step - loss: 0.2527 - acc: 0.9223 - val_loss: 0.0698 - val_acc: 0.9767\n",
            "Test loss: 0.06982762909000739\n",
            "Test accuracy: 0.9767\n",
            "CPU times: user 7.54 s, sys: 2 s, total: 9.54 s\n",
            "Wall time: 9.34 s\n"
          ],
          "name": "stdout"
        }
      ]
    },
    {
      "cell_type": "markdown",
      "metadata": {
        "colab_type": "text",
        "id": "jqRGS3y3s1ZT"
      },
      "source": [
        "## RF"
      ]
    },
    {
      "cell_type": "code",
      "metadata": {
        "colab_type": "code",
        "id": "U2d2bSVyDlaK",
        "outputId": "6aee4adf-5dfb-4e0d-b531-10b6704f0515",
        "colab": {
          "base_uri": "https://localhost:8080/",
          "height": 52
        }
      },
      "source": [
        "%%time\n",
        "rdm_forest=RandomForestClassifier(n_estimators=200)\n",
        "rdm_forest=rdm_forest.fit(X=x_train_1d, \n",
        "                          y=y_train)"
      ],
      "execution_count": 0,
      "outputs": [
        {
          "output_type": "stream",
          "text": [
            "CPU times: user 2min 2s, sys: 125 ms, total: 2min 2s\n",
            "Wall time: 2min 2s\n"
          ],
          "name": "stdout"
        }
      ]
    },
    {
      "cell_type": "code",
      "metadata": {
        "id": "_XmYQL1_SkxY",
        "colab_type": "code",
        "colab": {}
      },
      "source": [
        "#with open('data.pkl','wb') as f:\n",
        "#    pk.dump(img,f)"
      ],
      "execution_count": 0,
      "outputs": []
    },
    {
      "cell_type": "code",
      "metadata": {
        "id": "7D5wcgOvCZaS",
        "colab_type": "code",
        "colab": {}
      },
      "source": [
        "#with open('models.pkl','rb') as f:\n",
        "#    [model,rdm_forest]=pk.load(f)"
      ],
      "execution_count": 0,
      "outputs": []
    },
    {
      "cell_type": "markdown",
      "metadata": {
        "colab_type": "text",
        "id": "4JrYYajlFMqo"
      },
      "source": [
        "# Lime"
      ]
    },
    {
      "cell_type": "code",
      "metadata": {
        "colab_type": "code",
        "id": "SK-6Af5I2L6O",
        "colab": {}
      },
      "source": [
        "explainer = lime_image.LimeImageExplainer(verbose = False)\n",
        "segmenter = SegmentationAlgorithm('quickshift',\n",
        "                                  kernel_size=1,\n",
        "                                  max_dist=200,\n",
        "                                  ratio=0.2)"
      ],
      "execution_count": 0,
      "outputs": []
    },
    {
      "cell_type": "code",
      "metadata": {
        "colab_type": "code",
        "id": "PcIudN5r9uCS",
        "outputId": "a5d58664-6d9b-4d4f-92b2-5f5872b878c6",
        "colab": {
          "base_uri": "https://localhost:8080/",
          "height": 69
        }
      },
      "source": [
        "%%time\n",
        "case=2\n",
        "explanation = explainer.explain_instance(np.array([[[x[0],x[0],x[0]]\n",
        "                                                    for x in y]\n",
        "                                                   for y in x_test[case]]), \n",
        "                                         classifier_fn =MyModel(rdm_forest,\n",
        "                                                                'rf').predict, \n",
        "                                         top_labels=10,\n",
        "                                         hide_color=0,\n",
        "                                         num_samples=10000,\n",
        "                                         segmentation_fn=segmenter,\n",
        "                                         labels=np.array([str(x) \n",
        "                                                          for x in range(10)]))"
      ],
      "execution_count": 0,
      "outputs": [
        {
          "output_type": "stream",
          "text": [
            ""
          ],
          "name": "stderr"
        },
        {
          "output_type": "stream",
          "text": [
            "CPU times: user 34.3 s, sys: 190 ms, total: 34.5 s\n",
            "Wall time: 34.3 s\n"
          ],
          "name": "stdout"
        },
        {
          "output_type": "stream",
          "text": [
            "\n"
          ],
          "name": "stderr"
        }
      ]
    },
    {
      "cell_type": "code",
      "metadata": {
        "colab_type": "code",
        "id": "fUc1IlMyOTJr",
        "outputId": "dc6e3a17-3638-4bb7-848f-4ace62301c3b",
        "colab": {
          "base_uri": "https://localhost:8080/",
          "height": 297
        }
      },
      "source": [
        "temp, mask = explanation.get_image_and_mask(int(np.where(y_test[case]==1)[0]),\n",
        "                                            positive_only=True,\n",
        "                                            num_features=10,\n",
        "                                            hide_rest=False,\n",
        "                                            min_weight = 0.01)\n",
        "fig, (ax1, ax2) = plt.subplots(1,2, figsize = (8, 4))\n",
        "ax1.imshow(label2rgb(mask,temp, bg_label = 0), interpolation = 'nearest')\n",
        "ax1.set_title('Positive Regions for {}'.format(np.where(y_test[case]==1)[0]))\n",
        "temp, mask = explanation.get_image_and_mask(int(np.where(y_test[case]==1)[0]),\n",
        "                                            positive_only=False,\n",
        "                                            num_features=10,\n",
        "                                            hide_rest=False,\n",
        "                                            min_weight = 0.01)\n",
        "ax2.imshow(label2rgb(3-mask,temp, bg_label = 0), interpolation = 'nearest')\n",
        "ax2.set_title('Positive/Negative Regions for {}'.format(int(np.where(y_test[case]==1)[0])))\n",
        "plt.savefig('test.png')"
      ],
      "execution_count": 0,
      "outputs": [
        {
          "output_type": "display_data",
          "data": {
            "image/png": "[encoded data removed]",
            "text/plain": [
              "<Figure size 576x288 with 2 Axes>"
            ]
          },
          "metadata": {
            "tags": []
          }
        }
      ]
    },
    {
      "cell_type": "markdown",
      "metadata": {
        "colab_type": "text",
        "id": "inOBrr_CLCOi"
      },
      "source": [
        "# Tester"
      ]
    },
    {
      "cell_type": "markdown",
      "metadata": {
        "colab_type": "text",
        "id": "czW8KffXP2Aw"
      },
      "source": [
        "## Class"
      ]
    },
    {
      "cell_type": "code",
      "metadata": {
        "colab_type": "code",
        "id": "Wg1OJy_UtFXP",
        "colab": {}
      },
      "source": [
        "class Tester:\n",
        "    def __init__(self,name1, model1, type1,name2, model2, type2, classes):\n",
        "        self.models={}\n",
        "        self.models[name1]=MyModel(model1,type1)\n",
        "        self.models[name2]=MyModel(model2,type2)\n",
        "        self.classes=classes\n",
        "    def __repr__():\n",
        "        return self.models.__repr__()+'\\n'+self.classes.__repr__()\n",
        "    def lime_test_case(self, model,case,y, filename=None):\n",
        "        explainer = lime_image.LimeImageExplainer(verbose = False)\n",
        "        explain=explainer.explain_instance\n",
        "        explanation = explain(np.array([[[x[0],x[0],x[0]]\n",
        "                                            for x in y]\n",
        "                                        for y in case]), \n",
        "                                classifier_fn =self.models[model].predict, \n",
        "                                top_labels=10,\n",
        "                                hide_color=0,\n",
        "                                num_samples=10000,\n",
        "                                segmentation_fn=segmenter,\n",
        "                                labels=np.array([str(x) \n",
        "                                            for x in range(10)]))\n",
        "        print(y)\n",
        "        print(np.where(y==1))\n",
        "        try:\n",
        "            temp, mask = explanation.get_image_and_mask(int(np.where(y==1)[0]),\n",
        "                                                        positive_only=True,\n",
        "                                                        num_features=10,\n",
        "                                                        hide_rest=False,\n",
        "                                                        min_weight = 0.01)\n",
        "            print(self.models[model].ty)\n",
        "            fig, (ax1, ax2) = plt.subplots(1,2, figsize = (8, 4))\n",
        "            ax1.imshow(label2rgb(mask,temp, bg_label = 0), \n",
        "                       interpolation = 'nearest')\n",
        "            ax1.set_title('Positive Regions for {}'.format(np.where(y==1)[0]))\n",
        "            temp, mask = explanation.get_image_and_mask(int(np.where(y==1)[0]),\n",
        "                                                        positive_only=False,\n",
        "                                                        num_features=10,\n",
        "                                                        hide_rest=False,\n",
        "                                                        min_weight = 0.01)\n",
        "            ax2.imshow(label2rgb(3-mask,\n",
        "                                 temp,\n",
        "                                 bg_label = 0),\n",
        "                        interpolation = 'nearest')\n",
        "            ax2.set_title('Positive/Negative Regions for {}'.format(int(\n",
        "                np.where(y==1)[0])))\n",
        "        except:\n",
        "            temp, mask = explanation.get_image_and_mask(0,\n",
        "                                                        positive_only=True,\n",
        "                                                        num_features=10,\n",
        "                                                        hide_rest=False,\n",
        "                                                        min_weight = 0.01)\n",
        "            print(self.models[model].ty)\n",
        "            fig, (ax1, ax2) = plt.subplots(1,2, figsize = (8, 4))\n",
        "            ax1.imshow(label2rgb(mask,temp, bg_label = 0), \n",
        "                       interpolation = 'nearest')\n",
        "            ax1.set_title('Positive Regions for {}'.format(0))\n",
        "            temp, mask = explanation.get_image_and_mask(int(0),\n",
        "                                                        positive_only=False,\n",
        "                                                        num_features=10,\n",
        "                                                        hide_rest=False,\n",
        "                                                        min_weight = 0.01)\n",
        "            ax2.imshow(label2rgb(3-mask,\n",
        "                                 temp,\n",
        "                                 bg_label = 0),\n",
        "                        interpolation = 'nearest')\n",
        "            ax2.set_title('Positive/Negative Regions for {}'.format(int(0)))\n",
        "        if(filename!=None):\n",
        "            plt.savefig(filename)\n",
        "        plt.show()\n",
        "    \n",
        "    \n",
        "    \n",
        "    \n",
        "    \n",
        "    def plot_confusion_matrix(self, y_true, y_pred, classes,\n",
        "                                normalize=False,\n",
        "                                title=None,\n",
        "                                filename='test.pdf',\n",
        "                                dirname='',\n",
        "                                cmap=plt.cm.Blues):\n",
        "        \"\"\"\n",
        "        This function prints and plots the confusion matrix.\n",
        "        Normalization can be applied by setting `normalize=True`.\n",
        "        \"\"\"\n",
        "        if not title:\n",
        "            if normalize:\n",
        "                title = 'Normalized confusion matrix'\n",
        "            else:\n",
        "                title = 'Confusion matrix, without normalization'\n",
        "\n",
        "        # Compute confusion matrix\n",
        "        cm = confusion_matrix(y_true, y_pred)\n",
        "        # Only use the labels that appear in the data\n",
        "\n",
        "        classes = classes[unique_labels(y_true, y_pred)]\n",
        "        print('classes:', classes)\n",
        "        if normalize:\n",
        "            cm = cm.astype('float') / cm.sum(axis=1)[:, np.newaxis]\n",
        "            print(\"Normalized confusion matrix\")\n",
        "        else:\n",
        "            print('Confusion matrix, without normalization')\n",
        "\n",
        "        print(cm)\n",
        "\n",
        "        fig, ax = plt.subplots(figsize=(20,20))\n",
        "        im = ax.imshow(cm, interpolation='nearest', cmap=cmap)\n",
        "        ax.figure.colorbar(im, ax=ax)\n",
        "        # We want to show all ticks...\n",
        "        ax.set(xticks=np.arange(cm.shape[1]),\n",
        "                yticks=np.arange(cm.shape[0]),\n",
        "                # ... and label them with the respective list entries\n",
        "                xticklabels=classes, yticklabels=classes,\n",
        "                title=title,\n",
        "                ylabel='True label',\n",
        "                xlabel='Predicted label')\n",
        "\n",
        "        # Rotate the tick labels and set their alignment.\n",
        "        plt.setp(ax.get_xticklabels(), rotation=45, ha=\"right\",\n",
        "                    rotation_mode=\"anchor\")\n",
        "\n",
        "        # Loop over data dimensions and create text annotations.\n",
        "        fmt = '.2f' if normalize else 'd'\n",
        "        thresh = cm.max() / 2.\n",
        "        for i in range(cm.shape[0]):\n",
        "            for j in range(cm.shape[1]):\n",
        "                ax.text(j, i, format(cm[i, j], fmt),\n",
        "                        ha=\"center\", va=\"center\",\n",
        "                        color=\"white\" if cm[i, j] > thresh else \"black\")\n",
        "        fig.tight_layout()\n",
        "        plt.savefig(dirname+filename)\n",
        "        plt.show()\n",
        "        return ax\n",
        "    def confmatrix_test(self,x_train,x_test,y_train,y_test):\n",
        "        proy_train=[np.where(y==np.max(y))[0][0] for y in y_train]\n",
        "        proy_test=[np.where(y==np.max(y))[0][0] for y in y_test]\n",
        "        filenames={}\n",
        "        for name,model in self.models.items():\n",
        "            print(name, 'runing predictors')\n",
        "            pred_train= [np.where(y==np.max(y))[0][0]\n",
        "                         for y in model.predict(x_train)]\n",
        "            pred_test= [np.where(y==np.max(y))[0][0]\n",
        "                        for y in model.predict(x_test)]\n",
        "            print(pred_train[0],pred_test[0])\n",
        "            filenames[name]={}\n",
        "            filenames[name]['conf']={'tr': name+'trainconf.png',\n",
        "                                     'ts': name+'testconf.png'}\n",
        "            print('generating conf matrices')\n",
        "            self.plot_confusion_matrix(proy_train,\n",
        "                                       pred_train,\n",
        "                                       self.classes,\n",
        "                                       title=name+'training confution matrix',\n",
        "                                       filename=name+'trainconf.png')\n",
        "            self.plot_confusion_matrix(proy_test,\n",
        "                                       pred_test,\n",
        "                                       self.classes,\n",
        "                                       title=name+'test confution matrix',\n",
        "                                       filename=name+'testconf.png')\n",
        "            \n",
        "        return filenames\n",
        "\n",
        "\n",
        "    def stats(self,x_train,x_test,y_train,y_test,loss='mse'):\n",
        "        proy_train=[np.where(y==np.max(y))[0][0] for y in y_train]\n",
        "        proy_test=[np.where(y==np.max(y))[0][0] for y in y_test]\n",
        "        scores={}\n",
        "        names=list(self.models.keys())\n",
        "        for name,model in self.models.items():\n",
        "            pred_train= model.predict(x_train)\n",
        "            pred_test= model.predict(x_test)\n",
        "            pred1_train= [np.where(y==np.max(y))[0][0]\n",
        "                         for y in pred_train]\n",
        "            pred1_test= [np.where(y==np.max(y))[0][0]\n",
        "                        for y in pred_test]\n",
        "            with open('preddata.pkl','wb') as f:\n",
        "                pk.dump([proy_train,\n",
        "                         proy_test,\n",
        "                         pred_train,\n",
        "                         pred_test,\n",
        "                         pred1_train,\n",
        "                         pred1_test],\n",
        "                        f)\n",
        "            scores[name]={}\n",
        "            scores[name]['acc']={'tr':accuracy_score(proy_train,pred1_train),\n",
        "                                'ts':accuracy_score(proy_test,pred1_test)}\n",
        "            scores[name]['loss']={\n",
        "                                  'tr':mean_squared_log_error(np.array(y_train),\n",
        "                                                              np.array(pred_train)),\n",
        "                                  'ts':mean_squared_log_error(np.array(y_test),\n",
        "                                                              np.array(pred_test))}\n",
        "        accnames=[names[0]+' training',names[0]+ ' test',names[1]+' training',names[1]+ ' test']\n",
        "        accvals=[scores[names[0]]['acc']['tr'],scores[names[0]]['acc']['ts'],scores[names[1]]['acc']['tr'],scores[names[1]]['acc']['ts']]\n",
        "        lossnames=[names[0]+' training',names[0]+ ' test',names[1]+' training',names[1]+ ' test']\n",
        "        lossvals=[scores[names[0]]['loss']['tr'],scores[names[0]]['loss']['ts'],scores[names[1]]['loss']['tr'],scores[names[1]]['loss']['ts']]\n",
        "        print(accnames)\n",
        "        print(accvals)\n",
        "        print(lossnames)\n",
        "        print(lossvals)\n",
        "        plt.bar(accnames,accvals)\n",
        "        plt.savefig('acc.png')\n",
        "        plt.show()\n",
        "        plt.bar(lossnames,lossvals)\n",
        "        plt.savefig('loss.png')\n",
        "        plt.show()\n",
        "        return scores\n",
        "\n",
        "    def lime_test(self,cases,Y,datasetname=None):\n",
        "        filenames={}\n",
        "        for case,n,y in zip(cases,range(len(cases)),Y):\n",
        "            print(n)\n",
        "            filenames[str(n)]={}\n",
        "            self.lime_test_case(list(self.models.keys())[0],\n",
        "                                case,\n",
        "                                y,\n",
        "                                str(list(self.models.keys())[0])+datasetname+'lime'+str(n)+'.png')\n",
        "            \n",
        "            self.lime_test_case(list(self.models.keys())[1],\n",
        "                                case,\n",
        "                                y,\n",
        "                                list(self.models.keys())[1]+datasetname+'lime'+str(n)+'.png')\n",
        "            filenames[str(n)]={list(self.models.keys())[0]:\n",
        "                               list(self.models.keys())[0]+datasetname+'lime'+str(n)+'.png',\n",
        "                               list(self.models.keys())[1]:\n",
        "                               list(self.models.keys())[1]+datasetname+'lime'+str(n)+'.png',\n",
        "                               }\n",
        "        return filenames\n",
        "    \n",
        "    \n",
        "    \n",
        "    def find_lime_cases(self,x,y):\n",
        "        y_proc=[np.where(x==np.max(x))[0] for x in y]\n",
        "        cases={}\n",
        "        for name,model in self.models.items():\n",
        "            pred=model.predict(x)\n",
        "            sel=[np.where(x==np.max(x))[0] for x in pred]\n",
        "            cases[name]={}\n",
        "            cases[name]['correct']=[]\n",
        "            cases[name]['incorrect']=[]\n",
        "            for y_pred,y_true,n in zip(sel,y_proc,range(len(y_proc))):\n",
        "                if(y_pred[0]==y_true[0]):\n",
        "                    cases[name]['correct']=cases[name]['correct']+[n]\n",
        "                else:\n",
        "                    cases[name]['incorrect']=cases[name]['incorrect']+[n]\n",
        "        test_cases={'cc':-1,'ci':-1,'ic':-1,'ii':-1}\n",
        "        names=list(cases.keys())\n",
        "        print(names[0])\n",
        "        for case in cases[names[0]]['correct']:\n",
        "            if(case in cases[names[1]]['correct']):\n",
        "                test_cases['cc']=case\n",
        "                break\n",
        "        for case in cases[names[0]]['correct']:\n",
        "            if(case in cases[names[1]]['incorrect']):\n",
        "                test_cases['ci']=case\n",
        "                break\n",
        "        for case in cases[names[0]]['incorrect']:\n",
        "            if(case in cases[names[1]]['correct']):\n",
        "                test_cases['ic']=case\n",
        "                break\n",
        "        for case in cases[names[0]]['incorrect']:\n",
        "            if(case in cases[names[1]]['incorrect']):\n",
        "                test_cases['ii']=case\n",
        "                break\n",
        "        return test_cases\n",
        "    def run_test(self,x_train,x_test,y_train,y_test):\n",
        "        print('finding test cases')\n",
        "        casests=self.find_lime_cases(x_test,y_test)\n",
        "        xselts=[x_test[case]for t,case in casests.items()]\n",
        "        yselts=[y_test[case]for t,case in casests.items()]\n",
        "        print(list(self.models.keys()))\n",
        "        ciy=self.models[list(self.models.keys())[1]].predict([x_test[casests['ci']]])\n",
        "        icy=self.models[list(self.models.keys())[0]].predict([x_test[casests['ic']]])\n",
        "        ii1y=self.models[list(self.models.keys())[1]].predict([x_test[casests['ii']]])\n",
        "        ii2y=self.models[list(self.models.keys())[0]].predict([x_test[casests['ii']]])\n",
        "        xselts=xselts+xselts[1:]+xselts[-1:]\n",
        "        yselts=yselts+[ciy,icy,ii1y,ii2y]\n",
        "        print('running lime test')\n",
        "        filenamests=self.lime_test(xselts,yselts,'ts')\n",
        "        print('running conf test')\n",
        "        conffilenames=self.confmatrix_test(x_train,x_test,y_train,y_test)\n",
        "        print('running stats test')\n",
        "        stats=self.stats(x_train,x_test,y_train,y_test)\n",
        "        print('done')\n",
        "        limeinfo={\n",
        "            'cc':np.where(yselts[0]==np.max(yselts[0])),\n",
        "            'ci':[\n",
        "                np.where(yselts[0]==np.max(yselts[0])),\n",
        "                np.where(ciy==np.max(ciy))],\n",
        "            'ic':[\n",
        "                np.where(yselts[0]==np.max(yselts[0])),\n",
        "                np.where(ciy==np.max(ciy))],\n",
        "            'ii':[\n",
        "                np.where(yselts[0]==np.max(yselts[0])),\n",
        "                np.where(ciy==np.max(ciy)),\n",
        "                np.where(ciy==np.max(ciy))]\n",
        "        }\n",
        "        print(limeinfo,filenamests,conffilenames,stats)\n",
        "        return limeinfo,filenamests,conffilenames,stats\n",
        "   # def generate_report(self, filenamestr,filenamests,conffilenames,stats):\n",
        "        "
      ],
      "execution_count": 0,
      "outputs": []
    },
    {
      "cell_type": "markdown",
      "metadata": {
        "colab_type": "text",
        "id": "d5p9qjyqP6lO"
      },
      "source": [
        "## commands"
      ]
    },
    {
      "cell_type": "code",
      "metadata": {
        "colab_type": "code",
        "id": "zcUHZbmBKKZC",
        "colab": {}
      },
      "source": [
        "tester=Tester('ANN',model,'ann','RF',rdm_forest,'rf',np.array([str(x) for x in range(10)]))"
      ],
      "execution_count": 0,
      "outputs": []
    },
    {
      "cell_type": "code",
      "metadata": {
        "id": "w8O8yDsJWWRj",
        "colab_type": "code",
        "colab": {}
      },
      "source": [
        ""
      ],
      "execution_count": 0,
      "outputs": []
    },
    {
      "cell_type": "code",
      "metadata": {
        "colab_type": "code",
        "id": "lidY1tn6Kf-u",
        "outputId": "11890f35-ee0e-4aa2-95b8-ea447da62244",
        "scrolled": true,
        "colab": {
          "base_uri": "https://localhost:8080/",
          "height": 1000
        }
      },
      "source": [
        "%%time\n",
        "limeinfo,filenamests,conffilenames,stats=tester.run_test(x_train,x_test,y_train,y_test)"
      ],
      "execution_count": 0,
      "outputs": [
        {
          "output_type": "stream",
          "text": [
            "finding test cases\n"
          ],
          "name": "stdout"
        },
        {
          "output_type": "stream",
          "text": [
            ""
          ],
          "name": "stderr"
        },
        {
          "output_type": "stream",
          "text": [
            "ANN\n",
            "['ANN', 'RF']\n",
            "running lime test\n",
            "0\n"
          ],
          "name": "stdout"
        },
        {
          "output_type": "stream",
          "text": [
            "\n"
          ],
          "name": "stderr"
        },
        {
          "output_type": "stream",
          "text": [
            "[0. 0. 0. 0. 0. 0. 0. 1. 0. 0.]\n",
            "(array([7]),)\n",
            "ann\n"
          ],
          "name": "stdout"
        },
        {
          "output_type": "display_data",
          "data": {
            "image/png": "[encoded data removed]",
            "text/plain": [
              "<Figure size 576x288 with 2 Axes>"
            ]
          },
          "metadata": {
            "tags": []
          }
        },
        {
          "output_type": "stream",
          "text": [
            "\n"
          ],
          "name": "stderr"
        },
        {
          "output_type": "stream",
          "text": [
            "[0. 0. 0. 0. 0. 0. 0. 1. 0. 0.]\n",
            "(array([7]),)\n",
            "rf\n"
          ],
          "name": "stdout"
        },
        {
          "output_type": "display_data",
          "data": {
            "image/png": "[encoded data removed]",
            "text/plain": [
              "<Figure size 576x288 with 2 Axes>"
            ]
          },
          "metadata": {
            "tags": []
          }
        },
        {
          "output_type": "stream",
          "text": [
            ""
          ],
          "name": "stderr"
        },
        {
          "output_type": "stream",
          "text": [
            "1\n"
          ],
          "name": "stdout"
        },
        {
          "output_type": "stream",
          "text": [
            "\n"
          ],
          "name": "stderr"
        },
        {
          "output_type": "stream",
          "text": [
            "[0. 0. 0. 0. 0. 1. 0. 0. 0. 0.]\n",
            "(array([5]),)\n",
            "ann\n"
          ],
          "name": "stdout"
        },
        {
          "output_type": "display_data",
          "data": {
            "image/png": "[encoded data removed]",
            "text/plain": [
              "<Figure size 576x288 with 2 Axes>"
            ]
          },
          "metadata": {
            "tags": []
          }
        },
        {
          "output_type": "stream",
          "text": [
            "\n"
          ],
          "name": "stderr"
        },
        {
          "output_type": "stream",
          "text": [
            "[0. 0. 0. 0. 0. 1. 0. 0. 0. 0.]\n",
            "(array([5]),)\n",
            "rf\n"
          ],
          "name": "stdout"
        },
        {
          "output_type": "display_data",
          "data": {
            "image/png": "[encoded data removed]",
            "text/plain": [
              "<Figure size 576x288 with 2 Axes>"
            ]
          },
          "metadata": {
            "tags": []
          }
        },
        {
          "output_type": "stream",
          "text": [
            ""
          ],
          "name": "stderr"
        },
        {
          "output_type": "stream",
          "text": [
            "2\n"
          ],
          "name": "stdout"
        },
        {
          "output_type": "stream",
          "text": [
            "\n"
          ],
          "name": "stderr"
        },
        {
          "output_type": "stream",
          "text": [
            "[0. 0. 0. 0. 1. 0. 0. 0. 0. 0.]\n",
            "(array([4]),)\n",
            "ann\n"
          ],
          "name": "stdout"
        },
        {
          "output_type": "display_data",
          "data": {
            "image/png": "[encoded data removed]",
            "text/plain": [
              "<Figure size 576x288 with 2 Axes>"
            ]
          },
          "metadata": {
            "tags": []
          }
        },
        {
          "output_type": "stream",
          "text": [
            "\n"
          ],
          "name": "stderr"
        },
        {
          "output_type": "stream",
          "text": [
            "[0. 0. 0. 0. 1. 0. 0. 0. 0. 0.]\n",
            "(array([4]),)\n",
            "rf\n"
          ],
          "name": "stdout"
        },
        {
          "output_type": "display_data",
          "data": {
            "image/png": "[encoded data removed]",
            "text/plain": [
              "<Figure size 576x288 with 2 Axes>"
            ]
          },
          "metadata": {
            "tags": []
          }
        },
        {
          "output_type": "stream",
          "text": [
            ""
          ],
          "name": "stderr"
        },
        {
          "output_type": "stream",
          "text": [
            "3\n"
          ],
          "name": "stdout"
        },
        {
          "output_type": "stream",
          "text": [
            "\n"
          ],
          "name": "stderr"
        },
        {
          "output_type": "stream",
          "text": [
            "[0. 0. 0. 0. 1. 0. 0. 0. 0. 0.]\n",
            "(array([4]),)\n",
            "ann\n"
          ],
          "name": "stdout"
        },
        {
          "output_type": "display_data",
          "data": {
            "image/png": "[encoded data removed]",
            "text/plain": [
              "<Figure size 576x288 with 2 Axes>"
            ]
          },
          "metadata": {
            "tags": []
          }
        },
        {
          "output_type": "stream",
          "text": [
            "\n"
          ],
          "name": "stderr"
        },
        {
          "output_type": "stream",
          "text": [
            "[0. 0. 0. 0. 1. 0. 0. 0. 0. 0.]\n",
            "(array([4]),)\n",
            "rf\n"
          ],
          "name": "stdout"
        },
        {
          "output_type": "display_data",
          "data": {
            "image/png": "[encoded data removed]",
            "text/plain": [
              "<Figure size 576x288 with 2 Axes>"
            ]
          },
          "metadata": {
            "tags": []
          }
        },
        {
          "output_type": "stream",
          "text": [
            ""
          ],
          "name": "stderr"
        },
        {
          "output_type": "stream",
          "text": [
            "4\n"
          ],
          "name": "stdout"
        },
        {
          "output_type": "stream",
          "text": [
            "\n"
          ],
          "name": "stderr"
        },
        {
          "output_type": "stream",
          "text": [
            "[[0. 0. 0. 0. 0. 0. 0. 0. 0. 0.]]\n",
            "(array([], dtype=int64), array([], dtype=int64))\n",
            "ann\n"
          ],
          "name": "stdout"
        },
        {
          "output_type": "display_data",
          "data": {
            "image/png": "[encoded data removed]",
            "text/plain": [
              "<Figure size 576x288 with 2 Axes>"
            ]
          },
          "metadata": {
            "tags": []
          }
        },
        {
          "output_type": "stream",
          "text": [
            "\n"
          ],
          "name": "stderr"
        },
        {
          "output_type": "stream",
          "text": [
            "[[0. 0. 0. 0. 0. 0. 0. 0. 0. 0.]]\n",
            "(array([], dtype=int64), array([], dtype=int64))\n",
            "rf\n"
          ],
          "name": "stdout"
        },
        {
          "output_type": "display_data",
          "data": {
            "image/png": "[encoded data removed]",
            "text/plain": [
              "<Figure size 576x288 with 2 Axes>"
            ]
          },
          "metadata": {
            "tags": []
          }
        },
        {
          "output_type": "stream",
          "text": [
            ""
          ],
          "name": "stderr"
        },
        {
          "output_type": "stream",
          "text": [
            "5\n"
          ],
          "name": "stdout"
        },
        {
          "output_type": "stream",
          "text": [
            "\n"
          ],
          "name": "stderr"
        },
        {
          "output_type": "stream",
          "text": [
            "[[1.5497120e-05 1.7918472e-05 1.8318581e-04 1.7703239e-04 4.1121680e-01\n",
            "  5.2071380e-04 1.1172973e-04 3.7135673e-03 1.7533071e-03 5.8229023e-01]]\n",
            "(array([], dtype=int64), array([], dtype=int64))\n",
            "ann\n"
          ],
          "name": "stdout"
        },
        {
          "output_type": "display_data",
          "data": {
            "image/png": "[encoded data removed]",
            "text/plain": [
              "<Figure size 576x288 with 2 Axes>"
            ]
          },
          "metadata": {
            "tags": []
          }
        },
        {
          "output_type": "stream",
          "text": [
            "\n"
          ],
          "name": "stderr"
        },
        {
          "output_type": "stream",
          "text": [
            "[[1.5497120e-05 1.7918472e-05 1.8318581e-04 1.7703239e-04 4.1121680e-01\n",
            "  5.2071380e-04 1.1172973e-04 3.7135673e-03 1.7533071e-03 5.8229023e-01]]\n",
            "(array([], dtype=int64), array([], dtype=int64))\n",
            "rf\n"
          ],
          "name": "stdout"
        },
        {
          "output_type": "display_data",
          "data": {
            "image/png": "[encoded data removed]",
            "text/plain": [
              "<Figure size 576x288 with 2 Axes>"
            ]
          },
          "metadata": {
            "tags": []
          }
        },
        {
          "output_type": "stream",
          "text": [
            ""
          ],
          "name": "stderr"
        },
        {
          "output_type": "stream",
          "text": [
            "6\n"
          ],
          "name": "stdout"
        },
        {
          "output_type": "stream",
          "text": [
            "\n"
          ],
          "name": "stderr"
        },
        {
          "output_type": "stream",
          "text": [
            "[[0. 0. 0. 0. 0. 0. 0. 0. 0. 0.]]\n",
            "(array([], dtype=int64), array([], dtype=int64))\n",
            "ann\n"
          ],
          "name": "stdout"
        },
        {
          "output_type": "display_data",
          "data": {
            "image/png": "[encoded data removed]",
            "text/plain": [
              "<Figure size 576x288 with 2 Axes>"
            ]
          },
          "metadata": {
            "tags": []
          }
        },
        {
          "output_type": "stream",
          "text": [
            "\n"
          ],
          "name": "stderr"
        },
        {
          "output_type": "stream",
          "text": [
            "[[0. 0. 0. 0. 0. 0. 0. 0. 0. 0.]]\n",
            "(array([], dtype=int64), array([], dtype=int64))\n",
            "rf\n"
          ],
          "name": "stdout"
        },
        {
          "output_type": "display_data",
          "data": {
            "image/png": "[encoded data removed]",
            "text/plain": [
              "<Figure size 576x288 with 2 Axes>"
            ]
          },
          "metadata": {
            "tags": []
          }
        },
        {
          "output_type": "stream",
          "text": [
            ""
          ],
          "name": "stderr"
        },
        {
          "output_type": "stream",
          "text": [
            "7\n"
          ],
          "name": "stdout"
        },
        {
          "output_type": "stream",
          "text": [
            "\n"
          ],
          "name": "stderr"
        },
        {
          "output_type": "stream",
          "text": [
            "[[3.6109894e-05 4.1950851e-05 2.7050532e-05 6.6455985e-05 1.5090431e-01\n",
            "  1.4177446e-02 4.0833242e-03 1.5981188e-04 1.1864534e-03 8.2931709e-01]]\n",
            "(array([], dtype=int64), array([], dtype=int64))\n",
            "ann\n"
          ],
          "name": "stdout"
        },
        {
          "output_type": "display_data",
          "data": {
            "image/png": "[encoded data removed]",
            "text/plain": [
              "<Figure size 576x288 with 2 Axes>"
            ]
          },
          "metadata": {
            "tags": []
          }
        },
        {
          "output_type": "stream",
          "text": [
            "\n"
          ],
          "name": "stderr"
        },
        {
          "output_type": "stream",
          "text": [
            "[[3.6109894e-05 4.1950851e-05 2.7050532e-05 6.6455985e-05 1.5090431e-01\n",
            "  1.4177446e-02 4.0833242e-03 1.5981188e-04 1.1864534e-03 8.2931709e-01]]\n",
            "(array([], dtype=int64), array([], dtype=int64))\n",
            "rf\n"
          ],
          "name": "stdout"
        },
        {
          "output_type": "display_data",
          "data": {
            "image/png": "[encoded data removed]",
            "text/plain": [
              "<Figure size 576x288 with 2 Axes>"
            ]
          },
          "metadata": {
            "tags": []
          }
        },
        {
          "output_type": "stream",
          "text": [
            "running conf test\n",
            "ANN runing predictors\n",
            "5 7\n",
            "generating conf matrices\n",
            "classes: ['0' '1' '2' '3' '4' '5' '6' '7' '8' '9']\n",
            "Confusion matrix, without normalization\n",
            "[[5863    0   23    1    1   21    4    0    3    7]\n",
            " [   1 6639   40   18    5    2    3   16   16    2]\n",
            " [   1    3 5888   22    7    0    0   17   13    7]\n",
            " [   0    0   20 6062    0   20    1   13    4   11]\n",
            " [   4   14   19    1 5586    2   29   13   10  164]\n",
            " [   5    1    6   24    0 5375    6    0    1    3]\n",
            " [  21    6    2    4    3  124 5752    0    6    0]\n",
            " [   6    8   50   23   13    2    0 6131    6   26]\n",
            " [   7   10   31   40    1   96    6    4 5609   47]\n",
            " [  10    4    4   60    5   36    0   29    8 5793]]\n"
          ],
          "name": "stdout"
        },
        {
          "output_type": "display_data",
          "data": {
            "image/png": "[encoded data removed]",
            "text/plain": [
              "<Figure size 1440x1440 with 2 Axes>"
            ]
          },
          "metadata": {
            "tags": []
          }
        },
        {
          "output_type": "stream",
          "text": [
            "classes: ['0' '1' '2' '3' '4' '5' '6' '7' '8' '9']\n",
            "Confusion matrix, without normalization\n",
            "[[ 975    0    1    0    0    1    1    1    1    0]\n",
            " [   0 1125    1    4    0    1    2    0    2    0]\n",
            " [   2    2 1018    5    0    0    0    3    2    0]\n",
            " [   0    0    2 1001    0    3    0    3    1    0]\n",
            " [   0    1    5    0  941    0    4    2    2   27]\n",
            " [   1    0    0    8    0  881    2    0    0    0]\n",
            " [   9    3    2    1    1   21  921    0    0    0]\n",
            " [   1    2   14    5    0    1    0  997    2    6]\n",
            " [   4    0    3    8    1   12    0    4  935    7]\n",
            " [   2    4    1    8    1   11    1    5    3  973]]\n"
          ],
          "name": "stdout"
        },
        {
          "output_type": "display_data",
          "data": {
            "image/png": "[encoded data removed]",
            "text/plain": [
              "<Figure size 1440x1440 with 2 Axes>"
            ]
          },
          "metadata": {
            "tags": []
          }
        },
        {
          "output_type": "stream",
          "text": [
            "RF runing predictors\n",
            "5 7\n",
            "generating conf matrices\n",
            "classes: ['0' '1' '2' '3' '4' '5' '6' '7' '8' '9']\n",
            "Confusion matrix, without normalization\n",
            "[[5923    0    0    0    0    0    0    0    0    0]\n",
            " [   0 6742    0    0    0    0    0    0    0    0]\n",
            " [   0    0 5958    0    0    0    0    0    0    0]\n",
            " [   0    0    0 6131    0    0    0    0    0    0]\n",
            " [   0    0    0    0 5842    0    0    0    0    0]\n",
            " [   0    0    0    0    0 5421    0    0    0    0]\n",
            " [   0    0    0    0    0    0 5918    0    0    0]\n",
            " [   0    0    0    0    0    0    0 6265    0    0]\n",
            " [   0    0    0    0    0    0    0    0 5851    0]\n",
            " [   0    0    0    0    0    0    0    0    0 5949]]\n"
          ],
          "name": "stdout"
        },
        {
          "output_type": "display_data",
          "data": {
            "image/png": "[encoded data removed]",
            "text/plain": [
              "<Figure size 1440x1440 with 2 Axes>"
            ]
          },
          "metadata": {
            "tags": []
          }
        },
        {
          "output_type": "stream",
          "text": [
            "classes: ['0' '1' '2' '3' '4' '5' '6' '7' '8' '9']\n",
            "Confusion matrix, without normalization\n",
            "[[ 979    0    0    0    0    0    0    1    0    0]\n",
            " [  22 1112    0    1    0    0    0    0    0    0]\n",
            " [ 103    0  923    0    0    0    1    4    1    0]\n",
            " [ 122    0    2  878    0    1    0    4    3    0]\n",
            " [  93    0    0    0  881    0    0    0    1    7]\n",
            " [ 124    0    0    1    0  766    0    1    0    0]\n",
            " [  61    1    0    0    1    0  895    0    0    0]\n",
            " [  84    0    8    0    0    0    0  935    0    1]\n",
            " [ 154    0    0    0    1    0    0    0  817    2]\n",
            " [ 116    1    0    0    3    0    0    1    0  888]]\n"
          ],
          "name": "stdout"
        },
        {
          "output_type": "display_data",
          "data": {
            "image/png": "[encoded data removed]",
            "text/plain": [
              "<Figure size 1440x1440 with 2 Axes>"
            ]
          },
          "metadata": {
            "tags": []
          }
        },
        {
          "output_type": "stream",
          "text": [
            "running stats test\n",
            "['ANN training', 'ANN test', 'RF training', 'RF test']\n",
            "[0.9783, 0.9767, 1.0, 0.9074]\n",
            "['ANN training', 'ANN test', 'RF training', 'RF test']\n",
            "[0.0016569004, 0.0016778869, 0.0, 0.004833361]\n"
          ],
          "name": "stdout"
        },
        {
          "output_type": "display_data",
          "data": {
            "image/png": "[encoded data removed]",
            "text/plain": [
              "<Figure size 432x288 with 1 Axes>"
            ]
          },
          "metadata": {
            "tags": []
          }
        },
        {
          "output_type": "display_data",
          "data": {
            "image/png": "[encoded data removed]",
            "text/plain": [
              "<Figure size 432x288 with 1 Axes>"
            ]
          },
          "metadata": {
            "tags": []
          }
        },
        {
          "output_type": "stream",
          "text": [
            "done\n",
            "{'cc': (array([7]),), 'ci': [(array([7]),), (array([0, 0, 0, 0, 0, 0, 0, 0, 0, 0]), array([0, 1, 2, 3, 4, 5, 6, 7, 8, 9]))], 'ic': [(array([7]),), (array([0, 0, 0, 0, 0, 0, 0, 0, 0, 0]), array([0, 1, 2, 3, 4, 5, 6, 7, 8, 9]))], 'ii': [(array([7]),), (array([0, 0, 0, 0, 0, 0, 0, 0, 0, 0]), array([0, 1, 2, 3, 4, 5, 6, 7, 8, 9])), (array([0, 0, 0, 0, 0, 0, 0, 0, 0, 0]), array([0, 1, 2, 3, 4, 5, 6, 7, 8, 9]))]} {'0': {'ANN': 'ANNtslime0.png', 'RF': 'RFtslime0.png'}, '1': {'ANN': 'ANNtslime1.png', 'RF': 'RFtslime1.png'}, '2': {'ANN': 'ANNtslime2.png', 'RF': 'RFtslime2.png'}, '3': {'ANN': 'ANNtslime3.png', 'RF': 'RFtslime3.png'}, '4': {'ANN': 'ANNtslime4.png', 'RF': 'RFtslime4.png'}, '5': {'ANN': 'ANNtslime5.png', 'RF': 'RFtslime5.png'}, '6': {'ANN': 'ANNtslime6.png', 'RF': 'RFtslime6.png'}, '7': {'ANN': 'ANNtslime7.png', 'RF': 'RFtslime7.png'}} {'ANN': {'conf': {'tr': 'ANNtrainconf.png', 'ts': 'ANNtestconf.png'}}, 'RF': {'conf': {'tr': 'RFtrainconf.png', 'ts': 'RFtestconf.png'}}} {'ANN': {'acc': {'tr': 0.9783, 'ts': 0.9767}, 'loss': {'tr': 0.0016569004, 'ts': 0.0016778869}}, 'RF': {'acc': {'tr': 1.0, 'ts': 0.9074}, 'loss': {'tr': 0.0, 'ts': 0.004833361}}}\n",
            "CPU times: user 5min 58s, sys: 11.8 s, total: 6min 10s\n",
            "Wall time: 5min 53s\n"
          ],
          "name": "stdout"
        }
      ]
    },
    {
      "cell_type": "code",
      "metadata": {
        "colab_type": "code",
        "id": "rdN8JXL-l3AG",
        "outputId": "d948646a-373a-45a3-dbf0-001e45a3a54b",
        "colab": {
          "base_uri": "https://localhost:8080/",
          "height": 555
        }
      },
      "source": [
        "from tensorflow.python.client import device_lib\n",
        "print(device_lib.list_local_devices())"
      ],
      "execution_count": 0,
      "outputs": [
        {
          "output_type": "stream",
          "text": [
            "[name: \"/device:CPU:0\"\n",
            "device_type: \"CPU\"\n",
            "memory_limit: 268435456\n",
            "locality {\n",
            "}\n",
            "incarnation: 5598130266837594909\n",
            ", name: \"/device:XLA_CPU:0\"\n",
            "device_type: \"XLA_CPU\"\n",
            "memory_limit: 17179869184\n",
            "locality {\n",
            "}\n",
            "incarnation: 5723966375410619589\n",
            "physical_device_desc: \"device: XLA_CPU device\"\n",
            ", name: \"/device:XLA_GPU:0\"\n",
            "device_type: \"XLA_GPU\"\n",
            "memory_limit: 17179869184\n",
            "locality {\n",
            "}\n",
            "incarnation: 2959814086015769600\n",
            "physical_device_desc: \"device: XLA_GPU device\"\n",
            ", name: \"/device:GPU:0\"\n",
            "device_type: \"GPU\"\n",
            "memory_limit: 14912199066\n",
            "locality {\n",
            "  bus_id: 1\n",
            "  links {\n",
            "  }\n",
            "}\n",
            "incarnation: 17675411907603423816\n",
            "physical_device_desc: \"device: 0, name: Tesla T4, pci bus id: 0000:00:04.0, compute capability: 7.5\"\n",
            "]\n"
          ],
          "name": "stdout"
        }
      ]
    },
    {
      "cell_type": "code",
      "metadata": {
        "id": "Yfe-EgI2CZbM",
        "colab_type": "code",
        "colab": {}
      },
      "source": [
        "def generate(limeinfo,filenamests,conffilenames,stats,models):\n",
        "    print(limeinfo,\n",
        "          '\\n_________________________________\\n',\n",
        "          filenamests,\n",
        "          '\\n_________________________________\\n',\n",
        "          conffilenames,\n",
        "          '\\n_________________________________\\n',\n",
        "          stats,\n",
        "         '\\n_________________________________\\n')\n",
        "    with open('tamplate.md','r') as f:\n",
        "        template=f.read()\n",
        "    \n",
        "    name1=str(list(models.keys())[0])\n",
        "    name2=str(list(models.keys())[1])\n",
        "    text=template.replace('occ_',str(limeinfo['cc'][0][0]))\n",
        "    \n",
        "    text=text.replace('model1',name1).replace('model2',name2)\n",
        "    print(name1,name2)\n",
        "    # Lime\n",
        "    \n",
        "    \n",
        "    # correct-correct\n",
        "    text=text.replace('_lgcc1_',name1+' true')\n",
        "    text=text.replace('_lgcc2_',name2+' true')\n",
        "    text=text.replace('_filenamelgcc1_',filenamests['0'][name1])\n",
        "    text=text.replace('_filenamelgcc2_',filenamests['0'][name2])\n",
        "    \n",
        "    # correct-incorrect\n",
        "    text=text.replace('oci_',str(limeinfo['ci'][0][0][0]))\n",
        "    text=text.replace('oci2',str(limeinfo['ci'][1][0][0]))\n",
        "    text=text.replace('_lgci1_',name1+' true')\n",
        "    text=text.replace('_lgci2c_',name2+' true')\n",
        "    text=text.replace('_lgci2p_',name2+' predicted')\n",
        "    text=text.replace('_filenamelgci1_',filenamests['1'][name1])\n",
        "    text=text.replace('_filenamelgci2c_',filenamests['1'][name2])    \n",
        "    text=text.replace('_filenamelgci2p_',filenamests['4'][name2])    \n",
        "    \n",
        "    # incorrect-correct\n",
        "    text=text.replace('oic_',str(limeinfo['ic'][0][0][0]))\n",
        "    text=text.replace('oic1',str(limeinfo['ic'][1][0][0]))\n",
        "    text=text.replace('_lgic1c_',name1+' true')\n",
        "    text=text.replace('_lgic1p_',name1+' predicted')\n",
        "    text=text.replace('_lgic2_',name2+' true')\n",
        "    text=text.replace('_filenamelgic1c_',filenamests['2'][name1])\n",
        "    text=text.replace('_filenamelgic1p_',filenamests['5'][name2])    \n",
        "    text=text.replace('_filenamelgic2_',filenamests['2'][name2])    \n",
        "    \n",
        "    # incorrect-incorrect\n",
        "    text=text.replace('oii_',str(limeinfo['ii'][0][0][0]))\n",
        "    text=text.replace('oii1',str(limeinfo['ii'][1][0][0]))\n",
        "    text=text.replace('oii2',str(limeinfo['ii'][2][0][0]))\n",
        "    text=text.replace('_lgii1p_',name1+' predicted')\n",
        "    text=text.replace('_lgii2p_',name2+' predicted')\n",
        "    text=text.replace('_lgii1c_',name1+' true')\n",
        "    text=text.replace('_lgii2c_',name2+' true')\n",
        "    text=text.replace('_filenamelgii1p_',filenamests['3'][name1])\n",
        "    text=text.replace('_filenamelgii1c_',filenamests['3'][name1])\n",
        "    text=text.replace('_filenamelgii2c_',filenamests['6'][name2])    \n",
        "    text=text.replace('_filenamelgii2p_',filenamests['7'][name2])    \n",
        "    \n",
        "    \n",
        "    # conf matrices\n",
        "    text=text.replace('_cg1tr_',name1 +' training confution matrix')\n",
        "    text=text.replace('_cg1ts_',name1 +' test confution matrix')\n",
        "    text=text.replace('_cg2tr_',name2 +' training confution matrix')\n",
        "    text=text.replace('_cg2ts_',name2 +' test confution matrix')\n",
        "    \n",
        "    text=text.replace('_filenamecg1tr_',conffilenames[name1]['conf']['tr'])\n",
        "    text=text.replace('_filenamecg1ts_',conffilenames[name1]['conf']['ts'])\n",
        "    text=text.replace('_filenamecg2tr_',conffilenames[name2]['conf']['tr'])\n",
        "    text=text.replace('_filenamecg2ts_',conffilenames[name2]['conf']['ts'])\n",
        "    # stats\n",
        "    \n",
        "    text=text.replace('tracc1val',str(stats[name1]['acc']['tr']))\n",
        "    text=text.replace('tsacc1val',str(stats[name1]['acc']['ts']))\n",
        "    text=text.replace('tracc2val',str(stats[name2]['acc']['tr']))\n",
        "    text=text.replace('tsacc2val',str(stats[name2]['acc']['ts']))\n",
        "    text=text.replace('trloss1val',str(stats[name1]['loss']['tr']))\n",
        "    text=text.replace('tsloss1val',str(stats[name1]['loss']['ts']))\n",
        "    text=text.replace('trloss2val',str(stats[name2]['loss']['tr']))\n",
        "    text=text.replace('tsloss2val',str(stats[name2]['loss']['ts']))\n",
        "    \n",
        "    text=text.replace('_filenameacc_','acc.png')\n",
        "    text=text.replace('_filenameloss_','loss.png')\n",
        "    print(text)\n",
        "    with open('report.md','w') as f:\n",
        "        f.write(text)\n",
        "    print(text)"
      ],
      "execution_count": 0,
      "outputs": []
    },
    {
      "cell_type": "code",
      "metadata": {
        "id": "rFuoLjZSCZbQ",
        "colab_type": "code",
        "outputId": "564dc176-468f-44f8-9b64-1b4b46c83ef6",
        "colab": {
          "base_uri": "https://localhost:8080/",
          "height": 225
        }
      },
      "source": [
        "limeinfo"
      ],
      "execution_count": 0,
      "outputs": [
        {
          "output_type": "execute_result",
          "data": {
            "text/plain": [
              "{'cc': (array([7]),),\n",
              " 'ci': [(array([7]),),\n",
              "  (array([0, 0, 0, 0, 0, 0, 0, 0, 0, 0]),\n",
              "   array([0, 1, 2, 3, 4, 5, 6, 7, 8, 9]))],\n",
              " 'ic': [(array([7]),),\n",
              "  (array([0, 0, 0, 0, 0, 0, 0, 0, 0, 0]),\n",
              "   array([0, 1, 2, 3, 4, 5, 6, 7, 8, 9]))],\n",
              " 'ii': [(array([7]),),\n",
              "  (array([0, 0, 0, 0, 0, 0, 0, 0, 0, 0]),\n",
              "   array([0, 1, 2, 3, 4, 5, 6, 7, 8, 9])),\n",
              "  (array([0, 0, 0, 0, 0, 0, 0, 0, 0, 0]),\n",
              "   array([0, 1, 2, 3, 4, 5, 6, 7, 8, 9]))]}"
            ]
          },
          "metadata": {
            "tags": []
          },
          "execution_count": 97
        }
      ]
    },
    {
      "cell_type": "code",
      "metadata": {
        "id": "BafHN9CPCZbW",
        "colab_type": "code",
        "outputId": "ed447be8-9979-4a42-a803-2159a8bbd12b",
        "colab": {
          "base_uri": "https://localhost:8080/",
          "height": 1000
        }
      },
      "source": [
        "generate(limeinfo,filenamests,conffilenames,stats,tester.models)"
      ],
      "execution_count": 0,
      "outputs": [
        {
          "output_type": "stream",
          "text": [
            "{'cc': (array([7]),), 'ci': [(array([7]),), (array([0, 0, 0, 0, 0, 0, 0, 0, 0, 0]), array([0, 1, 2, 3, 4, 5, 6, 7, 8, 9]))], 'ic': [(array([7]),), (array([0, 0, 0, 0, 0, 0, 0, 0, 0, 0]), array([0, 1, 2, 3, 4, 5, 6, 7, 8, 9]))], 'ii': [(array([7]),), (array([0, 0, 0, 0, 0, 0, 0, 0, 0, 0]), array([0, 1, 2, 3, 4, 5, 6, 7, 8, 9])), (array([0, 0, 0, 0, 0, 0, 0, 0, 0, 0]), array([0, 1, 2, 3, 4, 5, 6, 7, 8, 9]))]} \n",
            "_________________________________\n",
            " {'0': {'ANN': 'ANNtslime0.png', 'RF': 'RFtslime0.png'}, '1': {'ANN': 'ANNtslime1.png', 'RF': 'RFtslime1.png'}, '2': {'ANN': 'ANNtslime2.png', 'RF': 'RFtslime2.png'}, '3': {'ANN': 'ANNtslime3.png', 'RF': 'RFtslime3.png'}, '4': {'ANN': 'ANNtslime4.png', 'RF': 'RFtslime4.png'}, '5': {'ANN': 'ANNtslime5.png', 'RF': 'RFtslime5.png'}, '6': {'ANN': 'ANNtslime6.png', 'RF': 'RFtslime6.png'}, '7': {'ANN': 'ANNtslime7.png', 'RF': 'RFtslime7.png'}} \n",
            "_________________________________\n",
            " {'ANN': {'conf': {'tr': 'ANNtrainconf.png', 'ts': 'ANNtestconf.png'}}, 'RF': {'conf': {'tr': 'RFtrainconf.png', 'ts': 'RFtestconf.png'}}} \n",
            "_________________________________\n",
            " {'ANN': {'acc': {'tr': 0.9783, 'ts': 0.9767}, 'loss': {'tr': 0.0016569004, 'ts': 0.0016778869}}, 'RF': {'acc': {'tr': 1.0, 'ts': 0.9074}, 'loss': {'tr': 0.0, 'ts': 0.004833361}}} \n",
            "_________________________________\n",
            "\n",
            "ANN RF\n",
            "# Models Report\n",
            "## Lime test\n",
            "### Correct-Correct\n",
            "\n",
            "true output: 7\n",
            "\n",
            "#### ANN\n",
            "\n",
            "!['ANN true'](ANNtslime0.png)\n",
            "filename: ANNtslime0.png\n",
            "\n",
            "#### RF\n",
            "\n",
            "!['RF true'](RFtslime0.png)\n",
            "filename: RFtslime0.png\n",
            "\n",
            "### ANN Correct-RF Incorrect\n",
            "\n",
            "true output: 7\n",
            "\n",
            "#### ANN\n",
            "\n",
            "!['ANN true'](ANNtslime1.png)\n",
            "filename: ANNtslime1.png\n",
            "\n",
            "#### RF\n",
            "\n",
            "predicted: 0\n",
            "\n",
            "!['RF true'](RFtslime1.png)\n",
            "!['RF predicted'](RFtslime4.png)\n",
            "filename: \n",
            "* RFtslime1.png\n",
            "* RFtslime4.png\n",
            "\n",
            "### ANN Incorrect-RF Correct\n",
            "\n",
            "true output: 7\n",
            "\n",
            "#### ANN\n",
            "\n",
            "predicted: 0\n",
            "\n",
            "!['ANN true'](ANNtslime2.png)\n",
            "!['ANN predicted'](RFtslime5.png)\n",
            "\n",
            "filename:\n",
            "* ANNtslime2.png\n",
            "* RFtslime5.png\n",
            "\n",
            "#### RF\n",
            "\n",
            "!['RF true'](RFtslime2.png)\n",
            "\n",
            "filename: RFtslime2.png\n",
            "\n",
            "### ANN Incorrect-RF Correct\n",
            "\n",
            "true output: 7\n",
            "\n",
            "#### ANN\n",
            "\n",
            "predicted: 0\n",
            "\n",
            "!['ANN true'](ANNtslime3.png)\n",
            "!['ANN predicted'](ANNtslime3.png)\n",
            "\n",
            "filename: \n",
            "* ANNtslime3.png\n",
            "* ANNtslime3.png\n",
            "\n",
            "#### RF\n",
            "\n",
            "predicted: 0\n",
            "\n",
            "\n",
            "!['RF true'](RFtslime6.png)\n",
            "!['RF predicted'](RFtslime7.png)\n",
            "\n",
            "filename: \n",
            "* RFtslime6.png\n",
            "* RFtslime7.png\n",
            "\n",
            "## Confusion matrices\n",
            "\n",
            "### ANN training\n",
            "\n",
            "!['ANN training confution matrix'](ANNtrainconf.png)\n",
            "\n",
            "filename: ANNtrainconf.png\n",
            "\n",
            "### ANN testing\n",
            "\n",
            "!['ANN test confution matrix'](ANNtestconf.png)\n",
            "filename: ANNtestconf.png\n",
            "\n",
            "### RF training\n",
            "\n",
            "!['RF training confution matrix'](RFtrainconf.png)\n",
            "\n",
            "filename: RFtrainconf.png\n",
            "\n",
            "### RF testing\n",
            "\n",
            "!['RF test confution matrix'](RFtestconf.png)\n",
            "\n",
            "filename: RFtestconf.png\n",
            "\n",
            "## Stats\n",
            "\n",
            "### Acuracy\n",
            "\n",
            "ANN acccuracy: \n",
            "* training: 0.9783\n",
            "* test: 0.9767\n",
            "\n",
            "RF accuracy:\n",
            "* training: 1.0\n",
            "* test: 0.9074\n",
            "\n",
            "!['Accuracy'](acc.png)\n",
            "\n",
            "filename: acc.png\n",
            "\n",
            "### Loss\n",
            "\n",
            "ANN loss: \n",
            "* training: 0.0016569004\n",
            "* test: 0.0016778869\n",
            "RF loss:\n",
            "* training: 0.0\n",
            "* test: 0.004833361\n",
            "\n",
            "!['Loss'](loss.png)\n",
            "\n",
            "filename: loss.png\n",
            "\n",
            "# Models Report\n",
            "## Lime test\n",
            "### Correct-Correct\n",
            "\n",
            "true output: 7\n",
            "\n",
            "#### ANN\n",
            "\n",
            "!['ANN true'](ANNtslime0.png)\n",
            "filename: ANNtslime0.png\n",
            "\n",
            "#### RF\n",
            "\n",
            "!['RF true'](RFtslime0.png)\n",
            "filename: RFtslime0.png\n",
            "\n",
            "### ANN Correct-RF Incorrect\n",
            "\n",
            "true output: 7\n",
            "\n",
            "#### ANN\n",
            "\n",
            "!['ANN true'](ANNtslime1.png)\n",
            "filename: ANNtslime1.png\n",
            "\n",
            "#### RF\n",
            "\n",
            "predicted: 0\n",
            "\n",
            "!['RF true'](RFtslime1.png)\n",
            "!['RF predicted'](RFtslime4.png)\n",
            "filename: \n",
            "* RFtslime1.png\n",
            "* RFtslime4.png\n",
            "\n",
            "### ANN Incorrect-RF Correct\n",
            "\n",
            "true output: 7\n",
            "\n",
            "#### ANN\n",
            "\n",
            "predicted: 0\n",
            "\n",
            "!['ANN true'](ANNtslime2.png)\n",
            "!['ANN predicted'](RFtslime5.png)\n",
            "\n",
            "filename:\n",
            "* ANNtslime2.png\n",
            "* RFtslime5.png\n",
            "\n",
            "#### RF\n",
            "\n",
            "!['RF true'](RFtslime2.png)\n",
            "\n",
            "filename: RFtslime2.png\n",
            "\n",
            "### ANN Incorrect-RF Correct\n",
            "\n",
            "true output: 7\n",
            "\n",
            "#### ANN\n",
            "\n",
            "predicted: 0\n",
            "\n",
            "!['ANN true'](ANNtslime3.png)\n",
            "!['ANN predicted'](ANNtslime3.png)\n",
            "\n",
            "filename: \n",
            "* ANNtslime3.png\n",
            "* ANNtslime3.png\n",
            "\n",
            "#### RF\n",
            "\n",
            "predicted: 0\n",
            "\n",
            "\n",
            "!['RF true'](RFtslime6.png)\n",
            "!['RF predicted'](RFtslime7.png)\n",
            "\n",
            "filename: \n",
            "* RFtslime6.png\n",
            "* RFtslime7.png\n",
            "\n",
            "## Confusion matrices\n",
            "\n",
            "### ANN training\n",
            "\n",
            "!['ANN training confution matrix'](ANNtrainconf.png)\n",
            "\n",
            "filename: ANNtrainconf.png\n",
            "\n",
            "### ANN testing\n",
            "\n",
            "!['ANN test confution matrix'](ANNtestconf.png)\n",
            "filename: ANNtestconf.png\n",
            "\n",
            "### RF training\n",
            "\n",
            "!['RF training confution matrix'](RFtrainconf.png)\n",
            "\n",
            "filename: RFtrainconf.png\n",
            "\n",
            "### RF testing\n",
            "\n",
            "!['RF test confution matrix'](RFtestconf.png)\n",
            "\n",
            "filename: RFtestconf.png\n",
            "\n",
            "## Stats\n",
            "\n",
            "### Acuracy\n",
            "\n",
            "ANN acccuracy: \n",
            "* training: 0.9783\n",
            "* test: 0.9767\n",
            "\n",
            "RF accuracy:\n",
            "* training: 1.0\n",
            "* test: 0.9074\n",
            "\n",
            "!['Accuracy'](acc.png)\n",
            "\n",
            "filename: acc.png\n",
            "\n",
            "### Loss\n",
            "\n",
            "ANN loss: \n",
            "* training: 0.0016569004\n",
            "* test: 0.0016778869\n",
            "RF loss:\n",
            "* training: 0.0\n",
            "* test: 0.004833361\n",
            "\n",
            "!['Loss'](loss.png)\n",
            "\n",
            "filename: loss.png\n",
            "\n"
          ],
          "name": "stdout"
        }
      ]
    },
    {
      "cell_type": "code",
      "metadata": {
        "id": "BEyvW4GzCZbf",
        "colab_type": "code",
        "outputId": "2b85a858-fc62-4ab6-c04f-ff9135ac9f22",
        "colab": {
          "base_uri": "https://localhost:8080/",
          "height": 1000
        }
      },
      "source": [
        "!apt search markdown"
      ],
      "execution_count": 0,
      "outputs": [
        {
          "output_type": "stream",
          "text": [
            "Sorting... Done\n",
            "Full Text Search... Done\n",
            "\u001b[32mcarettah\u001b[0m/bionic 0.4.2-4 amd64\n",
            "  presentation tool that renders Markdown\n",
            "\n",
            "\u001b[32mcl-markdown\u001b[0m/bionic 20101006-2 all\n",
            "  Common Lisp rewrite of Markdown\n",
            "\n",
            "\u001b[32mdiscount\u001b[0m/bionic 2.2.3b8-2 amd64\n",
            "  implementation of the Markdown markup language in C\n",
            "\n",
            "\u001b[32melpa-markdown-mode\u001b[0m/bionic 2.3+154-1 all\n",
            "  mode for editing Markdown-formatted text files in GNU Emacs.\n",
            "\n",
            "\u001b[32mformiko\u001b[0m/bionic 1.3.0-1 all\n",
            "  reStructuredText and MarkDown editor and live previewer\n",
            "\n",
            "\u001b[32mgo-md2man\u001b[0m/bionic 1.0.6+git20170603.6.23709d0+ds-1 amd64\n",
            "  utility to create manpages from markdown\n",
            "\n",
            "\u001b[32mgolang-github-cpuguy83-go-md2man-dev\u001b[0m/bionic 1.0.6+git20170603.6.23709d0+ds-1 all\n",
            "  utility to create manpages from markdown (source)\n",
            "\n",
            "\u001b[32mgolang-github-miekg-mmark-dev\u001b[0m/bionic 1.3.6+dfsg-1 all\n",
            "  Markdown processor in Go geared for the IETF (Go library)\n",
            "\n",
            "\u001b[32mgolang-github-russross-blackfriday-dev\u001b[0m/bionic 1.5.1-1 all\n",
            "  Blackfriday: a markdown processor for Go\n",
            "\n",
            "\u001b[32mgrip\u001b[0m/bionic 4.2.0-3 all\n",
            "  Preview GitHub Markdown files like Readme locally\n",
            "\n",
            "\u001b[32mlibghc-cmark-dev\u001b[0m/bionic 0.5.6-1 amd64\n",
            "  fast, accurate CommonMark (Markdown) parser and renderer\n",
            "\n",
            "\u001b[32mlibghc-cmark-doc\u001b[0m/bionic 0.5.6-1 all\n",
            "  fast, accurate CommonMark (Markdown) parser and renderer; documentation\n",
            "\n",
            "\u001b[32mlibghc-cmark-prof\u001b[0m/bionic 0.5.6-1 amd64\n",
            "  fast, accurate CommonMark (Markdown) parser and renderer; profiling libraries\n",
            "\n",
            "\u001b[32mlibghc-markdown-dev\u001b[0m/bionic 0.1.16-1build8 amd64\n",
            "  convert Markdown to HTML, with XSS protection\n",
            "\n",
            "\u001b[32mlibghc-markdown-doc\u001b[0m/bionic 0.1.16-1build8 all\n",
            "  convert Markdown to HTML, with XSS protection; documentation\n",
            "\n",
            "\u001b[32mlibghc-markdown-prof\u001b[0m/bionic 0.1.16-1build8 amd64\n",
            "  convert Markdown to HTML, with XSS protection; profiling libraries\n",
            "\n",
            "\u001b[32mlibhtml-wikiconverter-markdown-perl\u001b[0m/bionic 0.06-2 all\n",
            "  HTML to wiki markup converter - Markdown dialect\n",
            "\n",
            "\u001b[32mlibjs-markdown-it\u001b[0m/bionic 7.0.0-3 all\n",
            "  javascript markdown parser\n",
            "\n",
            "\u001b[32mlibjs-markdown-it-sub\u001b[0m/bionic 1.0.0-2 all\n",
            "  javascript markdown parser subscript plugin\n",
            "\n",
            "\u001b[32mlibjs-markdown-it-sup\u001b[0m/bionic 1.0.0-2 all\n",
            "  javascript markdown parser superscript plugin\n",
            "\n",
            "\u001b[32mlibjs-marked\u001b[0m/bionic 0.3.9+dfsg-1 all\n",
            "  Full-featured markdown parser and compiler\n",
            "\n",
            "\u001b[32mlibjs-simplemde\u001b[0m/bionic 1.11.2+dfsg2-2 all\n",
            "  JavaScript library providing a simple Markdown editor\n",
            "\n",
            "\u001b[32mlibmarkdown-php\u001b[0m/bionic 1.0.2-2 all\n",
            "  PHP library for rendering Markdown data\n",
            "\n",
            "\u001b[32mlibmarkdown2\u001b[0m/bionic 2.2.3b8-2 amd64\n",
            "  implementation of the Markdown markup language in C (library)\n",
            "\n",
            "\u001b[32mlibmarkdown2-dev\u001b[0m/bionic 2.2.3b8-2 amd64\n",
            "  implementation of the Markdown markup language in C (dev files)\n",
            "\n",
            "\u001b[32mlibpegdown-java\u001b[0m/bionic 1.6.0-1 all\n",
            "  Lightweight Markdown processing library\n",
            "\n",
            "\u001b[32mlibpod-markdown-perl\u001b[0m/bionic 3.005000-1 all\n",
            "  module to convert POD to the Markdown file format\n",
            "\n",
            "\u001b[32mlibsoldout-dev\u001b[0m/bionic 1.4-2 amd64\n",
            "  Development files for libsoldout a parser for the markdown language\n",
            "\n",
            "\u001b[32mlibsoldout1\u001b[0m/bionic 1.4-2 amd64\n",
            "  Natacha's flexible C library for John Gruber's markdown language\n",
            "\n",
            "\u001b[32mlibtext-markdown-discount-perl\u001b[0m/bionic 0.11-2 amd64\n",
            "  Perl interface to Discount, an implementation of Markdown\n",
            "\n",
            "\u001b[32mlibtext-markdown-perl\u001b[0m/bionic 1.000031-2 all\n",
            "  module to convert Markdown syntax to (X)HTML\n",
            "\n",
            "\u001b[32mlibtext-multimarkdown-perl\u001b[0m/bionic 1.000035-1 all\n",
            "  module to convert MultiMarkdown syntax to (X)HTML\n",
            "\n",
            "\u001b[32mlua-markdown\u001b[0m/bionic 0.32-5 all\n",
            "  Pure Lua 5.1 implementation of the Markdown text-to-html markup\n",
            "\n",
            "\u001b[32mlua-torch-sundown\u001b[0m/bionic 0~20161027-g4324669-1 amd64\n",
            "  Sundown Library (a Markdown implementation) for Torch Framework\n",
            "\n",
            "\u001b[32mmarkdown\u001b[0m/bionic 1.0.1-10 all\n",
            "  Text-to-HTML conversion tool\n",
            "\n",
            "\u001b[32mmdp\u001b[0m/bionic 1.0.12-1 amd64\n",
            "  command-line based Markdown presentation tool\n",
            "\n",
            "\u001b[32mmmark\u001b[0m/bionic 1.3.6+dfsg-1 amd64\n",
            "  Markdown processor in Go geared for the IETF (executable)\n",
            "\n",
            "\u001b[32mmuttdown\u001b[0m/bionic 0.2-1 all\n",
            "  Compiles annotated text mail into html using the Markdown standard\n",
            "\n",
            "\u001b[32mnode-marked\u001b[0m/bionic 0.3.9+dfsg-1 all\n",
            "  Full-featured markdown parser and compiler for NodeJS\n",
            "\n",
            "\u001b[32mnode-marked-man\u001b[0m/bionic 0.3.0-2 all\n",
            "  Markdown to man page conversion - Node.js\n",
            "\n",
            "\u001b[32mphp-markdown\u001b[0m/bionic 1.6.0-2 all\n",
            "  PHP library for rendering Markdown data\n",
            "\n",
            "\u001b[32mpython-commonmark-bkrs\u001b[0m/bionic 0.5.4+ds-1 all\n",
            "  Python parser for the CommonMark Markdown spec -- Python\n",
            "\n",
            "\u001b[32mpython-commonmark-bkrs-doc\u001b[0m/bionic 0.5.4+ds-1 all\n",
            "  Python parser for the CommonMark Markdown spec -- doc\n",
            "\n",
            "\u001b[32mpython-html2text\u001b[0m/bionic 2018.1.9-1 all\n",
            "  Python module for converting HTML to Markdown text\n",
            "\n",
            "\u001b[32mpython-markdown\u001b[0m/bionic 2.6.9-1 all\n",
            "  text-to-HTML conversion library/tool (Python 2 version)\n",
            "\n",
            "\u001b[32mpython-markdown-doc\u001b[0m/bionic 2.6.9-1 all\n",
            "  text-to-HTML conversion library/tool (documentation)\n",
            "\n",
            "\u001b[32mpython-misaka\u001b[0m/bionic 1.0.2-5build3 amd64\n",
            "  binding for Sundown, a markdown parsing library - Python 2.x\n",
            "\n",
            "\u001b[32mpython-mistune\u001b[0m/bionic 0.8.3-2 all\n",
            "  Markdown parser for Python 2\n",
            "\n",
            "\u001b[32mpython3-commonmark-bkrs\u001b[0m/bionic 0.5.4+ds-1 all\n",
            "  Python parser for the CommonMark Markdown spec -- Python 3\n",
            "\n",
            "\u001b[32mpython3-html2text\u001b[0m/bionic 2018.1.9-1 all\n",
            "  Python module for converting HTML to Markdown text (Python3 version)\n",
            "\n",
            "\u001b[32mpython3-markdown\u001b[0m/bionic 2.6.9-1 all\n",
            "  text-to-HTML conversion library/tool (Python 3 version)\n",
            "\n",
            "\u001b[32mpython3-misaka\u001b[0m/bionic 1.0.2-5build3 amd64\n",
            "  binding for Sundown, a markdown parsing library - Python 3.x\n",
            "\n",
            "\u001b[32mpython3-mistune\u001b[0m/bionic 0.8.3-2 all\n",
            "  Markdown parser for Python 3\n",
            "\n",
            "\u001b[32mr-cran-details\u001b[0m/bionic 0.1.2-1cran1ppabionic0 all\n",
            "  GNU R package \"Create Details HTML Tag for Markdown and\n",
            "\n",
            "\u001b[32mr-cran-htmltable\u001b[0m/bionic 1.13.3-1cran1ppabionic0 all\n",
            "  GNU R package \"Advanced Tables for Markdown/HTML\"\n",
            "\n",
            "\u001b[32mr-cran-knitcitations\u001b[0m/bionic 1.0.10-1cran1ppabionic0 all\n",
            "  GNU R package \"Citations for 'Knitr' Markdown Files\"\n",
            "\n",
            "\u001b[32mr-cran-markdown\u001b[0m/bionic,now 1.1-1cran1ppabionic0 amd64 [installed,automatic]\n",
            "  GNU R package \"Render Markdown with the C Library\n",
            "\n",
            "\u001b[32mr-cran-prettydoc\u001b[0m/bionic 0.3.1-1cran1ppabionic0 all\n",
            "  GNU R package \"Creating Pretty Documents from R Markdown\"\n",
            "\n",
            "\u001b[32mr-cran-rmarkdown\u001b[0m/bionic,now 2.1-1cran1ppabionic0 all [installed,automatic]\n",
            "  GNU R package \"Dynamic Documents for R\"\n",
            "\n",
            "\u001b[32mr-cran-rsconnect\u001b[0m/bionic 0.8.16-1cran1ppabionic0 all\n",
            "  GNU R package \"Deployment Interface for R Markdown\n",
            "\n",
            "\u001b[32mr-cran-tufte\u001b[0m/bionic 0.5-1cran1ppabionic0 all\n",
            "  GNU R package \"Tufte's Styles for R Markdown Documents\"\n",
            "\n",
            "\u001b[32mretext\u001b[0m/bionic 7.0.1-1 all\n",
            "  Simple text editor for Markdown and reStructuredText\n",
            "\n",
            "\u001b[32mruby-bluefeather\u001b[0m/bionic 0.41-4 all\n",
            "  Extend Markdown Converter written in Ruby\n",
            "\n",
            "\u001b[32mruby-github-markdown\u001b[0m/bionic 0.6.9-2build4 amd64\n",
            "  Markdown parser for GitHub.com\n",
            "\n",
            "\u001b[32mruby-kramdown\u001b[0m/bionic 1.15.0-1 all\n",
            "  Fast, pure-Ruby Markdown-superset converter\n",
            "\n",
            "\u001b[32mruby-kramdown-rfc2629\u001b[0m/bionic 1.2.7-1 all\n",
            "  generate XML2RFC XML from Markdown\n",
            "\n",
            "\u001b[32mruby-markerb\u001b[0m/bionic 1.1.0-2 all\n",
            "  multipart templates made easy with Markdown + ERb\n",
            "\n",
            "\u001b[32mruby-maruku\u001b[0m/bionic 0.7.2-1 all\n",
            "  Markdown-superset interpreter written in Ruby\n",
            "\n",
            "\u001b[32mruby-rails-assets-bootstrap-markdown\u001b[0m/bionic 2.10.0-1 all\n",
            "  bootstrap-markdown for rails applications\n",
            "\n",
            "\u001b[32mruby-rails-assets-markdown-it\u001b[0m/bionic 7.0.0-3 all\n",
            "  markdown parser as a rails asset\n",
            "\n",
            "\u001b[32mruby-rails-assets-markdown-it--markdown-it-for-inline\u001b[0m/bionic 0.1.1-1 all\n",
            "  Inline tokens iterator for markdown-it markdown parser\n",
            "\n",
            "\u001b[32mruby-rails-assets-markdown-it-diaspora-mention\u001b[0m/bionic 1.0.0-2 all\n",
            "  diaspora* mentions for markdown-it markdown parser\n",
            "\n",
            "\u001b[32mruby-rails-assets-markdown-it-hashtag\u001b[0m/bionic 0.4.0-1 all\n",
            "  hashtag for markdown-it markdown parser via rails pipeline\n",
            "\n",
            "\u001b[32mruby-rails-assets-markdown-it-sanitizer\u001b[0m/bionic 0.4.3-1 all\n",
            "  sanitizer for markdown-it markdown parser via rails pipeline\n",
            "\n",
            "\u001b[32mruby-rails-assets-markdown-it-sub\u001b[0m/bionic 1.0.0-2 all\n",
            "  markdown parser subscript plugin as a rails asset\n",
            "\n",
            "\u001b[32mruby-rails-assets-markdown-it-sup\u001b[0m/bionic 1.0.0-2 all\n",
            "  markdown parser superscript plugin as a rails asset\n",
            "\n",
            "\u001b[32mruby-rdiscount\u001b[0m/bionic 2.1.8-1build5 amd64\n",
            "  Discount Markdown Processor for Ruby\n",
            "\n",
            "\u001b[32mruby-redcarpet\u001b[0m/bionic 3.4.0-4build1 amd64\n",
            "  Fast, safe and extensible Markdown to (X)HTML parser for Ruby\n",
            "\n",
            "\u001b[32mruby-ronn\u001b[0m/bionic 0.7.3-5 all\n",
            "  Builds manuals from Markdown\n",
            "\n",
            "\u001b[32mruby-task-list\u001b[0m/bionic 2.0.0-2 all\n",
            "  GitHub-flavored-Markdown TaskList components\n",
            "\n"
          ],
          "name": "stdout"
        }
      ]
    },
    {
      "cell_type": "code",
      "metadata": {
        "id": "TnuJA8r9ajeR",
        "colab_type": "code",
        "colab": {}
      },
      "source": [
        ""
      ],
      "execution_count": 0,
      "outputs": []
    }
  ]
}