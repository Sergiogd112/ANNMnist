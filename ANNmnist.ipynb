{
 "cells": [
  {
   "cell_type": "markdown",
   "metadata": {
    "colab_type": "text",
    "id": "1kY4g75WEtOz"
   },
   "source": [
    "# Install dependencies"
   ]
  },
  {
   "cell_type": "code",
   "execution_count": 1,
   "metadata": {
    "colab": {
     "base_uri": "https://localhost:8080/",
     "height": 1000
    },
    "colab_type": "code",
    "id": "T7o82XPgoqhw",
    "outputId": "cd09f6e8-d84a-4783-ec87-bb1fb4a59929",
    "scrolled": true
   },
   "outputs": [
    {
     "name": "stdout",
     "output_type": "stream",
     "text": [
      "Requirement already up-to-date: keras-tuner in /home/sergio/anaconda3/lib/python3.7/site-packages (1.0.1)\n",
      "Requirement already satisfied, skipping upgrade: tabulate in /home/sergio/anaconda3/lib/python3.7/site-packages (from keras-tuner) (0.8.6)\n",
      "Requirement already satisfied, skipping upgrade: colorama in /home/sergio/anaconda3/lib/python3.7/site-packages (from keras-tuner) (0.4.3)\n",
      "Requirement already satisfied, skipping upgrade: scipy in /home/sergio/anaconda3/lib/python3.7/site-packages (from keras-tuner) (1.4.1)\n",
      "Requirement already satisfied, skipping upgrade: tqdm in /home/sergio/anaconda3/lib/python3.7/site-packages (from keras-tuner) (4.42.0)\n",
      "Requirement already satisfied, skipping upgrade: requests in /home/sergio/anaconda3/lib/python3.7/site-packages (from keras-tuner) (2.22.0)\n",
      "Requirement already satisfied, skipping upgrade: future in /home/sergio/anaconda3/lib/python3.7/site-packages (from keras-tuner) (0.18.2)\n",
      "Requirement already satisfied, skipping upgrade: scikit-learn in /home/sergio/anaconda3/lib/python3.7/site-packages (from keras-tuner) (0.22.1)\n",
      "Requirement already satisfied, skipping upgrade: terminaltables in /home/sergio/anaconda3/lib/python3.7/site-packages (from keras-tuner) (3.1.0)\n",
      "Requirement already satisfied, skipping upgrade: numpy in /home/sergio/anaconda3/lib/python3.7/site-packages (from keras-tuner) (1.18.1)\n",
      "Requirement already satisfied, skipping upgrade: idna<2.9,>=2.5 in /home/sergio/anaconda3/lib/python3.7/site-packages (from requests->keras-tuner) (2.8)\n",
      "Requirement already satisfied, skipping upgrade: certifi>=2017.4.17 in /home/sergio/anaconda3/lib/python3.7/site-packages (from requests->keras-tuner) (2019.11.28)\n",
      "Requirement already satisfied, skipping upgrade: chardet<3.1.0,>=3.0.2 in /home/sergio/anaconda3/lib/python3.7/site-packages (from requests->keras-tuner) (3.0.4)\n",
      "Requirement already satisfied, skipping upgrade: urllib3!=1.25.0,!=1.25.1,<1.26,>=1.21.1 in /home/sergio/anaconda3/lib/python3.7/site-packages (from requests->keras-tuner) (1.25.8)\n",
      "Requirement already satisfied, skipping upgrade: joblib>=0.11 in /home/sergio/anaconda3/lib/python3.7/site-packages (from scikit-learn->keras-tuner) (0.14.1)\n",
      "Requirement already satisfied: lime in /home/sergio/.local/lib/python3.7/site-packages (0.1.1.37)\n",
      "Requirement already satisfied: scikit-learn>=0.18 in /home/sergio/anaconda3/lib/python3.7/site-packages (from lime) (0.22.1)\n",
      "Requirement already satisfied: numpy in /home/sergio/anaconda3/lib/python3.7/site-packages (from lime) (1.18.1)\n",
      "Requirement already satisfied: scipy in /home/sergio/anaconda3/lib/python3.7/site-packages (from lime) (1.4.1)\n",
      "Requirement already satisfied: progressbar in /home/sergio/.local/lib/python3.7/site-packages (from lime) (2.5)\n",
      "Requirement already satisfied: matplotlib; python_version >= \"3.0\" in /home/sergio/anaconda3/lib/python3.7/site-packages (from lime) (3.1.3)\n",
      "Requirement already satisfied: scikit-image>=0.12; python_version >= \"3.0\" in /home/sergio/anaconda3/lib/python3.7/site-packages (from lime) (0.16.2)\n",
      "Requirement already satisfied: joblib>=0.11 in /home/sergio/anaconda3/lib/python3.7/site-packages (from scikit-learn>=0.18->lime) (0.14.1)\n",
      "Requirement already satisfied: python-dateutil>=2.1 in /home/sergio/anaconda3/lib/python3.7/site-packages (from matplotlib; python_version >= \"3.0\"->lime) (2.8.1)\n",
      "Requirement already satisfied: kiwisolver>=1.0.1 in /home/sergio/anaconda3/lib/python3.7/site-packages (from matplotlib; python_version >= \"3.0\"->lime) (1.1.0)\n",
      "Requirement already satisfied: pyparsing!=2.0.4,!=2.1.2,!=2.1.6,>=2.0.1 in /home/sergio/anaconda3/lib/python3.7/site-packages (from matplotlib; python_version >= \"3.0\"->lime) (2.4.6)\n",
      "Requirement already satisfied: cycler>=0.10 in /home/sergio/anaconda3/lib/python3.7/site-packages (from matplotlib; python_version >= \"3.0\"->lime) (0.10.0)\n",
      "Requirement already satisfied: pillow>=4.3.0 in /home/sergio/anaconda3/lib/python3.7/site-packages (from scikit-image>=0.12; python_version >= \"3.0\"->lime) (7.0.0)\n",
      "Requirement already satisfied: imageio>=2.3.0 in /home/sergio/anaconda3/lib/python3.7/site-packages (from scikit-image>=0.12; python_version >= \"3.0\"->lime) (2.6.1)\n",
      "Requirement already satisfied: networkx>=2.0 in /home/sergio/anaconda3/lib/python3.7/site-packages (from scikit-image>=0.12; python_version >= \"3.0\"->lime) (2.4)\n",
      "Requirement already satisfied: PyWavelets>=0.4.0 in /home/sergio/anaconda3/lib/python3.7/site-packages (from scikit-image>=0.12; python_version >= \"3.0\"->lime) (1.1.1)\n",
      "Requirement already satisfied: six>=1.5 in /home/sergio/anaconda3/lib/python3.7/site-packages (from python-dateutil>=2.1->matplotlib; python_version >= \"3.0\"->lime) (1.14.0)\n",
      "Requirement already satisfied: setuptools in /home/sergio/anaconda3/lib/python3.7/site-packages (from kiwisolver>=1.0.1->matplotlib; python_version >= \"3.0\"->lime) (45.1.0.post20200127)\n",
      "Requirement already satisfied: decorator>=4.3.0 in /home/sergio/anaconda3/lib/python3.7/site-packages (from networkx>=2.0->scikit-image>=0.12; python_version >= \"3.0\"->lime) (4.4.1)\n",
      "Requirement already satisfied: keras in /home/sergio/.local/lib/python3.7/site-packages (2.3.1)\n",
      "Requirement already satisfied: tensorflow in /home/sergio/.local/lib/python3.7/site-packages (2.1.0)\n",
      "Requirement already satisfied: numpy>=1.9.1 in /home/sergio/anaconda3/lib/python3.7/site-packages (from keras) (1.18.1)\n",
      "Requirement already satisfied: scipy>=0.14 in /home/sergio/anaconda3/lib/python3.7/site-packages (from keras) (1.4.1)\n",
      "Requirement already satisfied: h5py in /home/sergio/anaconda3/lib/python3.7/site-packages (from keras) (2.10.0)\n",
      "Requirement already satisfied: pyyaml in /home/sergio/anaconda3/lib/python3.7/site-packages (from keras) (5.3)\n",
      "Requirement already satisfied: six>=1.9.0 in /home/sergio/anaconda3/lib/python3.7/site-packages (from keras) (1.14.0)\n",
      "Requirement already satisfied: keras-preprocessing>=1.0.5 in /home/sergio/.local/lib/python3.7/site-packages (from keras) (1.1.0)\n",
      "Requirement already satisfied: keras-applications>=1.0.6 in /home/sergio/.local/lib/python3.7/site-packages (from keras) (1.0.8)\n",
      "Requirement already satisfied: wheel>=0.26; python_version >= \"3\" in /home/sergio/anaconda3/lib/python3.7/site-packages (from tensorflow) (0.34.2)\n",
      "Requirement already satisfied: absl-py>=0.7.0 in /home/sergio/.local/lib/python3.7/site-packages (from tensorflow) (0.9.0)\n",
      "Requirement already satisfied: google-pasta>=0.1.6 in /home/sergio/.local/lib/python3.7/site-packages (from tensorflow) (0.1.8)\n",
      "Requirement already satisfied: opt-einsum>=2.3.2 in /home/sergio/.local/lib/python3.7/site-packages (from tensorflow) (3.1.0)\n",
      "Requirement already satisfied: wrapt>=1.11.1 in /home/sergio/anaconda3/lib/python3.7/site-packages (from tensorflow) (1.11.2)\n",
      "Requirement already satisfied: tensorflow-estimator<2.2.0,>=2.1.0rc0 in /home/sergio/.local/lib/python3.7/site-packages (from tensorflow) (2.1.0)\n",
      "Requirement already satisfied: grpcio>=1.8.6 in /home/sergio/.local/lib/python3.7/site-packages (from tensorflow) (1.27.2)\n",
      "Requirement already satisfied: tensorboard<2.2.0,>=2.1.0 in /home/sergio/.local/lib/python3.7/site-packages (from tensorflow) (2.1.0)\n",
      "Requirement already satisfied: protobuf>=3.8.0 in /home/sergio/.local/lib/python3.7/site-packages (from tensorflow) (3.11.3)\n",
      "Requirement already satisfied: termcolor>=1.1.0 in /home/sergio/.local/lib/python3.7/site-packages (from tensorflow) (1.1.0)\n",
      "Requirement already satisfied: astor>=0.6.0 in /home/sergio/.local/lib/python3.7/site-packages (from tensorflow) (0.8.1)\n",
      "Requirement already satisfied: gast==0.2.2 in /home/sergio/.local/lib/python3.7/site-packages (from tensorflow) (0.2.2)\n",
      "Requirement already satisfied: google-auth-oauthlib<0.5,>=0.4.1 in /home/sergio/.local/lib/python3.7/site-packages (from tensorboard<2.2.0,>=2.1.0->tensorflow) (0.4.1)\n",
      "Requirement already satisfied: google-auth<2,>=1.6.3 in /home/sergio/.local/lib/python3.7/site-packages (from tensorboard<2.2.0,>=2.1.0->tensorflow) (1.11.2)\n",
      "Requirement already satisfied: requests<3,>=2.21.0 in /home/sergio/anaconda3/lib/python3.7/site-packages (from tensorboard<2.2.0,>=2.1.0->tensorflow) (2.22.0)\n",
      "Requirement already satisfied: markdown>=2.6.8 in /home/sergio/.local/lib/python3.7/site-packages (from tensorboard<2.2.0,>=2.1.0->tensorflow) (3.2.1)\n",
      "Requirement already satisfied: setuptools>=41.0.0 in /home/sergio/anaconda3/lib/python3.7/site-packages (from tensorboard<2.2.0,>=2.1.0->tensorflow) (45.1.0.post20200127)\n",
      "Requirement already satisfied: werkzeug>=0.11.15 in /home/sergio/anaconda3/lib/python3.7/site-packages (from tensorboard<2.2.0,>=2.1.0->tensorflow) (0.16.1)\n",
      "Requirement already satisfied: requests-oauthlib>=0.7.0 in /home/sergio/.local/lib/python3.7/site-packages (from google-auth-oauthlib<0.5,>=0.4.1->tensorboard<2.2.0,>=2.1.0->tensorflow) (1.3.0)\n",
      "Requirement already satisfied: pyasn1-modules>=0.2.1 in /home/sergio/.local/lib/python3.7/site-packages (from google-auth<2,>=1.6.3->tensorboard<2.2.0,>=2.1.0->tensorflow) (0.2.8)\n",
      "Requirement already satisfied: rsa<4.1,>=3.1.4 in /home/sergio/.local/lib/python3.7/site-packages (from google-auth<2,>=1.6.3->tensorboard<2.2.0,>=2.1.0->tensorflow) (4.0)\n",
      "Requirement already satisfied: cachetools<5.0,>=2.0.0 in /home/sergio/.local/lib/python3.7/site-packages (from google-auth<2,>=1.6.3->tensorboard<2.2.0,>=2.1.0->tensorflow) (4.0.0)\n",
      "Requirement already satisfied: idna<2.9,>=2.5 in /home/sergio/anaconda3/lib/python3.7/site-packages (from requests<3,>=2.21.0->tensorboard<2.2.0,>=2.1.0->tensorflow) (2.8)\n",
      "Requirement already satisfied: certifi>=2017.4.17 in /home/sergio/anaconda3/lib/python3.7/site-packages (from requests<3,>=2.21.0->tensorboard<2.2.0,>=2.1.0->tensorflow) (2019.11.28)\n",
      "Requirement already satisfied: chardet<3.1.0,>=3.0.2 in /home/sergio/anaconda3/lib/python3.7/site-packages (from requests<3,>=2.21.0->tensorboard<2.2.0,>=2.1.0->tensorflow) (3.0.4)\n",
      "Requirement already satisfied: urllib3!=1.25.0,!=1.25.1,<1.26,>=1.21.1 in /home/sergio/anaconda3/lib/python3.7/site-packages (from requests<3,>=2.21.0->tensorboard<2.2.0,>=2.1.0->tensorflow) (1.25.8)\n",
      "Requirement already satisfied: oauthlib>=3.0.0 in /home/sergio/.local/lib/python3.7/site-packages (from requests-oauthlib>=0.7.0->google-auth-oauthlib<0.5,>=0.4.1->tensorboard<2.2.0,>=2.1.0->tensorflow) (3.1.0)\n",
      "Requirement already satisfied: pyasn1<0.5.0,>=0.4.6 in /home/sergio/.local/lib/python3.7/site-packages (from pyasn1-modules>=0.2.1->google-auth<2,>=1.6.3->tensorboard<2.2.0,>=2.1.0->tensorflow) (0.4.8)\n"
     ]
    }
   ],
   "source": [
    "!pip install -U keras-tuner\n",
    "!pip install lime\n",
    "!pip install keras tensorflow"
   ]
  },
  {
   "cell_type": "code",
   "execution_count": 2,
   "metadata": {
    "colab": {
     "base_uri": "https://localhost:8080/",
     "height": 34
    },
    "colab_type": "code",
    "id": "DqohMMQoDYap",
    "outputId": "52d09b8c-b24f-4f78-b384-e76e6af09c82"
   },
   "outputs": [
    {
     "name": "stdout",
     "output_type": "stream",
     "text": [
      "pip 20.0.2 from /home/sergio/anaconda3/lib/python3.7/site-packages/pip (python 3.7)\n"
     ]
    }
   ],
   "source": [
    "!pip -V"
   ]
  },
  {
   "cell_type": "markdown",
   "metadata": {
    "colab_type": "text",
    "id": "rAWvZvtpExxL"
   },
   "source": [
    "# Import libraries"
   ]
  },
  {
   "cell_type": "code",
   "execution_count": 3,
   "metadata": {
    "colab": {
     "base_uri": "https://localhost:8080/",
     "height": 81
    },
    "colab_type": "code",
    "id": "v6oIm11-n6rc",
    "outputId": "be4593a6-cac4-4962-ea21-0a1c411ceefe"
   },
   "outputs": [
    {
     "name": "stderr",
     "output_type": "stream",
     "text": [
      "Using TensorFlow backend.\n"
     ]
    }
   ],
   "source": [
    "from __future__ import print_function\n",
    "import keras\n",
    "from keras.datasets import mnist\n",
    "from keras.models import Sequential\n",
    "from keras.layers import Dense, Dropout, Flatten, MaxPooling2D, Dense, Activation\n",
    "from keras.layers import Conv2D, MaxPooling2D\n",
    "from keras import backend as K\n",
    "from sklearn.ensemble import RandomForestClassifier\n",
    "from sklearn.metrics import confusion_matrix\n",
    "from sklearn.utils.multiclass import unique_labels\n",
    "from sklearn.metrics import accuracy_score\n",
    "from sklearn.metrics import mean_squared_log_error\n",
    "from scipy import stats\n",
    "import tensorflow as tf\n",
    "import pickle as pk\n",
    "# for ploting data\n",
    "from matplotlib import pyplot as plt\n",
    "from matplotlib import rcParams\n",
    "rcParams.update({'figure.autolayout': True})\n",
    "# to explain local cases and understand the model's decision\n",
    "import lime\n",
    "from lime import lime_image\n",
    "from lime.wrappers.scikit_image import SegmentationAlgorithm\n",
    "# for matrix operation\n",
    "import numpy as np\n",
    "\n",
    "#for table manipulation\n",
    "import pandas as pd\n",
    "\n",
    "# garbage collector\n",
    "import gc\n",
    "\n",
    "import numpy as np\n",
    "import matplotlib.pyplot as plt\n",
    "from skimage.color import gray2rgb, rgb2gray, label2rgb\n",
    "# from tensorflow.keras.layers import Conv2D, MaxPooling2D, Dense, Flatten, Activation"
   ]
  },
  {
   "cell_type": "markdown",
   "metadata": {
    "colab_type": "text",
    "id": "duOUOdOaE2W0"
   },
   "source": [
    "# Adapter"
   ]
  },
  {
   "cell_type": "code",
   "execution_count": 4,
   "metadata": {
    "colab": {},
    "colab_type": "code",
    "id": "tWkvIsa78zss"
   },
   "outputs": [],
   "source": [
    "class MyModel():\n",
    "    def __init__(self,model,ty,max=False):\n",
    "        self.model = model\n",
    "        self.ty=ty\n",
    "        self.max=True\n",
    "    def predict(self, img):\n",
    "        img = np.array(img)\n",
    "        if(len(img.shape)==3):\n",
    "            if(self.ty=='rf'):\n",
    "                data=img[:,:,0].reshape(1, img.shape[0]*img.shape[1])\n",
    "            else:\n",
    "                data=img[:,:,0].reshape(1, img.shape[0], img.shape[1], 1)\n",
    "        else:\n",
    "            if(self.ty=='rf'):\n",
    "                data=img[:,:,:,0].reshape(img.shape[0], img.shape[1]*img.shape[2])\n",
    "            else:\n",
    "                data=img[:,:,:,0].reshape(img.shape[0], img.shape[1], img.shape[2], 1)\n",
    "        pred=self.model.predict(data)\n",
    "        return pred"
   ]
  },
  {
   "cell_type": "markdown",
   "metadata": {
    "colab_type": "text",
    "id": "8UZL9g74E6uB"
   },
   "source": [
    "# configuration"
   ]
  },
  {
   "cell_type": "code",
   "execution_count": 5,
   "metadata": {
    "colab": {},
    "colab_type": "code",
    "id": "T90CddCkoGxQ"
   },
   "outputs": [],
   "source": [
    "batch_size = 128\n",
    "num_classes = 10\n",
    "epochs = 1"
   ]
  },
  {
   "cell_type": "code",
   "execution_count": 6,
   "metadata": {
    "colab": {},
    "colab_type": "code",
    "id": "bXE-EG6loLBB"
   },
   "outputs": [],
   "source": [
    "# input image dimensions\n",
    "img_rows, img_cols = 28, 28"
   ]
  },
  {
   "cell_type": "markdown",
   "metadata": {
    "colab_type": "text",
    "id": "mhmIdlRPE_76"
   },
   "source": [
    "# Getting the data"
   ]
  },
  {
   "cell_type": "code",
   "execution_count": 7,
   "metadata": {
    "colab": {},
    "colab_type": "code",
    "id": "cIhbsPjzoNzt"
   },
   "outputs": [],
   "source": [
    "# the data, split between train and test sets\n",
    "(x_train, y_train), (x_test, y_test) = mnist.load_data()"
   ]
  },
  {
   "cell_type": "markdown",
   "metadata": {
    "colab_type": "text",
    "id": "OQ_ioCVdERI9"
   },
   "source": [
    "# Parser"
   ]
  },
  {
   "cell_type": "code",
   "execution_count": 8,
   "metadata": {
    "colab": {
     "base_uri": "https://localhost:8080/",
     "height": 34
    },
    "colab_type": "code",
    "id": "rUcvN-6soXf-",
    "outputId": "54776e41-b1cb-4fdb-9d38-77b51005c718"
   },
   "outputs": [
    {
     "name": "stdout",
     "output_type": "stream",
     "text": [
      "(60000, 784) (10000, 784)\n"
     ]
    }
   ],
   "source": [
    "if K.image_data_format() == 'channels_first':\n",
    "    x_train = x_train.reshape(x_train.shape[0], 1, img_rows, img_cols)\n",
    "    x_test = x_test.reshape(x_test.shape[0], 1, img_rows, img_cols)\n",
    "    \n",
    "    x_train_2d=np.array([[[x[0] for x in y]for y in a]for a in x_train])\n",
    "    x_test_2d=np.array([[[x[0] for x in y]for y in a]for a in x_test])\n",
    "\n",
    "    x_train_1d=x_train.reshape(x_train.shape[1], x_train.shape[2]*x_train.shape[3])\n",
    "    x_test_1d=x_test.reshape(x_test.shape[1], x_test.shape[2]*x_test.shape[3])\n",
    "    x_train_1d=np.array(x_train_1d)\n",
    "    x_test_1d=np.array(x_test_1d)    \n",
    "    print(x_train_1d.shape, x_test_1d.shape)\n",
    "    input_shape = (1,img_rows, img_cols)\n",
    "else:\n",
    "    x_train = x_train.reshape(x_train.shape[0], img_rows, img_cols, 1)\n",
    "    x_test = x_test.reshape(x_test.shape[0], img_rows, img_cols, 1)\n",
    "    x_train_2d=np.array([[[x[0] for x in y]for y in a]for a in x_train])\n",
    "    x_test_2d=np.array([[[x[0] for x in y]for y in a]for a in x_test])\n",
    "    x_train_1d=x_train.reshape(x_train.shape[0], x_train.shape[1]*x_train.shape[2])\n",
    "    x_test_1d=x_test.reshape(x_test.shape[0], x_test.shape[1]*x_test.shape[2])\n",
    "    print(x_train_1d.shape, x_test_1d.shape)\n",
    "    input_shape = (img_rows, img_cols,1)"
   ]
  },
  {
   "cell_type": "code",
   "execution_count": 9,
   "metadata": {
    "colab": {
     "base_uri": "https://localhost:8080/",
     "height": 34
    },
    "colab_type": "code",
    "id": "KLr_n2eJQSWO",
    "outputId": "b6bd4b38-6208-42e0-ac6f-2f5a12328482"
   },
   "outputs": [
    {
     "data": {
      "text/plain": [
       "(60000, 28, 28, 1)"
      ]
     },
     "execution_count": 9,
     "metadata": {},
     "output_type": "execute_result"
    }
   ],
   "source": [
    "x_train.shape"
   ]
  },
  {
   "cell_type": "markdown",
   "metadata": {
    "colab": {
     "base_uri": "https://localhost:8080/",
     "height": 69
    },
    "colab_type": "code",
    "id": "QPXpK6BcoaEG",
    "outputId": "880f93ec-456e-41c9-bd85-456b7f22c9f9"
   },
   "source": [
    "x_train = x_train.astype('float32')\n",
    "x_test = x_test.astype('float32')\n",
    "x_train /= 255\n",
    "x_test /= 255\n",
    "print('x_train shape:', x_train.shape)\n",
    "print(x_train.shape[0], 'train samples')\n",
    "print(x_test.shape[0], 'test samples')"
   ]
  },
  {
   "cell_type": "code",
   "execution_count": 10,
   "metadata": {
    "colab": {},
    "colab_type": "code",
    "id": "RlfD2TuDocxP"
   },
   "outputs": [],
   "source": [
    "# convert class vectors to binary class matrices\n",
    "y_train = keras.utils.to_categorical(y_train, num_classes)\n",
    "y_test = keras.utils.to_categorical(y_test, num_classes)"
   ]
  },
  {
   "cell_type": "code",
   "execution_count": 11,
   "metadata": {
    "colab": {
     "base_uri": "https://localhost:8080/",
     "height": 34
    },
    "colab_type": "code",
    "id": "b8mYuX03tu1P",
    "outputId": "20a513f4-85a7-46d7-b662-a5aa03375fd8"
   },
   "outputs": [
    {
     "data": {
      "text/plain": [
       "(28, 28, 1)"
      ]
     },
     "execution_count": 11,
     "metadata": {},
     "output_type": "execute_result"
    }
   ],
   "source": [
    "input_shape"
   ]
  },
  {
   "cell_type": "markdown",
   "metadata": {
    "colab_type": "text",
    "id": "uaHpqxNUEWxJ"
   },
   "source": [
    "# Models"
   ]
  },
  {
   "cell_type": "markdown",
   "metadata": {
    "colab_type": "text",
    "id": "MNSBANLXsv_O"
   },
   "source": [
    "## ANN"
   ]
  },
  {
   "cell_type": "code",
   "execution_count": 12,
   "metadata": {
    "colab": {
     "base_uri": "https://localhost:8080/",
     "height": 729
    },
    "colab_type": "code",
    "id": "g07DcbxOogB8",
    "outputId": "8439a140-c56d-4ad4-b395-a1df6cdba4dd"
   },
   "outputs": [
    {
     "name": "stdout",
     "output_type": "stream",
     "text": [
      "Model: \"sequential_1\"\n",
      "_________________________________________________________________\n",
      "Layer (type)                 Output Shape              Param #   \n",
      "=================================================================\n",
      "conv2d_1 (Conv2D)            (None, 26, 26, 32)        320       \n",
      "_________________________________________________________________\n",
      "conv2d_2 (Conv2D)            (None, 24, 24, 64)        18496     \n",
      "_________________________________________________________________\n",
      "max_pooling2d_1 (MaxPooling2 (None, 12, 12, 64)        0         \n",
      "_________________________________________________________________\n",
      "dropout_1 (Dropout)          (None, 12, 12, 64)        0         \n",
      "_________________________________________________________________\n",
      "flatten_1 (Flatten)          (None, 9216)              0         \n",
      "_________________________________________________________________\n",
      "dense_1 (Dense)              (None, 128)               1179776   \n",
      "_________________________________________________________________\n",
      "dropout_2 (Dropout)          (None, 128)               0         \n",
      "_________________________________________________________________\n",
      "dense_2 (Dense)              (None, 10)                1290      \n",
      "=================================================================\n",
      "Total params: 1,199,882\n",
      "Trainable params: 1,199,882\n",
      "Non-trainable params: 0\n",
      "_________________________________________________________________\n"
     ]
    }
   ],
   "source": [
    "model = Sequential()\n",
    "model.add(Conv2D(32, kernel_size=(3, 3),\n",
    "                 activation='relu',\n",
    "                 input_shape=input_shape))\n",
    "model.add(Conv2D(64, (3, 3), activation='relu'))\n",
    "model.add(MaxPooling2D(pool_size=(2, 2)))\n",
    "model.add(Dropout(0.25))\n",
    "model.add(Flatten())\n",
    "model.add(Dense(128, activation='relu'))\n",
    "model.add(Dropout(0.5))\n",
    "model.add(Dense(num_classes, activation='softmax'))\n",
    "\n",
    "model.compile(loss=keras.losses.categorical_crossentropy,\n",
    "              optimizer=keras.optimizers.Adadelta(),\n",
    "              metrics=['accuracy'])\n",
    "model.summary()"
   ]
  },
  {
   "cell_type": "code",
   "execution_count": 13,
   "metadata": {
    "colab": {
     "base_uri": "https://localhost:8080/",
     "height": 469
    },
    "colab_type": "code",
    "id": "d5FmXSQholAy",
    "outputId": "31eba4fd-e7c2-402e-f462-026b6f0a5014"
   },
   "outputs": [
    {
     "name": "stdout",
     "output_type": "stream",
     "text": [
      "Train on 59999 samples, validate on 10000 samples\n",
      "Epoch 1/1\n",
      "59999/59999 [==============================] - 107s 2ms/step - loss: 0.6578 - accuracy: 0.8843 - val_loss: 0.0747 - val_accuracy: 0.9767\n",
      "Test loss: 0.07472704730947735\n",
      "Test accuracy: 0.9767000079154968\n",
      "CPU times: user 5min 13s, sys: 8.32 s, total: 5min 22s\n",
      "Wall time: 1min 51s\n"
     ]
    }
   ],
   "source": [
    "%%time\n",
    "amount=-1\n",
    "model.fit(x_train[:amount], y_train[:amount],\n",
    "          batch_size=batch_size,\n",
    "          epochs=epochs,\n",
    "          verbose=1,\n",
    "          validation_data=(x_test, y_test))\n",
    "score = model.evaluate(x_test, y_test, verbose=0)\n",
    "print('Test loss:', score[0])\n",
    "print('Test accuracy:', score[1])"
   ]
  },
  {
   "cell_type": "markdown",
   "metadata": {
    "colab_type": "text",
    "id": "jqRGS3y3s1ZT"
   },
   "source": [
    "## RF"
   ]
  },
  {
   "cell_type": "code",
   "execution_count": 14,
   "metadata": {
    "colab": {
     "base_uri": "https://localhost:8080/",
     "height": 52
    },
    "colab_type": "code",
    "id": "U2d2bSVyDlaK",
    "outputId": "6aee4adf-5dfb-4e0d-b531-10b6704f0515"
   },
   "outputs": [
    {
     "name": "stdout",
     "output_type": "stream",
     "text": [
      "CPU times: user 2min 27s, sys: 285 ms, total: 2min 27s\n",
      "Wall time: 2min 28s\n"
     ]
    }
   ],
   "source": [
    "%%time\n",
    "rdm_forest=RandomForestClassifier(n_estimators=200)\n",
    "rdm_forest=rdm_forest.fit(X=x_train_1d[:amount], \n",
    "                          y=y_train[:amount])"
   ]
  },
  {
   "cell_type": "code",
   "execution_count": 15,
   "metadata": {
    "colab": {},
    "colab_type": "code",
    "id": "_XmYQL1_SkxY"
   },
   "outputs": [],
   "source": [
    "#with open('data.pkl','wb') as f:\n",
    "#    pk.dump(img,f)"
   ]
  },
  {
   "cell_type": "code",
   "execution_count": 16,
   "metadata": {
    "colab": {},
    "colab_type": "code",
    "id": "7D5wcgOvCZaS"
   },
   "outputs": [],
   "source": [
    "#with open('models.pkl','rb') as f:\n",
    "#    [model,rdm_forest]=pk.load(f)"
   ]
  },
  {
   "cell_type": "markdown",
   "metadata": {
    "colab_type": "text",
    "id": "4JrYYajlFMqo"
   },
   "source": [
    "# Lime"
   ]
  },
  {
   "cell_type": "code",
   "execution_count": 17,
   "metadata": {
    "colab": {},
    "colab_type": "code",
    "id": "SK-6Af5I2L6O"
   },
   "outputs": [],
   "source": [
    "explainer = lime_image.LimeImageExplainer(verbose = False)\n",
    "segmenter = SegmentationAlgorithm('quickshift',\n",
    "                                  kernel_size=1,\n",
    "                                  max_dist=200,\n",
    "                                  ratio=0.2)"
   ]
  },
  {
   "cell_type": "code",
   "execution_count": 18,
   "metadata": {
    "colab": {
     "base_uri": "https://localhost:8080/",
     "height": 69
    },
    "colab_type": "code",
    "id": "PcIudN5r9uCS",
    "outputId": "a5d58664-6d9b-4d4f-92b2-5f5872b878c6"
   },
   "outputs": [
    {
     "name": "stderr",
     "output_type": "stream",
     "text": [
      "100% |########################################################################|\r"
     ]
    },
    {
     "name": "stdout",
     "output_type": "stream",
     "text": [
      "CPU times: user 41 s, sys: 58 ms, total: 41 s\n",
      "Wall time: 41.2 s\n"
     ]
    },
    {
     "name": "stderr",
     "output_type": "stream",
     "text": [
      "\n"
     ]
    }
   ],
   "source": [
    "%%time\n",
    "case=2\n",
    "explanation = explainer.explain_instance(np.array([[[x[0],x[0],x[0]]\n",
    "                                                    for x in y]\n",
    "                                                   for y in x_test[case]]), \n",
    "                                         classifier_fn =MyModel(rdm_forest,\n",
    "                                                                'rf').predict, \n",
    "                                         top_labels=10,\n",
    "                                         hide_color=0,\n",
    "                                         num_samples=10000,\n",
    "                                         segmentation_fn=segmenter,\n",
    "                                         labels=np.array([str(x) \n",
    "                                                          for x in range(10)]))"
   ]
  },
  {
   "cell_type": "code",
   "execution_count": 19,
   "metadata": {
    "colab": {
     "base_uri": "https://localhost:8080/",
     "height": 297
    },
    "colab_type": "code",
    "id": "fUc1IlMyOTJr",
    "outputId": "dc6e3a17-3638-4bb7-848f-4ace62301c3b"
   },
   "outputs": [
    {
     "data": {
      "image/png": "[encoded data removed]",
      "text/plain": [
       "<Figure size 576x288 with 2 Axes>"
      ]
     },
     "metadata": {
      "needs_background": "light"
     },
     "output_type": "display_data"
    }
   ],
   "source": [
    "temp, mask = explanation.get_image_and_mask(int(np.where(y_test[case]==1)[0]),\n",
    "                                            positive_only=True,\n",
    "                                            num_features=10,\n",
    "                                            hide_rest=False,\n",
    "                                            min_weight = 0.01)\n",
    "fig, (ax1, ax2) = plt.subplots(1,2, figsize = (8, 4))\n",
    "ax1.imshow(label2rgb(mask,temp, bg_label = 0), interpolation = 'nearest')\n",
    "ax1.set_title('Positive Regions for {}'.format(np.where(y_test[case]==1)[0]))\n",
    "temp, mask = explanation.get_image_and_mask(int(np.where(y_test[case]==1)[0]),\n",
    "                                            positive_only=False,\n",
    "                                            num_features=10,\n",
    "                                            hide_rest=False,\n",
    "                                            min_weight = 0.01)\n",
    "ax2.imshow(label2rgb(3-mask,temp, bg_label = 0), interpolation = 'nearest')\n",
    "ax2.set_title('Positive/Negative Regions for {}'.format(int(np.where(y_test[case]==1)[0])))\n",
    "plt.savefig('test.png')"
   ]
  },
  {
   "cell_type": "markdown",
   "metadata": {
    "colab_type": "text",
    "id": "inOBrr_CLCOi"
   },
   "source": [
    "# Tester"
   ]
  },
  {
   "cell_type": "markdown",
   "metadata": {
    "colab_type": "text",
    "id": "czW8KffXP2Aw"
   },
   "source": [
    "## Class"
   ]
  },
  {
   "cell_type": "code",
   "execution_count": 2,
   "metadata": {
    "colab": {},
    "colab_type": "code",
    "id": "Wg1OJy_UtFXP"
   },
   "outputs": [
    {
     "ename": "NameError",
     "evalue": "name 'plt' is not defined",
     "output_type": "error",
     "traceback": [
      "\u001b[0;31m---------------------------------------------------------------------------\u001b[0m",
      "\u001b[0;31mNameError\u001b[0m                                 Traceback (most recent call last)",
      "\u001b[0;32m<ipython-input-2-1a1ad132e151>\u001b[0m in \u001b[0;36m<module>\u001b[0;34m\u001b[0m\n\u001b[0;32m----> 1\u001b[0;31m \u001b[0;32mclass\u001b[0m \u001b[0mTester\u001b[0m\u001b[0;34m:\u001b[0m\u001b[0;34m\u001b[0m\u001b[0;34m\u001b[0m\u001b[0m\n\u001b[0m\u001b[1;32m      2\u001b[0m     \u001b[0;32mdef\u001b[0m \u001b[0m__init__\u001b[0m\u001b[0;34m(\u001b[0m\u001b[0mself\u001b[0m\u001b[0;34m,\u001b[0m\u001b[0mname1\u001b[0m\u001b[0;34m,\u001b[0m \u001b[0mmodel1\u001b[0m\u001b[0;34m,\u001b[0m \u001b[0mtype1\u001b[0m\u001b[0;34m,\u001b[0m\u001b[0mname2\u001b[0m\u001b[0;34m,\u001b[0m \u001b[0mmodel2\u001b[0m\u001b[0;34m,\u001b[0m \u001b[0mtype2\u001b[0m\u001b[0;34m,\u001b[0m \u001b[0mclasses\u001b[0m\u001b[0;34m)\u001b[0m\u001b[0;34m:\u001b[0m\u001b[0;34m\u001b[0m\u001b[0;34m\u001b[0m\u001b[0m\n\u001b[1;32m      3\u001b[0m         \u001b[0mself\u001b[0m\u001b[0;34m.\u001b[0m\u001b[0mmodels\u001b[0m\u001b[0;34m=\u001b[0m\u001b[0;34m{\u001b[0m\u001b[0;34m}\u001b[0m\u001b[0;34m\u001b[0m\u001b[0;34m\u001b[0m\u001b[0m\n\u001b[1;32m      4\u001b[0m         \u001b[0mself\u001b[0m\u001b[0;34m.\u001b[0m\u001b[0mmodels\u001b[0m\u001b[0;34m[\u001b[0m\u001b[0mname1\u001b[0m\u001b[0;34m]\u001b[0m\u001b[0;34m=\u001b[0m\u001b[0mMyModel\u001b[0m\u001b[0;34m(\u001b[0m\u001b[0mmodel1\u001b[0m\u001b[0;34m,\u001b[0m\u001b[0mtype1\u001b[0m\u001b[0;34m)\u001b[0m\u001b[0;34m\u001b[0m\u001b[0;34m\u001b[0m\u001b[0m\n\u001b[1;32m      5\u001b[0m         \u001b[0mself\u001b[0m\u001b[0;34m.\u001b[0m\u001b[0mmodels\u001b[0m\u001b[0;34m[\u001b[0m\u001b[0mname2\u001b[0m\u001b[0;34m]\u001b[0m\u001b[0;34m=\u001b[0m\u001b[0mMyModel\u001b[0m\u001b[0;34m(\u001b[0m\u001b[0mmodel2\u001b[0m\u001b[0;34m,\u001b[0m\u001b[0mtype2\u001b[0m\u001b[0;34m)\u001b[0m\u001b[0;34m\u001b[0m\u001b[0;34m\u001b[0m\u001b[0m\n",
      "\u001b[0;32m<ipython-input-2-1a1ad132e151>\u001b[0m in \u001b[0;36mTester\u001b[0;34m()\u001b[0m\n\u001b[1;32m     80\u001b[0m                                 \u001b[0mfilename\u001b[0m\u001b[0;34m=\u001b[0m\u001b[0;34m'test.pdf'\u001b[0m\u001b[0;34m,\u001b[0m\u001b[0;34m\u001b[0m\u001b[0;34m\u001b[0m\u001b[0m\n\u001b[1;32m     81\u001b[0m                                 \u001b[0mdirname\u001b[0m\u001b[0;34m=\u001b[0m\u001b[0;34m''\u001b[0m\u001b[0;34m,\u001b[0m\u001b[0;34m\u001b[0m\u001b[0;34m\u001b[0m\u001b[0m\n\u001b[0;32m---> 82\u001b[0;31m                                 cmap=plt.cm.Blues):\n\u001b[0m\u001b[1;32m     83\u001b[0m         \"\"\"\n\u001b[1;32m     84\u001b[0m         \u001b[0mThis\u001b[0m \u001b[0mfunction\u001b[0m \u001b[0mprints\u001b[0m \u001b[0;32mand\u001b[0m \u001b[0mplots\u001b[0m \u001b[0mthe\u001b[0m \u001b[0mconfusion\u001b[0m \u001b[0mmatrix\u001b[0m\u001b[0;34m.\u001b[0m\u001b[0;34m\u001b[0m\u001b[0;34m\u001b[0m\u001b[0m\n",
      "\u001b[0;31mNameError\u001b[0m: name 'plt' is not defined"
     ]
    }
   ],
   "source": [
    "class Tester:\n",
    "    def __init__(self,name1, model1, type1,name2, model2, type2, classes):\n",
    "        self.models={}\n",
    "        self.models[name1]=MyModel(model1,type1)\n",
    "        self.models[name2]=MyModel(model2,type2)\n",
    "        self.classes=classes\n",
    "        self.names=(name1, name2)\n",
    "\n",
    "    def __repr__():\n",
    "        return self.models.__repr__()+'\\n'+self.classes.__repr__()\n",
    "    def lime_test_case(self, model,case,y, filename=None):\n",
    "        explainer = lime_image.LimeImageExplainer(verbose = False)\n",
    "        explain=explainer.explain_instance\n",
    "        explanation = explain(np.array([[[x[0],x[0],x[0]]\n",
    "                                            for x in y]\n",
    "                                        for y in case]), \n",
    "                                classifier_fn =self.models[model].predict, \n",
    "                                top_labels=10,\n",
    "                                hide_color=0,\n",
    "                                num_samples=10000,\n",
    "                                segmentation_fn=segmenter,\n",
    "                                labels=np.array([str(x) \n",
    "                                            for x in range(10)]))\n",
    "        print(y)\n",
    "        print(np.where(y==1))\n",
    "        try:\n",
    "            temp, mask = explanation.get_image_and_mask(int(np.where(y==1)[0]),\n",
    "                                                        positive_only=True,\n",
    "                                                        num_features=10,\n",
    "                                                        hide_rest=False,\n",
    "                                                        min_weight = 0.01)\n",
    "            print(self.models[model].ty)\n",
    "            fig, (ax1, ax2) = plt.subplots(1,2, figsize = (8, 4))\n",
    "            ax1.imshow(label2rgb(mask,temp, bg_label = 0), \n",
    "                       interpolation = 'nearest')\n",
    "            ax1.set_title('Positive Regions for {}'.format(np.where(y==1)[0]))\n",
    "            temp, mask = explanation.get_image_and_mask(int(np.where(y==1)[0]),\n",
    "                                                        positive_only=False,\n",
    "                                                        num_features=10,\n",
    "                                                        hide_rest=False,\n",
    "                                                        min_weight = 0.01)\n",
    "            ax2.imshow(label2rgb(3-mask,\n",
    "                                 temp,\n",
    "                                 bg_label = 0),\n",
    "                        interpolation = 'nearest')\n",
    "            ax2.set_title('Positive/Negative Regions for {}'.format(int(\n",
    "                np.where(y==1)[0])))\n",
    "        except:\n",
    "            temp, mask = explanation.get_image_and_mask(0,\n",
    "                                                        positive_only=True,\n",
    "                                                        num_features=10,\n",
    "                                                        hide_rest=False,\n",
    "                                                        min_weight = 0.01)\n",
    "            print(self.models[model].ty)\n",
    "            fig, (ax1, ax2) = plt.subplots(1,2, figsize = (8, 4))\n",
    "            ax1.imshow(label2rgb(mask,temp, bg_label = 0), \n",
    "                       interpolation = 'nearest')\n",
    "            ax1.set_title('Positive Regions for {}'.format(0))\n",
    "            temp, mask = explanation.get_image_and_mask(int(0),\n",
    "                                                        positive_only=False,\n",
    "                                                        num_features=10,\n",
    "                                                        hide_rest=False,\n",
    "                                                        min_weight = 0.01)\n",
    "            ax2.imshow(label2rgb(3-mask,\n",
    "                                 temp,\n",
    "                                 bg_label = 0),\n",
    "                        interpolation = 'nearest')\n",
    "            ax2.set_title('Positive/Negative Regions for {}'.format(int(0)))\n",
    "        if(filename!=None):\n",
    "            plt.savefig(filename)\n",
    "        plt.show()\n",
    "    \n",
    "    \n",
    "    \n",
    "    \n",
    "    \n",
    "    def plot_confusion_matrix(self, y_true, y_pred, classes,\n",
    "                                normalize=False,\n",
    "                                title=None,\n",
    "                                filename='test.pdf',\n",
    "                                dirname='',\n",
    "                                cmap=plt.cm.Blues):\n",
    "        \"\"\"\n",
    "        This function prints and plots the confusion matrix.\n",
    "        Normalization can be applied by setting `normalize=True`.\n",
    "        \"\"\"\n",
    "        if not title:\n",
    "            if normalize:\n",
    "                title = 'Normalized confusion matrix'\n",
    "            else:\n",
    "                title = 'Confusion matrix, without normalization'\n",
    "\n",
    "        # Compute confusion matrix\n",
    "        cm = confusion_matrix(y_true, y_pred)\n",
    "        # Only use the labels that appear in the data\n",
    "\n",
    "        classes = classes[unique_labels(y_true, y_pred)]\n",
    "        print('classes:', classes)\n",
    "        if normalize:\n",
    "            cm = cm.astype('float') / cm.sum(axis=1)[:, np.newaxis]\n",
    "            print(\"Normalized confusion matrix\")\n",
    "        else:\n",
    "            print('Confusion matrix, without normalization')\n",
    "\n",
    "        print(cm)\n",
    "\n",
    "        fig, ax = plt.subplots(figsize=(20,20))\n",
    "        im = ax.imshow(cm, interpolation='nearest', cmap=cmap)\n",
    "        ax.figure.colorbar(im, ax=ax)\n",
    "        # We want to show all ticks...\n",
    "        ax.set(xticks=np.arange(cm.shape[1]),\n",
    "                yticks=np.arange(cm.shape[0]),\n",
    "                # ... and label them with the respective list entries\n",
    "                xticklabels=classes, yticklabels=classes,\n",
    "                title=title,\n",
    "                ylabel='True label',\n",
    "                xlabel='Predicted label')\n",
    "\n",
    "        # Rotate the tick labels and set their alignment.\n",
    "        plt.setp(ax.get_xticklabels(), rotation=45, ha=\"right\",\n",
    "                    rotation_mode=\"anchor\")\n",
    "\n",
    "        # Loop over data dimensions and create text annotations.\n",
    "        fmt = '.2f' if normalize else 'd'\n",
    "        thresh = cm.max() / 2.\n",
    "        for i in range(cm.shape[0]):\n",
    "            for j in range(cm.shape[1]):\n",
    "                ax.text(j, i, format(cm[i, j], fmt),\n",
    "                        ha=\"center\", va=\"center\",\n",
    "                        color=\"white\" if cm[i, j] > thresh else \"black\")\n",
    "        fig.tight_layout()\n",
    "        plt.savefig(dirname+filename)\n",
    "        plt.show()\n",
    "        return ax\n",
    "    def confmatrix_test(self,x_train,x_test,y_train,y_test):\n",
    "        proy_train=[np.where(y==np.max(y))[0][0] for y in y_train]\n",
    "        proy_test=[np.where(y==np.max(y))[0][0] for y in y_test]\n",
    "        filenames={}\n",
    "        for name,model in self.models.items():\n",
    "            print(name, 'runing predictors')\n",
    "            pred_train= [np.where(y==np.max(y))[0][0]\n",
    "                         for y in model.predict(x_train)]\n",
    "            pred_test= [np.where(y==np.max(y))[0][0]\n",
    "                        for y in model.predict(x_test)]\n",
    "            print(pred_train[0],pred_test[0])\n",
    "            filenames[name]={}\n",
    "            filenames[name]['conf']={'tr': name+'trainconf.png',\n",
    "                                     'ts': name+'testconf.png'}\n",
    "            print('generating conf matrices')\n",
    "            self.plot_confusion_matrix(proy_train,\n",
    "                                       pred_train,\n",
    "                                       self.classes,\n",
    "                                       title=name+'training confution matrix',\n",
    "                                       filename=name+'trainconf.png')\n",
    "            self.plot_confusion_matrix(proy_test,\n",
    "                                       pred_test,\n",
    "                                       self.classes,\n",
    "                                       title=name+'test confution matrix',\n",
    "                                       filename=name+'testconf.png')\n",
    "            \n",
    "        return filenames\n",
    "\n",
    "\n",
    "    def stats(self,x_train,x_test,y_train,y_test,loss='mse'):\n",
    "        proy_train=[np.where(y==np.max(y))[0][0] for y in y_train]\n",
    "        proy_test=[np.where(y==np.max(y))[0][0] for y in y_test]\n",
    "        scores={}\n",
    "        names=self.names\n",
    "        for name,model in self.models.items():\n",
    "            pred_train= model.predict(x_train)\n",
    "            pred_test= model.predict(x_test)\n",
    "            pred1_train= [np.where(y==np.max(y))[0][0]\n",
    "                         for y in pred_train]\n",
    "            pred1_test= [np.where(y==np.max(y))[0][0]\n",
    "                        for y in pred_test]\n",
    "            with open('preddata.pkl','wb') as f:\n",
    "                pk.dump([proy_train,\n",
    "                         proy_test,\n",
    "                         pred_train,\n",
    "                         pred_test,\n",
    "                         pred1_train,\n",
    "                         pred1_test],\n",
    "                        f)\n",
    "            scores[name]={}\n",
    "            scores[name]['acc']={'tr':accuracy_score(proy_train,pred1_train),\n",
    "                                'ts':accuracy_score(proy_test,pred1_test)}\n",
    "            scores[name]['loss']={\n",
    "                                  'tr':mean_squared_log_error(np.array(y_train),\n",
    "                                                              np.array(pred_train)),\n",
    "                                  'ts':mean_squared_log_error(np.array(y_test),\n",
    "                                                              np.array(pred_test))}\n",
    "        accnames=[names[0]+' training',names[0]+ ' test',names[1]+' training',names[1]+ ' test']\n",
    "        accvals=[scores[names[0]]['acc']['tr'],scores[names[0]]['acc']['ts'],scores[names[1]]['acc']['tr'],scores[names[1]]['acc']['ts']]\n",
    "        lossnames=[names[0]+' training',names[0]+ ' test',names[1]+' training',names[1]+ ' test']\n",
    "        lossvals=[scores[names[0]]['loss']['tr'],scores[names[0]]['loss']['ts'],scores[names[1]]['loss']['tr'],scores[names[1]]['loss']['ts']]\n",
    "        print(accnames)\n",
    "        print(accvals)\n",
    "        print(lossnames)\n",
    "        print(lossvals)\n",
    "        plt.bar(accnames,accvals)\n",
    "        plt.savefig('acc.png')\n",
    "        plt.show()\n",
    "        plt.bar(lossnames,lossvals)\n",
    "        plt.savefig('loss.png')\n",
    "        plt.show()\n",
    "        return scores\n",
    "\n",
    "    def lime_test(self,cases,Y,datasetname=None):\n",
    "        filenames={}\n",
    "        for case,n,y in zip(cases,range(len(cases)),Y):\n",
    "            print(n)\n",
    "            filenames[str(n)]={}\n",
    "            self.lime_test_case(list(self.models.keys())[0],\n",
    "                                case,\n",
    "                                y,\n",
    "                                str(list(self.models.keys())[0])+datasetname+'lime'+str(n)+'.png')\n",
    "            \n",
    "            self.lime_test_case(list(self.models.keys())[1],\n",
    "                                case,\n",
    "                                y,\n",
    "                                list(self.models.keys())[1]+datasetname+'lime'+str(n)+'.png')\n",
    "            filenames[str(n)]={list(self.models.keys())[0]:\n",
    "                               list(self.models.keys())[0]+datasetname+'lime'+str(n)+'.png',\n",
    "                               list(self.models.keys())[1]:\n",
    "                               list(self.models.keys())[1]+datasetname+'lime'+str(n)+'.png',\n",
    "                               }\n",
    "        return filenames\n",
    "    \n",
    "    \n",
    "    \n",
    "    def find_lime_cases(self,x_data,y_data):\n",
    "        y_proc=[np.argmax(x) for x in y_data]\n",
    "        cases={}\n",
    "        for name,model in self.models.items():\n",
    "            pred=model.predict(x_data)\n",
    "            sel=[np.argmax(x) for x in pred]\n",
    "            cases[name]={}\n",
    "            cases[name]['correct']={}\n",
    "            cases[name]['incorrect']={}\n",
    "            for y_pred,y_true,n in zip(sel,y_proc,range(len(y_proc))):\n",
    "                if(y_pred==y_true):\n",
    "                    cases[name]['correct'][n] = (y_pred, y_true)\n",
    "                else:\n",
    "                    cases[name]['incorrect'][n] = (y_pred, y_true)\n",
    "        test_cases={'cc':-1,'ci':-1,'ic':-1,'ii':-1}\n",
    "        names=list(cases.keys())\n",
    "        print(names[0])\n",
    "        zero_correct = cases[names[0]]['correct']\n",
    "        zero_incorrect = cases[names[0]]['incorrect']\n",
    "        one_correct = cases[names[1]]['correct']\n",
    "        one_incorrect = cases[names[1]]['incorrect']\n",
    "        for case in zero_correct:\n",
    "            if(case in one_correct):\n",
    "                test_cases['cc']=(case, (zero_correct[case], one_correct[case]))\n",
    "                break\n",
    "        for case in zero_correct:\n",
    "            if(case in one_incorrect):\n",
    "                test_cases['ci']=(case, (zero_correct[case], one_incorrect[case]))\n",
    "                break\n",
    "        for case in zero_incorrect:\n",
    "            if(case in one_correct):\n",
    "                test_cases['ic']=(case, (zero_incorrect[case], one_correct[case]))\n",
    "                break\n",
    "        for case in zero_incorrect:\n",
    "            if(case in one_incorrect):\n",
    "                test_cases['ii']=(case, (zero_incorrect[case], one_incorrect[case]))\n",
    "                break\n",
    "        return test_cases\n",
    "\n",
    "    def run_test(self,x_train,x_test,y_train,y_test):\n",
    "        print('finding test cases')\n",
    "        names = self.names\n",
    "        casests=self.find_lime_cases(x_test,y_test)\n",
    "        xselts=[x_test[case[0]] for case in casests for value in case[1]]\n",
    "        ypred=[value[0] for case in casests for value in case[1]]\n",
    "        print(casests)\n",
    "        print(self.names)\n",
    "        yselts = keras.utils.to_categorical(y_test, self.num_classes)\n",
    "        print('running lime test')\n",
    "        filenamests=self.lime_test(xselts,ypred,'ts')\n",
    "        print('running conf test')\n",
    "        conffilenames=self.confmatrix_test(x_train,x_test,y_train,y_test)\n",
    "        print('running stats test')\n",
    "        stats=self.stats(x_train,x_test,y_train,y_test)\n",
    "        print('done')\n",
    "        limeinfo={\n",
    "            'cc':np.where(yselts[0]==np.max(yselts[0])),\n",
    "            'ci':[\n",
    "                np.where(yselts[0]==np.max(yselts[0])),\n",
    "                np.where(ciy==np.max(ciy))],\n",
    "            'ic':[\n",
    "                np.where(yselts[0]==np.max(yselts[0])),\n",
    "                np.where(ciy==np.max(ciy))],\n",
    "            'ii':[\n",
    "                np.where(yselts[0]==np.max(yselts[0])),\n",
    "                np.where(ciy==np.max(ciy)),\n",
    "                np.where(ciy==np.max(ciy))]\n",
    "        }\n",
    "        print(limeinfo,filenamests,conffilenames,stats)\n",
    "        return limeinfo,filenamests,conffilenames,stats\n",
    "   # def generate_report(self, filenamestr,filenamests,conffilenames,stats):\n",
    "        "
   ]
  },
  {
   "cell_type": "markdown",
   "metadata": {
    "colab_type": "text",
    "id": "d5p9qjyqP6lO"
   },
   "source": [
    "## commands"
   ]
  },
  {
   "cell_type": "code",
   "execution_count": 30,
   "metadata": {
    "colab": {},
    "colab_type": "code",
    "id": "zcUHZbmBKKZC"
   },
   "outputs": [],
   "source": [
    "tester=Tester('ANN',model,'ann','RF',rdm_forest,'rf',np.array([str(x) for x in range(10)]))"
   ]
  },
  {
   "cell_type": "code",
   "execution_count": null,
   "metadata": {},
   "outputs": [],
   "source": []
  },
  {
   "cell_type": "code",
   "execution_count": 33,
   "metadata": {
    "colab": {},
    "colab_type": "code",
    "id": "w8O8yDsJWWRj"
   },
   "outputs": [
    {
     "data": {
      "text/plain": [
       "9"
      ]
     },
     "execution_count": 33,
     "metadata": {},
     "output_type": "execute_result"
    }
   ],
   "source": [
    "np.argmax(tester.models['ANN'].predict(x_train[247]))"
   ]
  },
  {
   "cell_type": "code",
   "execution_count": 37,
   "metadata": {
    "colab": {
     "base_uri": "https://localhost:8080/",
     "height": 1000
    },
    "colab_type": "code",
    "id": "lidY1tn6Kf-u",
    "outputId": "11890f35-ee0e-4aa2-95b8-ea447da62244"
   },
   "outputs": [
    {
     "name": "stdout",
     "output_type": "stream",
     "text": [
      "finding test cases\n"
     ]
    },
    {
     "name": "stderr",
     "output_type": "stream",
     "text": [
      "  1% |                                                                        |\r"
     ]
    },
    {
     "name": "stdout",
     "output_type": "stream",
     "text": [
      "ANN\n",
      "{'cc': 0, 'ci': 8, 'ic': 883, 'ii': 247}\n",
      "['ANN', 'RF']\n",
      "running lime test\n",
      "0\n"
     ]
    },
    {
     "name": "stderr",
     "output_type": "stream",
     "text": [
      "100% |########################################################################|\n"
     ]
    },
    {
     "name": "stdout",
     "output_type": "stream",
     "text": [
      "[0. 0. 0. 0. 0. 0. 0. 1. 0. 0.]\n",
      "(array([7]),)\n",
      "ann\n"
     ]
    },
    {
     "data": {
      "image/png": "[encoded data removed]",
      "text/plain": [
       "<Figure size 576x288 with 2 Axes>"
      ]
     },
     "metadata": {
      "needs_background": "light"
     },
     "output_type": "display_data"
    },
    {
     "name": "stderr",
     "output_type": "stream",
     "text": [
      "100% |########################################################################|\n"
     ]
    },
    {
     "name": "stdout",
     "output_type": "stream",
     "text": [
      "[0. 0. 0. 0. 0. 0. 0. 1. 0. 0.]\n",
      "(array([7]),)\n",
      "rf\n"
     ]
    },
    {
     "data": {
      "image/png": "[encoded data removed]",
      "text/plain": [
       "<Figure size 576x288 with 2 Axes>"
      ]
     },
     "metadata": {
      "needs_background": "light"
     },
     "output_type": "display_data"
    },
    {
     "name": "stderr",
     "output_type": "stream",
     "text": [
      "  1% |                                                                        |\r"
     ]
    },
    {
     "name": "stdout",
     "output_type": "stream",
     "text": [
      "1\n"
     ]
    },
    {
     "name": "stderr",
     "output_type": "stream",
     "text": [
      "100% |########################################################################|\n"
     ]
    },
    {
     "name": "stdout",
     "output_type": "stream",
     "text": [
      "[0. 0. 0. 0. 0. 1. 0. 0. 0. 0.]\n",
      "(array([5]),)\n",
      "ann\n"
     ]
    },
    {
     "data": {
      "image/png": "[encoded data removed]",
      "text/plain": [
       "<Figure size 576x288 with 2 Axes>"
      ]
     },
     "metadata": {
      "needs_background": "light"
     },
     "output_type": "display_data"
    },
    {
     "name": "stderr",
     "output_type": "stream",
     "text": [
      "100% |########################################################################|\n"
     ]
    },
    {
     "name": "stdout",
     "output_type": "stream",
     "text": [
      "[0. 0. 0. 0. 0. 1. 0. 0. 0. 0.]\n",
      "(array([5]),)\n",
      "rf\n"
     ]
    },
    {
     "data": {
      "image/png": "[encoded data removed]",
      "text/plain": [
       "<Figure size 576x288 with 2 Axes>"
      ]
     },
     "metadata": {
      "needs_background": "light"
     },
     "output_type": "display_data"
    },
    {
     "name": "stderr",
     "output_type": "stream",
     "text": [
      "  3% |##                                                                      |\r"
     ]
    },
    {
     "name": "stdout",
     "output_type": "stream",
     "text": [
      "2\n"
     ]
    },
    {
     "name": "stderr",
     "output_type": "stream",
     "text": [
      "100% |########################################################################|\n"
     ]
    },
    {
     "name": "stdout",
     "output_type": "stream",
     "text": [
      "[0. 0. 0. 1. 0. 0. 0. 0. 0. 0.]\n",
      "(array([3]),)\n",
      "ann\n"
     ]
    },
    {
     "data": {
      "image/png": "[encoded data removed]",
      "text/plain": [
       "<Figure size 576x288 with 2 Axes>"
      ]
     },
     "metadata": {
      "needs_background": "light"
     },
     "output_type": "display_data"
    },
    {
     "name": "stderr",
     "output_type": "stream",
     "text": [
      "100% |########################################################################|\n"
     ]
    },
    {
     "name": "stdout",
     "output_type": "stream",
     "text": [
      "[0. 0. 0. 1. 0. 0. 0. 0. 0. 0.]\n",
      "(array([3]),)\n",
      "rf\n"
     ]
    },
    {
     "data": {
      "image/png": "[encoded data removed]",
      "text/plain": [
       "<Figure size 576x288 with 2 Axes>"
      ]
     },
     "metadata": {
      "needs_background": "light"
     },
     "output_type": "display_data"
    },
    {
     "name": "stderr",
     "output_type": "stream",
     "text": [
      "  3% |##                                                                      |\r"
     ]
    },
    {
     "name": "stdout",
     "output_type": "stream",
     "text": [
      "3\n"
     ]
    },
    {
     "name": "stderr",
     "output_type": "stream",
     "text": [
      "100% |########################################################################|\n"
     ]
    },
    {
     "name": "stdout",
     "output_type": "stream",
     "text": [
      "[0. 0. 0. 0. 1. 0. 0. 0. 0. 0.]\n",
      "(array([4]),)\n",
      "ann\n"
     ]
    },
    {
     "data": {
      "image/png": "[encoded data removed]",
      "text/plain": [
       "<Figure size 576x288 with 2 Axes>"
      ]
     },
     "metadata": {
      "needs_background": "light"
     },
     "output_type": "display_data"
    },
    {
     "name": "stderr",
     "output_type": "stream",
     "text": [
      "100% |########################################################################|\n"
     ]
    },
    {
     "name": "stdout",
     "output_type": "stream",
     "text": [
      "[0. 0. 0. 0. 1. 0. 0. 0. 0. 0.]\n",
      "(array([4]),)\n",
      "rf\n"
     ]
    },
    {
     "data": {
      "image/png": "[encoded data removed]",
      "text/plain": [
       "<Figure size 576x288 with 2 Axes>"
      ]
     },
     "metadata": {
      "needs_background": "light"
     },
     "output_type": "display_data"
    },
    {
     "name": "stderr",
     "output_type": "stream",
     "text": [
      "  3% |##                                                                      |\r"
     ]
    },
    {
     "name": "stdout",
     "output_type": "stream",
     "text": [
      "4\n"
     ]
    },
    {
     "name": "stderr",
     "output_type": "stream",
     "text": [
      "100% |########################################################################|\n"
     ]
    },
    {
     "name": "stdout",
     "output_type": "stream",
     "text": [
      "[[0. 0. 0. 0. 0. 0. 0. 0. 0. 0.]]\n",
      "(array([], dtype=int64), array([], dtype=int64))\n",
      "ann\n"
     ]
    },
    {
     "data": {
      "image/png": "[encoded data removed]",
      "text/plain": [
       "<Figure size 576x288 with 2 Axes>"
      ]
     },
     "metadata": {
      "needs_background": "light"
     },
     "output_type": "display_data"
    },
    {
     "name": "stderr",
     "output_type": "stream",
     "text": [
      "100% |########################################################################|\n"
     ]
    },
    {
     "name": "stdout",
     "output_type": "stream",
     "text": [
      "[[0. 0. 0. 0. 0. 0. 0. 0. 0. 0.]]\n",
      "(array([], dtype=int64), array([], dtype=int64))\n",
      "rf\n"
     ]
    },
    {
     "data": {
      "image/png": "[encoded data removed]",
      "text/plain": [
       "<Figure size 576x288 with 2 Axes>"
      ]
     },
     "metadata": {
      "needs_background": "light"
     },
     "output_type": "display_data"
    },
    {
     "name": "stderr",
     "output_type": "stream",
     "text": [
      "  3% |##                                                                      |\r"
     ]
    },
    {
     "name": "stdout",
     "output_type": "stream",
     "text": [
      "5\n"
     ]
    },
    {
     "name": "stderr",
     "output_type": "stream",
     "text": [
      "100% |########################################################################|\n"
     ]
    },
    {
     "name": "stdout",
     "output_type": "stream",
     "text": [
      "[[1.0422726e-04 2.5715963e-05 1.6189493e-05 2.1478064e-01 1.9839554e-06\n",
      "  7.8430504e-01 1.1386393e-04 2.2040378e-05 2.0177869e-04 4.2856488e-04]]\n",
      "(array([], dtype=int64), array([], dtype=int64))\n",
      "ann\n"
     ]
    },
    {
     "data": {
      "image/png": "[encoded data removed]",
      "text/plain": [
       "<Figure size 576x288 with 2 Axes>"
      ]
     },
     "metadata": {
      "needs_background": "light"
     },
     "output_type": "display_data"
    },
    {
     "name": "stderr",
     "output_type": "stream",
     "text": [
      "100% |########################################################################|\n"
     ]
    },
    {
     "name": "stdout",
     "output_type": "stream",
     "text": [
      "[[1.0422726e-04 2.5715963e-05 1.6189493e-05 2.1478064e-01 1.9839554e-06\n",
      "  7.8430504e-01 1.1386393e-04 2.2040378e-05 2.0177869e-04 4.2856488e-04]]\n",
      "(array([], dtype=int64), array([], dtype=int64))\n",
      "rf\n"
     ]
    },
    {
     "data": {
      "image/png": "[encoded data removed]",
      "text/plain": [
       "<Figure size 576x288 with 2 Axes>"
      ]
     },
     "metadata": {
      "needs_background": "light"
     },
     "output_type": "display_data"
    },
    {
     "name": "stderr",
     "output_type": "stream",
     "text": [
      "  3% |##                                                                      |\r"
     ]
    },
    {
     "name": "stdout",
     "output_type": "stream",
     "text": [
      "6\n"
     ]
    },
    {
     "name": "stderr",
     "output_type": "stream",
     "text": [
      "100% |########################################################################|\n"
     ]
    },
    {
     "name": "stdout",
     "output_type": "stream",
     "text": [
      "[[0. 0. 0. 0. 0. 0. 0. 0. 0. 0.]]\n",
      "(array([], dtype=int64), array([], dtype=int64))\n",
      "ann\n"
     ]
    },
    {
     "data": {
      "image/png": "[encoded data removed]",
      "text/plain": [
       "<Figure size 576x288 with 2 Axes>"
      ]
     },
     "metadata": {
      "needs_background": "light"
     },
     "output_type": "display_data"
    },
    {
     "name": "stderr",
     "output_type": "stream",
     "text": [
      "100% |########################################################################|\n"
     ]
    },
    {
     "name": "stdout",
     "output_type": "stream",
     "text": [
      "[[0. 0. 0. 0. 0. 0. 0. 0. 0. 0.]]\n",
      "(array([], dtype=int64), array([], dtype=int64))\n",
      "rf\n"
     ]
    },
    {
     "data": {
      "image/png": "[encoded data removed]",
      "text/plain": [
       "<Figure size 576x288 with 2 Axes>"
      ]
     },
     "metadata": {
      "needs_background": "light"
     },
     "output_type": "display_data"
    },
    {
     "name": "stderr",
     "output_type": "stream",
     "text": [
      "  3% |##                                                                      |\r"
     ]
    },
    {
     "name": "stdout",
     "output_type": "stream",
     "text": [
      "7\n"
     ]
    },
    {
     "name": "stderr",
     "output_type": "stream",
     "text": [
      "100% |########################################################################|\n"
     ]
    },
    {
     "name": "stdout",
     "output_type": "stream",
     "text": [
      "[[1.9043789e-04 1.4064101e-02 1.5517448e-01 3.5660624e-04 3.6226931e-01\n",
      "  1.6487315e-02 4.4309485e-01 4.8936654e-05 8.2823252e-03 3.1733911e-05]]\n",
      "(array([], dtype=int64), array([], dtype=int64))\n",
      "ann\n"
     ]
    },
    {
     "data": {
      "image/png": "[encoded data removed]",
      "text/plain": [
       "<Figure size 576x288 with 2 Axes>"
      ]
     },
     "metadata": {
      "needs_background": "light"
     },
     "output_type": "display_data"
    },
    {
     "name": "stderr",
     "output_type": "stream",
     "text": [
      "100% |########################################################################|\n"
     ]
    },
    {
     "name": "stdout",
     "output_type": "stream",
     "text": [
      "[[1.9043789e-04 1.4064101e-02 1.5517448e-01 3.5660624e-04 3.6226931e-01\n",
      "  1.6487315e-02 4.4309485e-01 4.8936654e-05 8.2823252e-03 3.1733911e-05]]\n",
      "(array([], dtype=int64), array([], dtype=int64))\n",
      "rf\n"
     ]
    },
    {
     "data": {
      "image/png": "[encoded data removed]",
      "text/plain": [
       "<Figure size 576x288 with 2 Axes>"
      ]
     },
     "metadata": {
      "needs_background": "light"
     },
     "output_type": "display_data"
    },
    {
     "name": "stdout",
     "output_type": "stream",
     "text": [
      "running conf test\n",
      "ANN runing predictors\n",
      "5 7\n",
      "generating conf matrices\n",
      "classes: ['0' '1' '2' '3' '4' '5' '6' '7' '8' '9']\n",
      "Confusion matrix, without normalization\n",
      "[[5855    5    5    1    3    4   35    0   12    3]\n",
      " [   1 6636   37    4    8    0    5   15   32    4]\n",
      " [   7    8 5880   14   19    0    5   12    9    4]\n",
      " [   2    7   51 5992    1   25    3   21   15   14]\n",
      " [   3    5    5    0 5759    0   18    7   10   35]\n",
      " [   3    1    3   26    3 5337   28    1   15    4]\n",
      " [  10    7    2    1    7   26 5849    0   16    0]\n",
      " [   7    6   51   12   20    3    0 6115   10   41]\n",
      " [  16    8   22   14   15   33   25    4 5688   26]\n",
      " [  31    4   11    8   31   34    1   52   26 5751]]\n"
     ]
    },
    {
     "data": {
      "image/png": "[encoded data removed]",
      "text/plain": [
       "<Figure size 1440x1440 with 2 Axes>"
      ]
     },
     "metadata": {
      "needs_background": "light"
     },
     "output_type": "display_data"
    },
    {
     "name": "stdout",
     "output_type": "stream",
     "text": [
      "classes: ['0' '1' '2' '3' '4' '5' '6' '7' '8' '9']\n",
      "Confusion matrix, without normalization\n",
      "[[ 972    0    2    0    0    0    5    1    0    0]\n",
      " [   0 1114    4    0    0    1    4    0   12    0]\n",
      " [   2    1 1013    1    4    0    2    8    1    0]\n",
      " [   0    0    5  989    0   10    0    2    2    2]\n",
      " [   1    0    0    0  962    0    5    0    3   11]\n",
      " [   1    0    0    6    0  880    3    0    1    1]\n",
      " [   5    2    0    0    3    4  941    0    3    0]\n",
      " [   2    1   23    1    2    1    0  987    3    8]\n",
      " [   7    1    4    3    5    2    4    3  941    4]\n",
      " [   8    4    2    2    6    4    0    4   11  968]]\n"
     ]
    },
    {
     "data": {
      "image/png": "[encoded data removed]",
      "text/plain": [
       "<Figure size 1440x1440 with 2 Axes>"
      ]
     },
     "metadata": {
      "needs_background": "light"
     },
     "output_type": "display_data"
    },
    {
     "name": "stdout",
     "output_type": "stream",
     "text": [
      "RF runing predictors\n",
      "5 7\n",
      "generating conf matrices\n",
      "classes: ['0' '1' '2' '3' '4' '5' '6' '7' '8' '9']\n",
      "Confusion matrix, without normalization\n",
      "[[5923    0    0    0    0    0    0    0    0    0]\n",
      " [   0 6742    0    0    0    0    0    0    0    0]\n",
      " [   0    0 5958    0    0    0    0    0    0    0]\n",
      " [   0    0    0 6131    0    0    0    0    0    0]\n",
      " [   0    0    0    0 5842    0    0    0    0    0]\n",
      " [   0    0    0    0    0 5421    0    0    0    0]\n",
      " [   0    0    0    0    0    0 5918    0    0    0]\n",
      " [   0    0    0    0    0    0    0 6265    0    0]\n",
      " [   0    0    0    0    0    0    0    0 5851    0]\n",
      " [   0    0    0    0    0    0    0    0    0 5949]]\n"
     ]
    },
    {
     "data": {
      "image/png": "[encoded data removed]",
      "text/plain": [
       "<Figure size 1440x1440 with 2 Axes>"
      ]
     },
     "metadata": {
      "needs_background": "light"
     },
     "output_type": "display_data"
    },
    {
     "name": "stdout",
     "output_type": "stream",
     "text": [
      "classes: ['0' '1' '2' '3' '4' '5' '6' '7' '8' '9']\n",
      "Confusion matrix, without normalization\n",
      "[[ 979    0    0    0    0    0    0    1    0    0]\n",
      " [  20 1113    1    0    0    0    1    0    0    0]\n",
      " [ 106    0  921    0    0    0    0    4    1    0]\n",
      " [ 123    0    1  880    0    1    0    3    2    0]\n",
      " [  99    0    0    0  876    0    1    0    0    6]\n",
      " [ 126    0    0    1    0  763    1    0    1    0]\n",
      " [  64    2    0    0    1    0  891    0    0    0]\n",
      " [  88    0    8    0    0    0    0  931    0    1]\n",
      " [ 160    0    0    0    1    0    0    0  811    2]\n",
      " [ 112    0    0    1    3    0    0    1    0  892]]\n"
     ]
    },
    {
     "data": {
      "image/png": "[encoded data removed]",
      "text/plain": [
       "<Figure size 1440x1440 with 2 Axes>"
      ]
     },
     "metadata": {
      "needs_background": "light"
     },
     "output_type": "display_data"
    },
    {
     "name": "stdout",
     "output_type": "stream",
     "text": [
      "running stats test\n",
      "['ANN training', 'ANN test', 'RF training', 'RF test']\n",
      "[0.9810333333333333, 0.9767, 1.0, 0.9057]\n",
      "['ANN training', 'ANN test', 'RF training', 'RF test']\n",
      "[0.001437908, 0.0016805703, 0.0, 0.004905429]\n"
     ]
    },
    {
     "data": {
      "image/png": "[encoded data removed]",
      "text/plain": [
       "<Figure size 432x288 with 1 Axes>"
      ]
     },
     "metadata": {
      "needs_background": "light"
     },
     "output_type": "display_data"
    },
    {
     "data": {
      "image/png": "[encoded data removed]",
      "text/plain": [
       "<Figure size 432x288 with 1 Axes>"
      ]
     },
     "metadata": {
      "needs_background": "light"
     },
     "output_type": "display_data"
    },
    {
     "name": "stdout",
     "output_type": "stream",
     "text": [
      "done\n",
      "{'cc': (array([7]),), 'ci': [(array([7]),), (array([0, 0, 0, 0, 0, 0, 0, 0, 0, 0]), array([0, 1, 2, 3, 4, 5, 6, 7, 8, 9]))], 'ic': [(array([7]),), (array([0, 0, 0, 0, 0, 0, 0, 0, 0, 0]), array([0, 1, 2, 3, 4, 5, 6, 7, 8, 9]))], 'ii': [(array([7]),), (array([0, 0, 0, 0, 0, 0, 0, 0, 0, 0]), array([0, 1, 2, 3, 4, 5, 6, 7, 8, 9])), (array([0, 0, 0, 0, 0, 0, 0, 0, 0, 0]), array([0, 1, 2, 3, 4, 5, 6, 7, 8, 9]))]} {'0': {'ANN': 'ANNtslime0.png', 'RF': 'RFtslime0.png'}, '1': {'ANN': 'ANNtslime1.png', 'RF': 'RFtslime1.png'}, '2': {'ANN': 'ANNtslime2.png', 'RF': 'RFtslime2.png'}, '3': {'ANN': 'ANNtslime3.png', 'RF': 'RFtslime3.png'}, '4': {'ANN': 'ANNtslime4.png', 'RF': 'RFtslime4.png'}, '5': {'ANN': 'ANNtslime5.png', 'RF': 'RFtslime5.png'}, '6': {'ANN': 'ANNtslime6.png', 'RF': 'RFtslime6.png'}, '7': {'ANN': 'ANNtslime7.png', 'RF': 'RFtslime7.png'}} {'ANN': {'conf': {'tr': 'ANNtrainconf.png', 'ts': 'ANNtestconf.png'}}, 'RF': {'conf': {'tr': 'RFtrainconf.png', 'ts': 'RFtestconf.png'}}} {'ANN': {'acc': {'tr': 0.9810333333333333, 'ts': 0.9767}, 'loss': {'tr': 0.001437908, 'ts': 0.0016805703}}, 'RF': {'acc': {'tr': 1.0, 'ts': 0.9057}, 'loss': {'tr': 0.0, 'ts': 0.004905429}}}\n",
      "CPU times: user 10min 56s, sys: 4.4 s, total: 11min 1s\n",
      "Wall time: 8min 31s\n"
     ]
    }
   ],
   "source": [
    "\n",
    "%%time\n",
    "limeinfo,filenamests,conffilenames,stats=tester.run_test(x_train,x_test,y_train,y_test)"
   ]
  },
  {
   "cell_type": "code",
   "execution_count": 23,
   "metadata": {
    "colab": {
     "base_uri": "https://localhost:8080/",
     "height": 555
    },
    "colab_type": "code",
    "id": "rdN8JXL-l3AG",
    "outputId": "d948646a-373a-45a3-dbf0-001e45a3a54b"
   },
   "outputs": [
    {
     "name": "stdout",
     "output_type": "stream",
     "text": [
      "[name: \"/device:CPU:0\"\n",
      "device_type: \"CPU\"\n",
      "memory_limit: 268435456\n",
      "locality {\n",
      "}\n",
      "incarnation: 10589971491517518237\n",
      ", name: \"/device:XLA_CPU:0\"\n",
      "device_type: \"XLA_CPU\"\n",
      "memory_limit: 17179869184\n",
      "locality {\n",
      "}\n",
      "incarnation: 11360703215930382266\n",
      "physical_device_desc: \"device: XLA_CPU device\"\n",
      ", name: \"/device:XLA_GPU:0\"\n",
      "device_type: \"XLA_GPU\"\n",
      "memory_limit: 17179869184\n",
      "locality {\n",
      "}\n",
      "incarnation: 14715117212119179661\n",
      "physical_device_desc: \"device: XLA_GPU device\"\n",
      "]\n"
     ]
    }
   ],
   "source": [
    "from tensorflow.python.client import device_lib\n",
    "print(device_lib.list_local_devices())"
   ]
  },
  {
   "cell_type": "code",
   "execution_count": 24,
   "metadata": {
    "colab": {},
    "colab_type": "code",
    "id": "Yfe-EgI2CZbM"
   },
   "outputs": [],
   "source": [
    "def generate(limeinfo,filenamests,conffilenames,stats,models):\n",
    "    print(limeinfo,\n",
    "          '\\n_________________________________\\n',\n",
    "          filenamests,\n",
    "          '\\n_________________________________\\n',\n",
    "          conffilenames,\n",
    "          '\\n_________________________________\\n',\n",
    "          stats,\n",
    "         '\\n_________________________________\\n')\n",
    "    with open('tamplate.md','r') as f:\n",
    "        template=f.read()\n",
    "    \n",
    "    name1=str(list(models.keys())[0])\n",
    "    name2=str(list(models.keys())[1])\n",
    "    text=template.replace('occ_',str(limeinfo['cc'][0][0]))\n",
    "    \n",
    "    text=text.replace('model1',name1).replace('model2',name2)\n",
    "    print(name1,name2)\n",
    "    # Lime\n",
    "    \n",
    "    \n",
    "    # correct-correct\n",
    "    text=text.replace('_lgcc1_',name1+' true')\n",
    "    text=text.replace('_lgcc2_',name2+' true')\n",
    "    text=text.replace('_filenamelgcc1_',filenamests['0'][name1])\n",
    "    text=text.replace('_filenamelgcc2_',filenamests['0'][name2])\n",
    "    \n",
    "    # correct-incorrect\n",
    "    text=text.replace('oci_',str(limeinfo['ci'][0][0][0]))\n",
    "    text=text.replace('oci2',str(limeinfo['ci'][1][0][0]))\n",
    "    text=text.replace('_lgci1_',name1+' true')\n",
    "    text=text.replace('_lgci2c_',name2+' true')\n",
    "    text=text.replace('_lgci2p_',name2+' predicted')\n",
    "    text=text.replace('_filenamelgci1_',filenamests['1'][name1])\n",
    "    text=text.replace('_filenamelgci2c_',filenamests['1'][name2])    \n",
    "    text=text.replace('_filenamelgci2p_',filenamests['4'][name2])    \n",
    "    \n",
    "    # incorrect-correct\n",
    "    text=text.replace('oic_',str(limeinfo['ic'][0][0][0]))\n",
    "    text=text.replace('oic1',str(limeinfo['ic'][1][0][0]))\n",
    "    text=text.replace('_lgic1c_',name1+' true')\n",
    "    text=text.replace('_lgic1p_',name1+' predicted')\n",
    "    text=text.replace('_lgic2_',name2+' true')\n",
    "    text=text.replace('_filenamelgic1c_',filenamests['2'][name1])\n",
    "    text=text.replace('_filenamelgic1p_',filenamests['5'][name2])    \n",
    "    text=text.replace('_filenamelgic2_',filenamests['2'][name2])    \n",
    "    \n",
    "    # incorrect-incorrect\n",
    "    text=text.replace('oii_',str(limeinfo['ii'][0][0][0]))\n",
    "    text=text.replace('oii1',str(limeinfo['ii'][1][0][0]))\n",
    "    text=text.replace('oii2',str(limeinfo['ii'][2][0][0]))\n",
    "    text=text.replace('_lgii1p_',name1+' predicted')\n",
    "    text=text.replace('_lgii2p_',name2+' predicted')\n",
    "    text=text.replace('_lgii1c_',name1+' true')\n",
    "    text=text.replace('_lgii2c_',name2+' true')\n",
    "    text=text.replace('_filenamelgii1p_',filenamests['3'][name1])\n",
    "    text=text.replace('_filenamelgii1c_',filenamests['3'][name1])\n",
    "    text=text.replace('_filenamelgii2c_',filenamests['6'][name2])    \n",
    "    text=text.replace('_filenamelgii2p_',filenamests['7'][name2])    \n",
    "    \n",
    "    \n",
    "    # conf matrices\n",
    "    text=text.replace('_cg1tr_',name1 +' training confution matrix')\n",
    "    text=text.replace('_cg1ts_',name1 +' test confution matrix')\n",
    "    text=text.replace('_cg2tr_',name2 +' training confution matrix')\n",
    "    text=text.replace('_cg2ts_',name2 +' test confution matrix')\n",
    "    \n",
    "    text=text.replace('_filenamecg1tr_',conffilenames[name1]['conf']['tr'])\n",
    "    text=text.replace('_filenamecg1ts_',conffilenames[name1]['conf']['ts'])\n",
    "    text=text.replace('_filenamecg2tr_',conffilenames[name2]['conf']['tr'])\n",
    "    text=text.replace('_filenamecg2ts_',conffilenames[name2]['conf']['ts'])\n",
    "    # stats\n",
    "    \n",
    "    text=text.replace('tracc1val',str(stats[name1]['acc']['tr']))\n",
    "    text=text.replace('tsacc1val',str(stats[name1]['acc']['ts']))\n",
    "    text=text.replace('tracc2val',str(stats[name2]['acc']['tr']))\n",
    "    text=text.replace('tsacc2val',str(stats[name2]['acc']['ts']))\n",
    "    text=text.replace('trloss1val',str(stats[name1]['loss']['tr']))\n",
    "    text=text.replace('tsloss1val',str(stats[name1]['loss']['ts']))\n",
    "    text=text.replace('trloss2val',str(stats[name2]['loss']['tr']))\n",
    "    text=text.replace('tsloss2val',str(stats[name2]['loss']['ts']))\n",
    "    \n",
    "    text=text.replace('_filenameacc_','acc.png')\n",
    "    text=text.replace('_filenameloss_','loss.png')\n",
    "    print(text)\n",
    "    with open('report.md','w') as f:\n",
    "        f.write(text)\n",
    "    print(text)"
   ]
  },
  {
   "cell_type": "code",
   "execution_count": 25,
   "metadata": {
    "colab": {
     "base_uri": "https://localhost:8080/",
     "height": 225
    },
    "colab_type": "code",
    "id": "rFuoLjZSCZbQ",
    "outputId": "564dc176-468f-44f8-9b64-1b4b46c83ef6"
   },
   "outputs": [
    {
     "data": {
      "text/plain": [
       "{'cc': (array([7]),),\n",
       " 'ci': [(array([7]),),\n",
       "  (array([0, 0, 0, 0, 0, 0, 0, 0, 0, 0]),\n",
       "   array([0, 1, 2, 3, 4, 5, 6, 7, 8, 9]))],\n",
       " 'ic': [(array([7]),),\n",
       "  (array([0, 0, 0, 0, 0, 0, 0, 0, 0, 0]),\n",
       "   array([0, 1, 2, 3, 4, 5, 6, 7, 8, 9]))],\n",
       " 'ii': [(array([7]),),\n",
       "  (array([0, 0, 0, 0, 0, 0, 0, 0, 0, 0]),\n",
       "   array([0, 1, 2, 3, 4, 5, 6, 7, 8, 9])),\n",
       "  (array([0, 0, 0, 0, 0, 0, 0, 0, 0, 0]),\n",
       "   array([0, 1, 2, 3, 4, 5, 6, 7, 8, 9]))]}"
      ]
     },
     "execution_count": 25,
     "metadata": {},
     "output_type": "execute_result"
    }
   ],
   "source": [
    "limeinfo"
   ]
  },
  {
   "cell_type": "code",
   "execution_count": 26,
   "metadata": {
    "colab": {
     "base_uri": "https://localhost:8080/",
     "height": 1000
    },
    "colab_type": "code",
    "id": "BafHN9CPCZbW",
    "outputId": "ed447be8-9979-4a42-a803-2159a8bbd12b",
    "scrolled": true
   },
   "outputs": [
    {
     "name": "stdout",
     "output_type": "stream",
     "text": [
      "{'cc': (array([7]),), 'ci': [(array([7]),), (array([0, 0, 0, 0, 0, 0, 0, 0, 0, 0]), array([0, 1, 2, 3, 4, 5, 6, 7, 8, 9]))], 'ic': [(array([7]),), (array([0, 0, 0, 0, 0, 0, 0, 0, 0, 0]), array([0, 1, 2, 3, 4, 5, 6, 7, 8, 9]))], 'ii': [(array([7]),), (array([0, 0, 0, 0, 0, 0, 0, 0, 0, 0]), array([0, 1, 2, 3, 4, 5, 6, 7, 8, 9])), (array([0, 0, 0, 0, 0, 0, 0, 0, 0, 0]), array([0, 1, 2, 3, 4, 5, 6, 7, 8, 9]))]} \n",
      "_________________________________\n",
      " {'0': {'ANN': 'ANNtslime0.png', 'RF': 'RFtslime0.png'}, '1': {'ANN': 'ANNtslime1.png', 'RF': 'RFtslime1.png'}, '2': {'ANN': 'ANNtslime2.png', 'RF': 'RFtslime2.png'}, '3': {'ANN': 'ANNtslime3.png', 'RF': 'RFtslime3.png'}, '4': {'ANN': 'ANNtslime4.png', 'RF': 'RFtslime4.png'}, '5': {'ANN': 'ANNtslime5.png', 'RF': 'RFtslime5.png'}, '6': {'ANN': 'ANNtslime6.png', 'RF': 'RFtslime6.png'}, '7': {'ANN': 'ANNtslime7.png', 'RF': 'RFtslime7.png'}} \n",
      "_________________________________\n",
      " {'ANN': {'conf': {'tr': 'ANNtrainconf.png', 'ts': 'ANNtestconf.png'}}, 'RF': {'conf': {'tr': 'RFtrainconf.png', 'ts': 'RFtestconf.png'}}} \n",
      "_________________________________\n",
      " {'ANN': {'acc': {'tr': 0.9810333333333333, 'ts': 0.9767}, 'loss': {'tr': 0.001437908, 'ts': 0.0016805703}}, 'RF': {'acc': {'tr': 1.0, 'ts': 0.9057}, 'loss': {'tr': 0.0, 'ts': 0.004905429}}} \n",
      "_________________________________\n",
      "\n",
      "ANN RF\n",
      "# Models Report\n",
      "## Lime test\n",
      "### Correct-Correct\n",
      "\n",
      "true output: 7\n",
      "\n",
      "#### ANN\n",
      "\n",
      "!['ANN true'](ANNtslime0.png)\n",
      "filename: ANNtslime0.png\n",
      "\n",
      "#### RF\n",
      "\n",
      "!['RF true'](RFtslime0.png)\n",
      "filename: RFtslime0.png\n",
      "\n",
      "### ANN Correct-RF Incorrect\n",
      "\n",
      "true output: 7\n",
      "\n",
      "#### ANN\n",
      "\n",
      "!['ANN true'](ANNtslime1.png)\n",
      "filename: ANNtslime1.png\n",
      "\n",
      "#### RF\n",
      "\n",
      "predicted: 0\n",
      "\n",
      "!['RF true'](RFtslime1.png)\n",
      "!['RF predicted'](RFtslime4.png)\n",
      "filename: \n",
      "* RFtslime1.png\n",
      "* RFtslime4.png\n",
      "\n",
      "### ANN Incorrect-RF Correct\n",
      "\n",
      "true output: 7\n",
      "\n",
      "#### ANN\n",
      "\n",
      "predicted: 0\n",
      "\n",
      "!['ANN true'](ANNtslime2.png)\n",
      "!['ANN predicted'](RFtslime5.png)\n",
      "\n",
      "filename:\n",
      "* ANNtslime2.png\n",
      "* RFtslime5.png\n",
      "\n",
      "#### RF\n",
      "\n",
      "!['RF true'](RFtslime2.png)\n",
      "\n",
      "filename: RFtslime2.png\n",
      "\n",
      "### ANN Incorrect-RF Correct\n",
      "\n",
      "true output: 7\n",
      "\n",
      "#### ANN\n",
      "\n",
      "predicted: 0\n",
      "\n",
      "!['ANN true'](ANNtslime3.png)\n",
      "!['ANN predicted'](ANNtslime3.png)\n",
      "\n",
      "filename: \n",
      "* ANNtslime3.png\n",
      "* ANNtslime3.png\n",
      "\n",
      "#### RF\n",
      "\n",
      "predicted: 0\n",
      "\n",
      "\n",
      "!['RF true'](RFtslime6.png)\n",
      "!['RF predicted'](RFtslime7.png)\n",
      "\n",
      "filename: \n",
      "* RFtslime6.png\n",
      "* RFtslime7.png\n",
      "\n",
      "## Confusion matrices\n",
      "\n",
      "### ANN training\n",
      "\n",
      "!['ANN training confution matrix'](ANNtrainconf.png)\n",
      "\n",
      "filename: ANNtrainconf.png\n",
      "\n",
      "### ANN testing\n",
      "\n",
      "!['ANN test confution matrix'](ANNtestconf.png)\n",
      "filename: ANNtestconf.png\n",
      "\n",
      "### RF training\n",
      "\n",
      "!['RF training confution matrix'](RFtrainconf.png)\n",
      "\n",
      "filename: RFtrainconf.png\n",
      "\n",
      "### RF testing\n",
      "\n",
      "!['RF test confution matrix'](RFtestconf.png)\n",
      "\n",
      "filename: RFtestconf.png\n",
      "\n",
      "## Stats\n",
      "\n",
      "### Acuracy\n",
      "\n",
      "ANN acccuracy: \n",
      "* training: 0.9810333333333333\n",
      "* test: 0.9767\n",
      "\n",
      "RF accuracy:\n",
      "* training: 1.0\n",
      "* test: 0.9057\n",
      "\n",
      "!['Accuracy'](acc.png)\n",
      "\n",
      "filename: acc.png\n",
      "\n",
      "### Loss\n",
      "\n",
      "ANN loss: \n",
      "* training: 0.001437908\n",
      "* test: 0.0016805703\n",
      "RF loss:\n",
      "* training: 0.0\n",
      "* test: 0.004905429\n",
      "\n",
      "!['Loss'](loss.png)\n",
      "\n",
      "filename: loss.png\n",
      "\n",
      "# Models Report\n",
      "## Lime test\n",
      "### Correct-Correct\n",
      "\n",
      "true output: 7\n",
      "\n",
      "#### ANN\n",
      "\n",
      "!['ANN true'](ANNtslime0.png)\n",
      "filename: ANNtslime0.png\n",
      "\n",
      "#### RF\n",
      "\n",
      "!['RF true'](RFtslime0.png)\n",
      "filename: RFtslime0.png\n",
      "\n",
      "### ANN Correct-RF Incorrect\n",
      "\n",
      "true output: 7\n",
      "\n",
      "#### ANN\n",
      "\n",
      "!['ANN true'](ANNtslime1.png)\n",
      "filename: ANNtslime1.png\n",
      "\n",
      "#### RF\n",
      "\n",
      "predicted: 0\n",
      "\n",
      "!['RF true'](RFtslime1.png)\n",
      "!['RF predicted'](RFtslime4.png)\n",
      "filename: \n",
      "* RFtslime1.png\n",
      "* RFtslime4.png\n",
      "\n",
      "### ANN Incorrect-RF Correct\n",
      "\n",
      "true output: 7\n",
      "\n",
      "#### ANN\n",
      "\n",
      "predicted: 0\n",
      "\n",
      "!['ANN true'](ANNtslime2.png)\n",
      "!['ANN predicted'](RFtslime5.png)\n",
      "\n",
      "filename:\n",
      "* ANNtslime2.png\n",
      "* RFtslime5.png\n",
      "\n",
      "#### RF\n",
      "\n",
      "!['RF true'](RFtslime2.png)\n",
      "\n",
      "filename: RFtslime2.png\n",
      "\n",
      "### ANN Incorrect-RF Correct\n",
      "\n",
      "true output: 7\n",
      "\n",
      "#### ANN\n",
      "\n",
      "predicted: 0\n",
      "\n",
      "!['ANN true'](ANNtslime3.png)\n",
      "!['ANN predicted'](ANNtslime3.png)\n",
      "\n",
      "filename: \n",
      "* ANNtslime3.png\n",
      "* ANNtslime3.png\n",
      "\n",
      "#### RF\n",
      "\n",
      "predicted: 0\n",
      "\n",
      "\n",
      "!['RF true'](RFtslime6.png)\n",
      "!['RF predicted'](RFtslime7.png)\n",
      "\n",
      "filename: \n",
      "* RFtslime6.png\n",
      "* RFtslime7.png\n",
      "\n",
      "## Confusion matrices\n",
      "\n",
      "### ANN training\n",
      "\n",
      "!['ANN training confution matrix'](ANNtrainconf.png)\n",
      "\n",
      "filename: ANNtrainconf.png\n",
      "\n",
      "### ANN testing\n",
      "\n",
      "!['ANN test confution matrix'](ANNtestconf.png)\n",
      "filename: ANNtestconf.png\n",
      "\n",
      "### RF training\n",
      "\n",
      "!['RF training confution matrix'](RFtrainconf.png)\n",
      "\n",
      "filename: RFtrainconf.png\n",
      "\n",
      "### RF testing\n",
      "\n",
      "!['RF test confution matrix'](RFtestconf.png)\n",
      "\n",
      "filename: RFtestconf.png\n",
      "\n",
      "## Stats\n",
      "\n",
      "### Acuracy\n",
      "\n",
      "ANN acccuracy: \n",
      "* training: 0.9810333333333333\n",
      "* test: 0.9767\n",
      "\n",
      "RF accuracy:\n",
      "* training: 1.0\n",
      "* test: 0.9057\n",
      "\n",
      "!['Accuracy'](acc.png)\n",
      "\n",
      "filename: acc.png\n",
      "\n",
      "### Loss\n",
      "\n",
      "ANN loss: \n",
      "* training: 0.001437908\n",
      "* test: 0.0016805703\n",
      "RF loss:\n",
      "* training: 0.0\n",
      "* test: 0.004905429\n",
      "\n",
      "!['Loss'](loss.png)\n",
      "\n",
      "filename: loss.png\n",
      "\n"
     ]
    }
   ],
   "source": [
    "generate(limeinfo,filenamests,conffilenames,stats,tester.models)"
   ]
  },
  {
   "cell_type": "code",
   "execution_count": 36,
   "metadata": {
    "colab": {},
    "colab_type": "code",
    "id": "TnuJA8r9ajeR"
   },
   "outputs": [
    {
     "data": {
      "text/plain": [
       "<matplotlib.image.AxesImage at 0x7f2b241e1790>"
      ]
     },
     "execution_count": 36,
     "metadata": {},
     "output_type": "execute_result"
    },
    {
     "data": {
      "image/png": "[encoded data removed]",
      "text/plain": [
       "<Figure size 432x288 with 1 Axes>"
      ]
     },
     "metadata": {
      "needs_background": "light"
     },
     "output_type": "display_data"
    }
   ],
   "source": [
    "plt.imshow(x_train[248][:,:,[0,0,0]])"
   ]
  },
  {
   "cell_type": "code",
   "execution_count": 6,
   "metadata": {},
   "outputs": [
    {
     "name": "stdout",
     "output_type": "stream",
     "text": [
      "[master 06a67ac] Update\n",
      " 1 file changed, 78 insertions(+), 29 deletions(-)\n",
      "Username for 'https://github.com': ^C\n"
     ]
    }
   ],
   "source": [
    "!git add *\n",
    "!git commit -m 'Update'\n",
    "!git push"
   ]
  },
  {
   "cell_type": "code",
   "execution_count": 8,
   "metadata": {},
   "outputs": [
    {
     "name": "stdout",
     "output_type": "stream",
     "text": [
      "error: unknown option `h'\n",
      "usage: git push [<options>] [<repository> [<refspec>...]]\n",
      "\n",
      "    -v, --verbose         be more verbose\n",
      "    -q, --quiet           be more quiet\n",
      "    --repo <repository>   repository\n",
      "    --all                 push all refs\n",
      "    --mirror              mirror all refs\n",
      "    -d, --delete          delete refs\n",
      "    --tags                push tags (can't be used with --all or --mirror)\n",
      "    -n, --dry-run         dry run\n",
      "    --porcelain           machine-readable output\n",
      "    -f, --force           force updates\n",
      "    --force-with-lease[=<refname>:<expect>]\n",
      "                          require old value of ref to be at this value\n",
      "    --recurse-submodules[=<check|on-demand|no>]\n",
      "                          control recursive pushing of submodules\n",
      "    --thin                use thin pack\n",
      "    --receive-pack <receive-pack>\n",
      "                          receive pack program\n",
      "    --exec <receive-pack>\n",
      "                          receive pack program\n",
      "    -u, --set-upstream    set upstream for git pull/status\n",
      "    --progress            force progress reporting\n",
      "    --prune               prune locally removed refs\n",
      "    --no-verify           bypass pre-push hook\n",
      "    --follow-tags         push missing but relevant tags\n",
      "    --signed[=<yes|no|if-asked>]\n",
      "                          GPG sign the push\n",
      "    --atomic              request atomic transaction on remote side\n",
      "    -o, --push-option <server-specific>\n",
      "                          option to transmit\n",
      "    -4, --ipv4            use IPv4 addresses only\n",
      "    -6, --ipv6            use IPv6 addresses only\n",
      "\n"
     ]
    }
   ],
   "source": [
    "!git push --h"
   ]
  },
  {
   "cell_type": "code",
   "execution_count": null,
   "metadata": {},
   "outputs": [],
   "source": []
  }
 ],
 "metadata": {
  "accelerator": "GPU",
  "colab": {
   "collapsed_sections": [
    "1kY4g75WEtOz",
    "rAWvZvtpExxL",
    "8UZL9g74E6uB",
    "mhmIdlRPE_76",
    "OQ_ioCVdERI9",
    "uaHpqxNUEWxJ"
   ],
   "name": "ANNmnist.ipynb",
   "provenance": [],
   "toc_visible": true
  },
  "kernelspec": {
   "display_name": "Python 3",
   "language": "python",
   "name": "python3"
  },
  "language_info": {
   "codemirror_mode": {
    "name": "ipython",
    "version": 3
   },
   "file_extension": ".py",
   "mimetype": "text/x-python",
   "name": "python",
   "nbconvert_exporter": "python",
   "pygments_lexer": "ipython3",
   "version": "3.7.4"
  }
 },
 "nbformat": 4,
 "nbformat_minor": 4
}
