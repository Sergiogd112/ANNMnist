{
 "cells": [
  {
   "cell_type": "markdown",
   "metadata": {
    "Collapsed": "false",
    "colab_type": "text",
    "id": "1kY4g75WEtOz"
   },
   "source": [
    "# Install dependencies"
   ]
  },
  {
   "cell_type": "code",
   "execution_count": 1,
   "metadata": {
    "Collapsed": "false",
    "colab": {
     "base_uri": "https://localhost:8080/",
     "height": 1000
    },
    "colab_type": "code",
    "id": "T7o82XPgoqhw",
    "outputId": "cd09f6e8-d84a-4783-ec87-bb1fb4a59929",
    "scrolled": true
   },
   "outputs": [],
   "source": [
    "#!pip install lime\n",
    "#!pip install keras tensorflow"
   ]
  },
  {
   "cell_type": "code",
   "execution_count": 2,
   "metadata": {
    "Collapsed": "false",
    "colab": {
     "base_uri": "https://localhost:8080/",
     "height": 34
    },
    "colab_type": "code",
    "id": "DqohMMQoDYap",
    "outputId": "52d09b8c-b24f-4f78-b384-e76e6af09c82"
   },
   "outputs": [],
   "source": [
    "#!pip -V"
   ]
  },
  {
   "cell_type": "markdown",
   "metadata": {
    "Collapsed": "false",
    "colab_type": "text",
    "id": "rAWvZvtpExxL"
   },
   "source": [
    "# Import libraries"
   ]
  },
  {
   "cell_type": "code",
   "execution_count": 3,
   "metadata": {
    "Collapsed": "false",
    "colab": {
     "base_uri": "https://localhost:8080/",
     "height": 81
    },
    "colab_type": "code",
    "id": "v6oIm11-n6rc",
    "outputId": "be4593a6-cac4-4962-ea21-0a1c411ceefe"
   },
   "outputs": [
    {
     "name": "stderr",
     "output_type": "stream",
     "text": [
      "Using Theano backend.\n"
     ]
    }
   ],
   "source": [
    "from __future__ import print_function\n",
    "import keras\n",
    "from keras.datasets import mnist\n",
    "from keras.models import Sequential\n",
    "from keras.layers import Dense, Dropout, Flatten, MaxPooling2D, Dense, Activation\n",
    "from keras.layers import Conv2D, MaxPooling2D\n",
    "from keras import backend as K\n",
    "from sklearn.ensemble import RandomForestClassifier\n",
    "from sklearn.metrics import confusion_matrix\n",
    "from sklearn.utils.multiclass import unique_labels\n",
    "from sklearn.metrics import accuracy_score\n",
    "from sklearn.metrics import mean_squared_log_error\n",
    "from scipy import stats\n",
    "#import tensorflow as tf\n",
    "import pickle as pk\n",
    "# for ploting data\n",
    "from matplotlib import pyplot as plt\n",
    "from matplotlib import rcParams\n",
    "rcParams.update({'figure.autolayout': True})\n",
    "# to explain local cases and understand the model's decision\n",
    "import lime\n",
    "from lime import lime_image\n",
    "from lime.wrappers.scikit_image import SegmentationAlgorithm\n",
    "# for matrix operation\n",
    "import numpy as np\n",
    "\n",
    "#for table manipulation\n",
    "import pandas as pd\n",
    "\n",
    "# garbage collector\n",
    "import gc\n",
    "\n",
    "import numpy as np\n",
    "import matplotlib.pyplot as plt\n",
    "from skimage.color import gray2rgb, rgb2gray, label2rgb\n",
    "# from tensorflow.keras.layers import Conv2D, MaxPooling2D, Dense, Flatten, Activation"
   ]
  },
  {
   "cell_type": "markdown",
   "metadata": {
    "Collapsed": "false",
    "colab_type": "text",
    "id": "duOUOdOaE2W0"
   },
   "source": [
    "# Adapter"
   ]
  },
  {
   "cell_type": "code",
   "execution_count": 4,
   "metadata": {
    "Collapsed": "false",
    "colab": {},
    "colab_type": "code",
    "id": "tWkvIsa78zss"
   },
   "outputs": [],
   "source": [
    "class MyModel():\n",
    "    def __init__(self,model,ty,max=False):\n",
    "        self.model = model\n",
    "        self.ty=ty\n",
    "        self.max=True\n",
    "    def predict(self, img):\n",
    "        img = np.array(img)\n",
    "        if(len(img.shape)==3):\n",
    "            if(self.ty=='rf'):\n",
    "                data=img[:,:,0].reshape(1, img.shape[0]*img.shape[1])\n",
    "            else:\n",
    "                data=img[:,:,0].reshape(1, img.shape[0], img.shape[1], 1)\n",
    "        else:\n",
    "            if(self.ty=='rf'):\n",
    "                data=img[:,:,:,0].reshape(img.shape[0], img.shape[1]*img.shape[2])\n",
    "            else:\n",
    "                data=img[:,:,:,0].reshape(img.shape[0], img.shape[1], img.shape[2], 1)\n",
    "        pred=self.model.predict(data)\n",
    "        return pred"
   ]
  },
  {
   "cell_type": "markdown",
   "metadata": {
    "Collapsed": "false",
    "colab_type": "text",
    "id": "8UZL9g74E6uB"
   },
   "source": [
    "# configuration"
   ]
  },
  {
   "cell_type": "code",
   "execution_count": 5,
   "metadata": {
    "Collapsed": "false",
    "colab": {},
    "colab_type": "code",
    "id": "T90CddCkoGxQ"
   },
   "outputs": [],
   "source": [
    "batch_size = 128\n",
    "num_classes = 10\n",
    "epochs = 1"
   ]
  },
  {
   "cell_type": "code",
   "execution_count": 6,
   "metadata": {
    "Collapsed": "false",
    "colab": {},
    "colab_type": "code",
    "id": "bXE-EG6loLBB"
   },
   "outputs": [],
   "source": [
    "# input image dimensions\n",
    "img_rows, img_cols = 28, 28"
   ]
  },
  {
   "cell_type": "markdown",
   "metadata": {
    "Collapsed": "false",
    "colab_type": "text",
    "id": "mhmIdlRPE_76"
   },
   "source": [
    "# Getting the data"
   ]
  },
  {
   "cell_type": "code",
   "execution_count": 39,
   "metadata": {
    "Collapsed": "false",
    "colab": {},
    "colab_type": "code",
    "id": "cIhbsPjzoNzt"
   },
   "outputs": [],
   "source": [
    "# the data, split between train and test sets\n",
    "(x_train, y_train), (x_test, y_test) = mnist.load_data()"
   ]
  },
  {
   "cell_type": "markdown",
   "metadata": {
    "Collapsed": "false"
   },
   "source": [
    "## Show Data"
   ]
  },
  {
   "cell_type": "code",
   "execution_count": 58,
   "metadata": {
    "Collapsed": "false"
   },
   "outputs": [],
   "source": [
    "values = list(range(10))\n",
    "idxs = [np.argwhere(y_train == value)[0][0] for value in values]"
   ]
  },
  {
   "cell_type": "code",
   "execution_count": 62,
   "metadata": {
    "Collapsed": "false"
   },
   "outputs": [
    {
     "data": {
      "image/png": "[encoded data removed]",
      "text/plain": [
       "<Figure size 432x288 with 1 Axes>"
      ]
     },
     "metadata": {
      "needs_background": "light"
     },
     "output_type": "display_data"
    }
   ],
   "source": [
    "rows=x_train.shape[1]\n",
    "cols=x_train.shape[2]\n",
    "cases=np.zeros((rows*2, cols*5))\n",
    "for value, idx in zip(values, idxs):\n",
    "    cases[(value//5)*rows:((value//5)+1)*rows,(value%5)*cols:((value%5)+1)*cols] = x_train[idx, :, :]\n",
    "plt.imshow(cases, plt.cm.gray)\n",
    "plt.show()"
   ]
  },
  {
   "cell_type": "markdown",
   "metadata": {
    "Collapsed": "false",
    "colab_type": "text",
    "id": "OQ_ioCVdERI9"
   },
   "source": [
    "# Parser"
   ]
  },
  {
   "cell_type": "code",
   "execution_count": 8,
   "metadata": {
    "Collapsed": "false",
    "colab": {
     "base_uri": "https://localhost:8080/",
     "height": 34
    },
    "colab_type": "code",
    "id": "rUcvN-6soXf-",
    "outputId": "54776e41-b1cb-4fdb-9d38-77b51005c718"
   },
   "outputs": [
    {
     "name": "stdout",
     "output_type": "stream",
     "text": [
      "(60000, 784) (10000, 784)\n"
     ]
    }
   ],
   "source": [
    "if K.image_data_format() == 'channels_first':\n",
    "    x_train = x_train.reshape(x_train.shape[0], 1, img_rows, img_cols)\n",
    "    x_test = x_test.reshape(x_test.shape[0], 1, img_rows, img_cols)\n",
    "    \n",
    "    x_train_2d=np.array([[[x[0] for x in y]for y in a]for a in x_train])\n",
    "    x_test_2d=np.array([[[x[0] for x in y]for y in a]for a in x_test])\n",
    "\n",
    "    x_train_1d=x_train.reshape(x_train.shape[1], x_train.shape[2]*x_train.shape[3])\n",
    "    x_test_1d=x_test.reshape(x_test.shape[1], x_test.shape[2]*x_test.shape[3])\n",
    "    x_train_1d=np.array(x_train_1d)\n",
    "    x_test_1d=np.array(x_test_1d)    \n",
    "    print(x_train_1d.shape, x_test_1d.shape)\n",
    "    input_shape = (1,img_rows, img_cols)\n",
    "else:\n",
    "    x_train = x_train.reshape(x_train.shape[0], img_rows, img_cols, 1)\n",
    "    x_test = x_test.reshape(x_test.shape[0], img_rows, img_cols, 1)\n",
    "    x_train_2d=np.array([[[x[0] for x in y]for y in a]for a in x_train])\n",
    "    x_test_2d=np.array([[[x[0] for x in y]for y in a]for a in x_test])\n",
    "    x_train_1d=x_train.reshape(x_train.shape[0], x_train.shape[1]*x_train.shape[2])\n",
    "    x_test_1d=x_test.reshape(x_test.shape[0], x_test.shape[1]*x_test.shape[2])\n",
    "    print(x_train_1d.shape, x_test_1d.shape)\n",
    "    input_shape = (img_rows, img_cols,1)"
   ]
  },
  {
   "cell_type": "code",
   "execution_count": 9,
   "metadata": {
    "Collapsed": "false",
    "colab": {
     "base_uri": "https://localhost:8080/",
     "height": 34
    },
    "colab_type": "code",
    "id": "KLr_n2eJQSWO",
    "outputId": "b6bd4b38-6208-42e0-ac6f-2f5a12328482"
   },
   "outputs": [
    {
     "data": {
      "text/plain": [
       "(60000, 28, 28, 1)"
      ]
     },
     "execution_count": 9,
     "metadata": {},
     "output_type": "execute_result"
    }
   ],
   "source": [
    "x_train.shape"
   ]
  },
  {
   "cell_type": "markdown",
   "metadata": {
    "Collapsed": "false",
    "colab": {
     "base_uri": "https://localhost:8080/",
     "height": 69
    },
    "colab_type": "code",
    "id": "QPXpK6BcoaEG",
    "outputId": "880f93ec-456e-41c9-bd85-456b7f22c9f9"
   },
   "source": [
    "x_train = x_train.astype('float32')\n",
    "x_test = x_test.astype('float32')\n",
    "x_train /= 255\n",
    "x_test /= 255\n",
    "print('x_train shape:', x_train.shape)\n",
    "print(x_train.shape[0], 'train samples')\n",
    "print(x_test.shape[0], 'test samples')"
   ]
  },
  {
   "cell_type": "code",
   "execution_count": 10,
   "metadata": {
    "Collapsed": "false",
    "colab": {},
    "colab_type": "code",
    "id": "RlfD2TuDocxP"
   },
   "outputs": [],
   "source": [
    "# convert class vectors to binary class matrices\n",
    "y_train = keras.utils.to_categorical(y_train, num_classes)\n",
    "y_test = keras.utils.to_categorical(y_test, num_classes)"
   ]
  },
  {
   "cell_type": "code",
   "execution_count": 11,
   "metadata": {
    "Collapsed": "false",
    "colab": {
     "base_uri": "https://localhost:8080/",
     "height": 34
    },
    "colab_type": "code",
    "id": "b8mYuX03tu1P",
    "outputId": "20a513f4-85a7-46d7-b662-a5aa03375fd8"
   },
   "outputs": [
    {
     "data": {
      "text/plain": [
       "(28, 28, 1)"
      ]
     },
     "execution_count": 11,
     "metadata": {},
     "output_type": "execute_result"
    }
   ],
   "source": [
    "input_shape"
   ]
  },
  {
   "cell_type": "markdown",
   "metadata": {
    "Collapsed": "false",
    "colab_type": "text",
    "id": "uaHpqxNUEWxJ"
   },
   "source": [
    "# Models"
   ]
  },
  {
   "cell_type": "markdown",
   "metadata": {
    "Collapsed": "false",
    "colab_type": "text",
    "id": "MNSBANLXsv_O"
   },
   "source": [
    "## ANN"
   ]
  },
  {
   "cell_type": "code",
   "execution_count": 12,
   "metadata": {
    "Collapsed": "false",
    "colab": {
     "base_uri": "https://localhost:8080/",
     "height": 729
    },
    "colab_type": "code",
    "id": "g07DcbxOogB8",
    "outputId": "8439a140-c56d-4ad4-b395-a1df6cdba4dd"
   },
   "outputs": [
    {
     "name": "stdout",
     "output_type": "stream",
     "text": [
      "Model: \"sequential_1\"\n",
      "_________________________________________________________________\n",
      "Layer (type)                 Output Shape              Param #   \n",
      "=================================================================\n",
      "conv2d_1 (Conv2D)            (None, 26, 26, 32)        320       \n",
      "_________________________________________________________________\n",
      "conv2d_2 (Conv2D)            (None, 24, 24, 64)        18496     \n",
      "_________________________________________________________________\n",
      "max_pooling2d_1 (MaxPooling2 (None, 12, 12, 64)        0         \n",
      "_________________________________________________________________\n",
      "dropout_1 (Dropout)          (None, 12, 12, 64)        0         \n",
      "_________________________________________________________________\n",
      "flatten_1 (Flatten)          (None, 9216)              0         \n",
      "_________________________________________________________________\n",
      "dense_1 (Dense)              (None, 128)               1179776   \n",
      "_________________________________________________________________\n",
      "dropout_2 (Dropout)          (None, 128)               0         \n",
      "_________________________________________________________________\n",
      "dense_2 (Dense)              (None, 10)                1290      \n",
      "=================================================================\n",
      "Total params: 1,199,882\n",
      "Trainable params: 1,199,882\n",
      "Non-trainable params: 0\n",
      "_________________________________________________________________\n"
     ]
    }
   ],
   "source": [
    "model = Sequential()\n",
    "model.add(Conv2D(32, kernel_size=(3, 3),\n",
    "                 activation='relu',\n",
    "                 input_shape=input_shape))\n",
    "model.add(Conv2D(64, (3, 3), activation='relu'))\n",
    "model.add(MaxPooling2D(pool_size=(2, 2)))\n",
    "model.add(Dropout(0.25))\n",
    "model.add(Flatten())\n",
    "model.add(Dense(128, activation='relu'))\n",
    "model.add(Dropout(0.5))\n",
    "model.add(Dense(num_classes, activation='softmax'))\n",
    "\n",
    "model.compile(loss=keras.losses.categorical_crossentropy,\n",
    "              optimizer=keras.optimizers.Adadelta(),\n",
    "              metrics=['accuracy'])\n",
    "model.summary()"
   ]
  },
  {
   "cell_type": "code",
   "execution_count": 13,
   "metadata": {
    "Collapsed": "false",
    "colab": {
     "base_uri": "https://localhost:8080/",
     "height": 469
    },
    "colab_type": "code",
    "id": "d5FmXSQholAy",
    "outputId": "31eba4fd-e7c2-402e-f462-026b6f0a5014"
   },
   "outputs": [
    {
     "name": "stdout",
     "output_type": "stream",
     "text": [
      "Train on 1000 samples, validate on 10000 samples\n",
      "Epoch 1/1\n",
      "1000/1000 [==============================] - 36s 36ms/step - loss: 12.6646 - accuracy: 0.1820 - val_loss: 12.1612 - val_accuracy: 0.2262\n",
      "Test loss: 12.161160316467285\n",
      "Test accuracy: 0.22619999945163727\n",
      "CPU times: user 1min 20s, sys: 11.8 s, total: 1min 32s\n",
      "Wall time: 12min 41s\n"
     ]
    }
   ],
   "source": [
    "%%time\n",
    "amount=1000\n",
    "model.fit(x_train[:amount], y_train[:amount],\n",
    "          batch_size=batch_size,\n",
    "          epochs=epochs,\n",
    "          verbose=1,\n",
    "          validation_data=(x_test, y_test))\n",
    "score = model.evaluate(x_test, y_test, verbose=0)\n",
    "print('Test loss:', score[0])\n",
    "print('Test accuracy:', score[1])"
   ]
  },
  {
   "cell_type": "markdown",
   "metadata": {
    "Collapsed": "false",
    "colab_type": "text",
    "id": "jqRGS3y3s1ZT"
   },
   "source": [
    "## RF"
   ]
  },
  {
   "cell_type": "code",
   "execution_count": 14,
   "metadata": {
    "Collapsed": "false",
    "colab": {
     "base_uri": "https://localhost:8080/",
     "height": 52
    },
    "colab_type": "code",
    "id": "U2d2bSVyDlaK",
    "outputId": "6aee4adf-5dfb-4e0d-b531-10b6704f0515"
   },
   "outputs": [
    {
     "name": "stdout",
     "output_type": "stream",
     "text": [
      "CPU times: user 1.02 s, sys: 4.73 ms, total: 1.03 s\n",
      "Wall time: 1.03 s\n"
     ]
    }
   ],
   "source": [
    "%%time\n",
    "rdm_forest=RandomForestClassifier(n_estimators=200)\n",
    "rdm_forest=rdm_forest.fit(X=x_train_1d[:amount], \n",
    "                          y=y_train[:amount])"
   ]
  },
  {
   "cell_type": "code",
   "execution_count": 15,
   "metadata": {
    "Collapsed": "false",
    "colab": {},
    "colab_type": "code",
    "id": "_XmYQL1_SkxY"
   },
   "outputs": [],
   "source": [
    "#with open('data.pkl','wb') as f:\n",
    "#    pk.dump(img,f)"
   ]
  },
  {
   "cell_type": "code",
   "execution_count": 16,
   "metadata": {
    "Collapsed": "false",
    "colab": {},
    "colab_type": "code",
    "id": "7D5wcgOvCZaS"
   },
   "outputs": [],
   "source": [
    "#with open('models.pkl','rb') as f:\n",
    "#    [model,rdm_forest]=pk.load(f)"
   ]
  },
  {
   "cell_type": "markdown",
   "metadata": {
    "Collapsed": "false",
    "colab_type": "text",
    "id": "4JrYYajlFMqo"
   },
   "source": [
    "# Lime"
   ]
  },
  {
   "cell_type": "code",
   "execution_count": 17,
   "metadata": {
    "Collapsed": "false",
    "colab": {},
    "colab_type": "code",
    "id": "SK-6Af5I2L6O"
   },
   "outputs": [],
   "source": [
    "explainer = lime_image.LimeImageExplainer(verbose = False)\n",
    "segmenter = SegmentationAlgorithm('quickshift',\n",
    "                                  kernel_size=1,\n",
    "                                  max_dist=200,\n",
    "                                  ratio=0.2)"
   ]
  },
  {
   "cell_type": "code",
   "execution_count": 18,
   "metadata": {
    "Collapsed": "false",
    "colab": {
     "base_uri": "https://localhost:8080/",
     "height": 69
    },
    "colab_type": "code",
    "id": "PcIudN5r9uCS",
    "outputId": "a5d58664-6d9b-4d4f-92b2-5f5872b878c6"
   },
   "outputs": [
    {
     "name": "stderr",
     "output_type": "stream",
     "text": [
      "100% |########################################################################|\r"
     ]
    },
    {
     "name": "stdout",
     "output_type": "stream",
     "text": [
      "CPU times: user 32.5 s, sys: 185 ms, total: 32.7 s\n",
      "Wall time: 32.4 s\n"
     ]
    },
    {
     "name": "stderr",
     "output_type": "stream",
     "text": [
      "\n"
     ]
    }
   ],
   "source": [
    "%%time\n",
    "case=2\n",
    "explanation = explainer.explain_instance(np.array([[[x[0],x[0],x[0]]\n",
    "                                                    for x in y]\n",
    "                                                   for y in x_test[case]]), \n",
    "                                         classifier_fn =MyModel(rdm_forest,\n",
    "                                                                'rf').predict, \n",
    "                                         top_labels=10,\n",
    "                                         hide_color=0,\n",
    "                                         num_samples=10000,\n",
    "                                         segmentation_fn=segmenter,\n",
    "                                         labels=np.array([str(x) \n",
    "                                                          for x in range(10)]))"
   ]
  },
  {
   "cell_type": "code",
   "execution_count": 19,
   "metadata": {
    "Collapsed": "false",
    "colab": {
     "base_uri": "https://localhost:8080/",
     "height": 297
    },
    "colab_type": "code",
    "id": "fUc1IlMyOTJr",
    "outputId": "dc6e3a17-3638-4bb7-848f-4ace62301c3b"
   },
   "outputs": [
    {
     "data": {
      "image/png": "[encoded data removed]",
      "text/plain": [
       "<Figure size 576x288 with 2 Axes>"
      ]
     },
     "metadata": {
      "needs_background": "light"
     },
     "output_type": "display_data"
    }
   ],
   "source": [
    "temp, mask = explanation.get_image_and_mask(int(np.where(y_test[case]==1)[0]),\n",
    "                                            positive_only=True,\n",
    "                                            num_features=10,\n",
    "                                            hide_rest=False,\n",
    "                                            min_weight = 0.01)\n",
    "fig, (ax1, ax2) = plt.subplots(1,2, figsize = (8, 4))\n",
    "ax1.imshow(label2rgb(mask,temp, bg_label = 0), interpolation = 'nearest')\n",
    "ax1.set_title('Positive Regions for {}'.format(np.where(y_test[case]==1)[0]))\n",
    "temp, mask = explanation.get_image_and_mask(int(np.where(y_test[case]==1)[0]),\n",
    "                                            positive_only=False,\n",
    "                                            num_features=10,\n",
    "                                            hide_rest=False,\n",
    "                                            min_weight = 0.01)\n",
    "ax2.imshow(label2rgb(3-mask,temp, bg_label = 0), interpolation = 'nearest')\n",
    "ax2.set_title('Positive/Negative Regions for {}'.format(int(np.where(y_test[case]==1)[0])))\n",
    "plt.savefig('test.png')"
   ]
  },
  {
   "cell_type": "markdown",
   "metadata": {
    "Collapsed": "false",
    "colab_type": "text",
    "id": "inOBrr_CLCOi"
   },
   "source": [
    "# Tester"
   ]
  },
  {
   "cell_type": "markdown",
   "metadata": {
    "Collapsed": "false",
    "colab_type": "text",
    "id": "czW8KffXP2Aw"
   },
   "source": [
    "## Class"
   ]
  },
  {
   "cell_type": "code",
   "execution_count": 20,
   "metadata": {
    "Collapsed": "false",
    "colab": {},
    "colab_type": "code",
    "id": "Wg1OJy_UtFXP"
   },
   "outputs": [],
   "source": [
    "class Tester:\n",
    "    def __init__(self,name1, model1, type1,name2, model2, type2, classes):\n",
    "        self.models={}\n",
    "        self.models[name1]=MyModel(model1,type1)\n",
    "        self.models[name2]=MyModel(model2,type2)\n",
    "        self.classes=classes\n",
    "        self.names=(name1, name2)\n",
    "        self.cases=('cc', 'ci', 'ic','ii')\n",
    "        self.num_classes=len(self.classes)\n",
    "\n",
    "    def __repr__():\n",
    "        return self.models.__repr__()+'\\n'+self.classes.__repr__()\n",
    "    def lime_test_case(self, model,case,y, filename=None):\n",
    "        explainer = lime_image.LimeImageExplainer(verbose = False)\n",
    "        explain=explainer.explain_instance\n",
    "        explanation = explain(np.array([[[x[0],x[0],x[0]]\n",
    "                                            for x in image]\n",
    "                                        for image in case]), \n",
    "                                classifier_fn =self.models[model].predict, \n",
    "                                top_labels=10,\n",
    "                                hide_color=0,\n",
    "                                num_samples=10000,\n",
    "                                segmentation_fn=segmenter,\n",
    "                                labels=np.array([str(x) \n",
    "                                            for x in range(10)]))\n",
    "        print(y)\n",
    "        temp, mask = explanation.get_image_and_mask(y,\n",
    "                                                    positive_only=True,\n",
    "                                                    num_features=10,\n",
    "                                                    hide_rest=False,\n",
    "                                                    min_weight = 0.01)\n",
    "        print(self.models[model].ty)\n",
    "        fig, (ax1, ax2) = plt.subplots(1,2, figsize = (8, 4))\n",
    "        ax1.imshow(label2rgb(mask,temp, bg_label = 0), \n",
    "                   interpolation = 'nearest')\n",
    "        ax1.set_title('Positive Regions for {}'.format(y))\n",
    "        temp, mask = explanation.get_image_and_mask(y,\n",
    "                                                    positive_only=False,\n",
    "                                                    num_features=10,\n",
    "                                                    hide_rest=False,\n",
    "                                                    min_weight = 0.01)\n",
    "        ax2.imshow(label2rgb(3-mask,\n",
    "                             temp,\n",
    "                             bg_label = 0),\n",
    "                    interpolation = 'nearest')\n",
    "        ax2.set_title('Positive/Negative Regions for {}'.format(y))\n",
    "        if(filename!=None):\n",
    "            plt.savefig(filename)\n",
    "        plt.show()\n",
    "    \n",
    "    \n",
    "    \n",
    "    \n",
    "    \n",
    "    def plot_confusion_matrix(self, y_true, y_pred, classes,\n",
    "                                normalize=False,\n",
    "                                title=None,\n",
    "                                filename='test.pdf',\n",
    "                                dirname='',\n",
    "                                cmap=plt.cm.Blues):\n",
    "        \"\"\"\n",
    "        This function prints and plots the confusion matrix.\n",
    "        Normalization can be applied by setting `normalize=True`.\n",
    "        \"\"\"\n",
    "        if not title:\n",
    "            if normalize:\n",
    "                title = 'Normalized confusion matrix'\n",
    "            else:\n",
    "                title = 'Confusion matrix, without normalization'\n",
    "\n",
    "        # Compute confusion matrix\n",
    "        cm = confusion_matrix(y_true, y_pred)\n",
    "        # Only use the labels that appear in the data\n",
    "\n",
    "        classes = classes[unique_labels(y_true, y_pred)]\n",
    "        print('classes:', classes)\n",
    "        if normalize:\n",
    "            cm = cm.astype('float') / cm.sum(axis=1)[:, np.newaxis]\n",
    "            print(\"Normalized confusion matrix\")\n",
    "        else:\n",
    "            print('Confusion matrix, without normalization')\n",
    "\n",
    "        print(cm)\n",
    "\n",
    "        fig, ax = plt.subplots(figsize=(10,10))\n",
    "        im = ax.imshow(cm, interpolation='nearest', cmap=cmap)\n",
    "        ax.figure.colorbar(im, ax=ax)\n",
    "        # We want to show all ticks...\n",
    "        ax.set(xticks=np.arange(cm.shape[1]),\n",
    "                yticks=np.arange(cm.shape[0]),\n",
    "                # ... and label them with the respective list entries\n",
    "                xticklabels=classes, yticklabels=classes,\n",
    "                title=title,\n",
    "                ylabel='True label',\n",
    "                xlabel='Predicted label')\n",
    "\n",
    "        # Rotate the tick labels and set their alignment.\n",
    "        plt.setp(ax.get_xticklabels(), rotation=0, ha=\"right\",\n",
    "                    rotation_mode=\"anchor\")\n",
    "\n",
    "        # Loop over data dimensions and create text annotations.\n",
    "        fmt = '.2f' if normalize else 'd'\n",
    "        thresh = cm.max() / 2.\n",
    "        for i in range(cm.shape[0]):\n",
    "            for j in range(cm.shape[1]):\n",
    "                ax.text(j, i, format(cm[i, j], fmt),\n",
    "                        ha=\"center\", va=\"center\",\n",
    "                        color=\"white\" if cm[i, j] > thresh else \"black\")\n",
    "        fig.tight_layout()\n",
    "        plt.savefig(dirname+filename)\n",
    "        plt.show()\n",
    "        return ax\n",
    "    def confmatrix_test(self,x_train,x_test,y_train,y_test):\n",
    "        proy_train=[np.where(y==np.max(y))[0][0] for y in y_train]\n",
    "        proy_test=[np.where(y==np.max(y))[0][0] for y in y_test]\n",
    "        filenames={}\n",
    "        for name,model in self.models.items():\n",
    "            print(name, 'runing predictors')\n",
    "            pred_train= [np.where(y==np.max(y))[0][0]\n",
    "                         for y in model.predict(x_train)]\n",
    "            pred_test= [np.where(y==np.max(y))[0][0]\n",
    "                        for y in model.predict(x_test)]\n",
    "            print(pred_train[0],pred_test[0])\n",
    "            filenames[name]={}\n",
    "            filenames[name]['conf']={'tr': name+'trainconf.png',\n",
    "                                     'ts': name+'testconf.png'}\n",
    "            print('generating conf matrices')\n",
    "            self.plot_confusion_matrix(proy_train,\n",
    "                                       pred_train,\n",
    "                                       self.classes,\n",
    "                                       title=name+'training confution matrix',\n",
    "                                       filename=name+'trainconf.png')\n",
    "            self.plot_confusion_matrix(proy_test,\n",
    "                                       pred_test,\n",
    "                                       self.classes,\n",
    "                                       title=name+'test confution matrix',\n",
    "                                       filename=name+'testconf.png')\n",
    "            \n",
    "        return filenames\n",
    "\n",
    "\n",
    "    def stats(self,x_train,x_test,y_train,y_test,loss='mse'):\n",
    "        proy_train=[np.where(y==np.max(y))[0][0] for y in y_train]\n",
    "        proy_test=[np.where(y==np.max(y))[0][0] for y in y_test]\n",
    "        scores={}\n",
    "        names=self.names\n",
    "        for name,model in self.models.items():\n",
    "            pred_train= model.predict(x_train)\n",
    "            pred_test= model.predict(x_test)\n",
    "            pred1_train= [np.where(y==np.max(y))[0][0]\n",
    "                         for y in pred_train]\n",
    "            pred1_test= [np.where(y==np.max(y))[0][0]\n",
    "                        for y in pred_test]\n",
    "            with open('preddata.pkl','wb') as f:\n",
    "                pk.dump([proy_train,\n",
    "                         proy_test,\n",
    "                         pred_train,\n",
    "                         pred_test,\n",
    "                         pred1_train,\n",
    "                         pred1_test],\n",
    "                        f)\n",
    "            scores[name]={}\n",
    "            scores[name]['acc']={'tr':accuracy_score(proy_train,pred1_train),\n",
    "                                'ts':accuracy_score(proy_test,pred1_test)}\n",
    "            scores[name]['loss']={\n",
    "                                  'tr':mean_squared_log_error(np.array(y_train),\n",
    "                                                              np.array(pred_train)),\n",
    "                                  'ts':mean_squared_log_error(np.array(y_test),\n",
    "                                                              np.array(pred_test))}\n",
    "        accnames=[names[0]+' training',names[0]+ ' test',names[1]+' training',names[1]+ ' test']\n",
    "        accvals=[scores[names[0]]['acc']['tr'],scores[names[0]]['acc']['ts'],scores[names[1]]['acc']['tr'],scores[names[1]]['acc']['ts']]\n",
    "        lossnames=[names[0]+' training',names[0]+ ' test',names[1]+' training',names[1]+ ' test']\n",
    "        lossvals=[scores[names[0]]['loss']['tr'],scores[names[0]]['loss']['ts'],scores[names[1]]['loss']['tr'],scores[names[1]]['loss']['ts']]\n",
    "        print(accnames)\n",
    "        print(accvals)\n",
    "        print(lossnames)\n",
    "        print(lossvals)\n",
    "        plt.bar(accnames,accvals)\n",
    "        plt.savefig('acc.png')\n",
    "        plt.show()\n",
    "        plt.bar(lossnames,lossvals)\n",
    "        plt.savefig('loss.png')\n",
    "        plt.show()\n",
    "        return scores\n",
    "\n",
    "    def lime_test(self,cases,Y,datasetname=None):\n",
    "        filenames={}\n",
    "        for idx, (case, pred) in enumerate(zip(cases, Y)):\n",
    "            print(idx)\n",
    "            filenames[idx]={}\n",
    "            for name, values in zip(self.names, pred):\n",
    "                filenames[idx][name]={}\n",
    "                for y in set(values):\n",
    "                    filename = name+datasetname+'lime_'+str(idx)+'_'+str(y)+'.png'\n",
    "                    self.lime_test_case(name,\n",
    "                                        case,\n",
    "                                        y,\n",
    "                                        filename)\n",
    "                    filenames[idx][name][y]=filename\n",
    "        return filenames\n",
    "    \n",
    "    \n",
    "    \n",
    "    def find_lime_cases(self,x_data,y_data):\n",
    "        y_proc=[np.argmax(x) for x in y_data]\n",
    "        cases={}\n",
    "        for name in self.names:\n",
    "            model = self.models[name]\n",
    "            pred=model.predict(x_data)\n",
    "            sel=dict([(idx, np.argmax(x)) for idx, x in enumerate(pred)\n",
    "                 if np.max(x) > 0.1])\n",
    "            cases[name]={}\n",
    "            cases[name]['correct']={}\n",
    "            cases[name]['incorrect']={}\n",
    "            for idx in sel:\n",
    "                y_pred = sel[idx]\n",
    "                y_true = y_proc[idx]\n",
    "                if(y_pred==y_true):\n",
    "                    cases[name]['correct'][idx] = (y_pred, y_true)\n",
    "                else:\n",
    "                    cases[name]['incorrect'][idx] = (y_pred, y_true)\n",
    "        test_cases={}\n",
    "        names=self.names\n",
    "        print(names[0])\n",
    "        zero_correct = cases[names[0]]['correct']\n",
    "        zero_incorrect = cases[names[0]]['incorrect']\n",
    "        one_correct = cases[names[1]]['correct']\n",
    "        one_incorrect = cases[names[1]]['incorrect']\n",
    "        for case in zero_correct:\n",
    "            if(case in one_correct):\n",
    "                test_cases[self.cases[0]]=(case, (zero_correct[case], one_correct[case]))\n",
    "                break\n",
    "        for case in zero_correct:\n",
    "            if(case in one_incorrect):\n",
    "                test_cases[self.cases[1]]=(case, (zero_correct[case], one_incorrect[case]))\n",
    "                break\n",
    "        for case in zero_incorrect:\n",
    "            if(case in one_correct):\n",
    "                test_cases[self.cases[2]]=(case, (zero_incorrect[case], one_correct[case]))\n",
    "                break\n",
    "        for case in zero_incorrect:\n",
    "            if(case in one_incorrect):\n",
    "                test_cases[self.cases[3]]=(case, (zero_incorrect[case], one_incorrect[case]))\n",
    "                break\n",
    "        return test_cases\n",
    "\n",
    "    def run_test(self,x_train,x_test,y_train,y_test):\n",
    "        print('finding test cases')\n",
    "        names = self.names\n",
    "        casests=self.find_lime_cases(x_test,y_test)\n",
    "        xselts=[x_test[casests[case][0]] for case in self.cases]\n",
    "        ypred=[casests[case][1] for case in self.cases]\n",
    "        print(casests)\n",
    "        print(self.names)\n",
    "        print('running lime test')\n",
    "        filenamests=self.lime_test(xselts,ypred,'ts')\n",
    "        print('running conf test')\n",
    "        conffilenames=self.confmatrix_test(x_train,x_test,y_train,y_test)\n",
    "        print('running stats test')\n",
    "        stats=self.stats(x_train,x_test,y_train,y_test)\n",
    "        print('done')\n",
    "        limeinfo={\n",
    "            'cc':casests['cc'][1][0][:1],\n",
    "            'ci':casests['ci'][1][1],\n",
    "            'ic':casests['ic'][1][0],\n",
    "            'ii':casests['ii'][1][0][:1] + casests['ii'][1][1]\n",
    "        }\n",
    "        print(limeinfo,filenamests,conffilenames,stats)\n",
    "        return limeinfo,filenamests,conffilenames,stats\n",
    "   # def generate_report(self, filenamestr,filenamests,conffilenames,stats):\n",
    "        "
   ]
  },
  {
   "cell_type": "markdown",
   "metadata": {
    "Collapsed": "false",
    "colab_type": "text",
    "id": "d5p9qjyqP6lO"
   },
   "source": [
    "## commands"
   ]
  },
  {
   "cell_type": "code",
   "execution_count": 21,
   "metadata": {
    "Collapsed": "false",
    "colab": {},
    "colab_type": "code",
    "id": "zcUHZbmBKKZC"
   },
   "outputs": [],
   "source": [
    "tester=Tester('ANN',model,'ann','RF',rdm_forest,'rf',np.array([str(x) for x in range(10)]))"
   ]
  },
  {
   "cell_type": "code",
   "execution_count": null,
   "metadata": {
    "Collapsed": "false"
   },
   "outputs": [],
   "source": []
  },
  {
   "cell_type": "code",
   "execution_count": 22,
   "metadata": {
    "Collapsed": "false",
    "colab": {},
    "colab_type": "code",
    "id": "w8O8yDsJWWRj"
   },
   "outputs": [
    {
     "data": {
      "text/plain": [
       "4"
      ]
     },
     "execution_count": 22,
     "metadata": {},
     "output_type": "execute_result"
    }
   ],
   "source": [
    "np.argmax(tester.models['ANN'].predict(x_train[247]))"
   ]
  },
  {
   "cell_type": "code",
   "execution_count": 23,
   "metadata": {
    "Collapsed": "false",
    "colab": {
     "base_uri": "https://localhost:8080/",
     "height": 1000
    },
    "colab_type": "code",
    "id": "lidY1tn6Kf-u",
    "outputId": "11890f35-ee0e-4aa2-95b8-ea447da62244",
    "scrolled": true
   },
   "outputs": [
    {
     "name": "stdout",
     "output_type": "stream",
     "text": [
      "finding test cases\n"
     ]
    },
    {
     "name": "stderr",
     "output_type": "stream",
     "text": [
      "  2% |#                                                                       |\r"
     ]
    },
    {
     "name": "stdout",
     "output_type": "stream",
     "text": [
      "ANN\n",
      "{'cc': (0, ((7, 7), (7, 7))), 'ci': (376, ((4, 4), (9, 4))), 'ic': (3, ((4, 0), (0, 0))), 'ii': (77, ((4, 2), (7, 2)))}\n",
      "('ANN', 'RF')\n",
      "running lime test\n",
      "0\n"
     ]
    },
    {
     "name": "stderr",
     "output_type": "stream",
     "text": [
      "100% |########################################################################|\n"
     ]
    },
    {
     "name": "stdout",
     "output_type": "stream",
     "text": [
      "7\n",
      "ann\n"
     ]
    },
    {
     "data": {
      "image/png": "[encoded data removed]",
      "text/plain": [
       "<Figure size 576x288 with 2 Axes>"
      ]
     },
     "metadata": {
      "needs_background": "light"
     },
     "output_type": "display_data"
    },
    {
     "name": "stderr",
     "output_type": "stream",
     "text": [
      "100% |########################################################################|\n"
     ]
    },
    {
     "name": "stdout",
     "output_type": "stream",
     "text": [
      "7\n",
      "rf\n"
     ]
    },
    {
     "data": {
      "image/png": "[encoded data removed]",
      "text/plain": [
       "<Figure size 576x288 with 2 Axes>"
      ]
     },
     "metadata": {
      "needs_background": "light"
     },
     "output_type": "display_data"
    },
    {
     "name": "stderr",
     "output_type": "stream",
     "text": [
      "  2% |#                                                                       |\r"
     ]
    },
    {
     "name": "stdout",
     "output_type": "stream",
     "text": [
      "1\n"
     ]
    },
    {
     "name": "stderr",
     "output_type": "stream",
     "text": [
      "100% |########################################################################|\n"
     ]
    },
    {
     "name": "stdout",
     "output_type": "stream",
     "text": [
      "4\n",
      "ann\n"
     ]
    },
    {
     "data": {
      "image/png": "[encoded data removed]",
      "text/plain": [
       "<Figure size 576x288 with 2 Axes>"
      ]
     },
     "metadata": {
      "needs_background": "light"
     },
     "output_type": "display_data"
    },
    {
     "name": "stderr",
     "output_type": "stream",
     "text": [
      "100% |########################################################################|\n"
     ]
    },
    {
     "name": "stdout",
     "output_type": "stream",
     "text": [
      "9\n",
      "rf\n"
     ]
    },
    {
     "data": {
      "image/png": "[encoded data removed]",
      "text/plain": [
       "<Figure size 576x288 with 2 Axes>"
      ]
     },
     "metadata": {
      "needs_background": "light"
     },
     "output_type": "display_data"
    },
    {
     "name": "stderr",
     "output_type": "stream",
     "text": [
      "100% |########################################################################|\n"
     ]
    },
    {
     "name": "stdout",
     "output_type": "stream",
     "text": [
      "4\n",
      "rf\n"
     ]
    },
    {
     "data": {
      "image/png": "[encoded data removed]",
      "text/plain": [
       "<Figure size 576x288 with 2 Axes>"
      ]
     },
     "metadata": {
      "needs_background": "light"
     },
     "output_type": "display_data"
    },
    {
     "name": "stderr",
     "output_type": "stream",
     "text": [
      "  2% |#                                                                       |\r"
     ]
    },
    {
     "name": "stdout",
     "output_type": "stream",
     "text": [
      "2\n"
     ]
    },
    {
     "name": "stderr",
     "output_type": "stream",
     "text": [
      "100% |########################################################################|\n"
     ]
    },
    {
     "name": "stdout",
     "output_type": "stream",
     "text": [
      "0\n",
      "ann\n"
     ]
    },
    {
     "data": {
      "image/png": "[encoded data removed]",
      "text/plain": [
       "<Figure size 576x288 with 2 Axes>"
      ]
     },
     "metadata": {
      "needs_background": "light"
     },
     "output_type": "display_data"
    },
    {
     "name": "stderr",
     "output_type": "stream",
     "text": [
      "100% |########################################################################|\n"
     ]
    },
    {
     "name": "stdout",
     "output_type": "stream",
     "text": [
      "4\n",
      "ann\n"
     ]
    },
    {
     "data": {
      "image/png": "[encoded data removed]",
      "text/plain": [
       "<Figure size 576x288 with 2 Axes>"
      ]
     },
     "metadata": {
      "needs_background": "light"
     },
     "output_type": "display_data"
    },
    {
     "name": "stderr",
     "output_type": "stream",
     "text": [
      "100% |########################################################################|\n"
     ]
    },
    {
     "name": "stdout",
     "output_type": "stream",
     "text": [
      "0\n",
      "rf\n"
     ]
    },
    {
     "data": {
      "image/png": "[encoded data removed]",
      "text/plain": [
       "<Figure size 576x288 with 2 Axes>"
      ]
     },
     "metadata": {
      "needs_background": "light"
     },
     "output_type": "display_data"
    },
    {
     "name": "stderr",
     "output_type": "stream",
     "text": [
      "  2% |#                                                                       |\r"
     ]
    },
    {
     "name": "stdout",
     "output_type": "stream",
     "text": [
      "3\n"
     ]
    },
    {
     "name": "stderr",
     "output_type": "stream",
     "text": [
      "100% |########################################################################|\n"
     ]
    },
    {
     "name": "stdout",
     "output_type": "stream",
     "text": [
      "2\n",
      "ann\n"
     ]
    },
    {
     "data": {
      "image/png": "[encoded data removed]",
      "text/plain": [
       "<Figure size 576x288 with 2 Axes>"
      ]
     },
     "metadata": {
      "needs_background": "light"
     },
     "output_type": "display_data"
    },
    {
     "name": "stderr",
     "output_type": "stream",
     "text": [
      "100% |########################################################################|\n"
     ]
    },
    {
     "name": "stdout",
     "output_type": "stream",
     "text": [
      "4\n",
      "ann\n"
     ]
    },
    {
     "data": {
      "image/png": "[encoded data removed]",
      "text/plain": [
       "<Figure size 576x288 with 2 Axes>"
      ]
     },
     "metadata": {
      "needs_background": "light"
     },
     "output_type": "display_data"
    },
    {
     "name": "stderr",
     "output_type": "stream",
     "text": [
      "100% |########################################################################|\n"
     ]
    },
    {
     "name": "stdout",
     "output_type": "stream",
     "text": [
      "2\n",
      "rf\n"
     ]
    },
    {
     "data": {
      "image/png": "[encoded data removed]",
      "text/plain": [
       "<Figure size 576x288 with 2 Axes>"
      ]
     },
     "metadata": {
      "needs_background": "light"
     },
     "output_type": "display_data"
    },
    {
     "name": "stderr",
     "output_type": "stream",
     "text": [
      "100% |########################################################################|\n"
     ]
    },
    {
     "name": "stdout",
     "output_type": "stream",
     "text": [
      "7\n",
      "rf\n"
     ]
    },
    {
     "data": {
      "image/png": "[encoded data removed]",
      "text/plain": [
       "<Figure size 576x288 with 2 Axes>"
      ]
     },
     "metadata": {
      "needs_background": "light"
     },
     "output_type": "display_data"
    },
    {
     "name": "stdout",
     "output_type": "stream",
     "text": [
      "running conf test\n",
      "ANN runing predictors\n",
      "6 7\n",
      "generating conf matrices\n",
      "classes: ['0' '1' '2' '3' '4' '5' '6' '7' '8' '9']\n",
      "Confusion matrix, without normalization\n",
      "[[   0    6    0    0 5859    0   58    0    0    0]\n",
      " [   0 6479    0    0  247    0   16    0    0    0]\n",
      " [   0  574    0    0 4565    0  817    2    0    0]\n",
      " [   0  649    0    0 4833    0  646    1    0    2]\n",
      " [   0   13    0    0 5826    0    2    1    0    0]\n",
      " [   0  246    0    0 4921   87  166    0    0    1]\n",
      " [   0  231    0    0 5365    0  322    0    0    0]\n",
      " [   0  237    0    0 5195    0    9  824    0    0]\n",
      " [   0  864    0    0 4942    0   45    0    0    0]\n",
      " [   0   66    0    0 5872    0    3    3    0    5]]\n"
     ]
    },
    {
     "data": {
      "image/png": "[encoded data removed]",
      "text/plain": [
       "<Figure size 720x720 with 2 Axes>"
      ]
     },
     "metadata": {
      "needs_background": "light"
     },
     "output_type": "display_data"
    },
    {
     "name": "stdout",
     "output_type": "stream",
     "text": [
      "classes: ['0' '1' '2' '3' '4' '5' '6' '7' '8' '9']\n",
      "Confusion matrix, without normalization\n",
      "[[   0    0    0    0  972    0    8    0    0    0]\n",
      " [   0 1097    0    0   37    0    1    0    0    0]\n",
      " [   0  126    0    0  757    0  149    0    0    0]\n",
      " [   0   91    0    0  813    0  103    1    0    2]\n",
      " [   0    1    0    0  980    0    1    0    0    0]\n",
      " [   0   53    0    0  788   10   41    0    0    0]\n",
      " [   0   25    0    0  888    0   45    0    0    0]\n",
      " [   0   44    0    0  855    0    0  129    0    0]\n",
      " [   0   83    0    0  885    0    6    0    0    0]\n",
      " [   0   11    0    0  995    0    2    0    0    1]]\n"
     ]
    },
    {
     "data": {
      "image/png": "[encoded data removed]",
      "text/plain": [
       "<Figure size 720x720 with 2 Axes>"
      ]
     },
     "metadata": {
      "needs_background": "light"
     },
     "output_type": "display_data"
    },
    {
     "name": "stdout",
     "output_type": "stream",
     "text": [
      "RF runing predictors\n",
      "5 7\n",
      "generating conf matrices\n",
      "classes: ['0' '1' '2' '3' '4' '5' '6' '7' '8' '9']\n",
      "Confusion matrix, without normalization\n",
      "[[5922    0    0    0    0    0    1    0    0    0]\n",
      " [ 555 6183    2    0    0    0    0    1    1    0]\n",
      " [3218    6 2714    0    2    0    1   14    3    0]\n",
      " [3784    3    4 2313    0   16    0   10    0    1]\n",
      " [2609    2    0    0 3194    0    2    1    1   33]\n",
      " [3927    8    0    2    1 1478    4    0    1    0]\n",
      " [2391    6    0    0    6    1 3514    0    0    0]\n",
      " [1538    5    3    0    2    0    0 4704    0   13]\n",
      " [4042   24    2    0    1    0    0    0 1773    9]\n",
      " [2884    2    1    0   16    0    0   25    0 3021]]\n"
     ]
    },
    {
     "data": {
      "image/png": "[encoded data removed]",
      "text/plain": [
       "<Figure size 720x720 with 2 Axes>"
      ]
     },
     "metadata": {
      "needs_background": "light"
     },
     "output_type": "display_data"
    },
    {
     "name": "stdout",
     "output_type": "stream",
     "text": [
      "classes: ['0' '1' '2' '3' '4' '5' '6' '7' '8' '9']\n",
      "Confusion matrix, without normalization\n",
      "[[ 980    0    0    0    0    0    0    0    0    0]\n",
      " [  90 1045    0    0    0    0    0    0    0    0]\n",
      " [ 529    0  497    0    0    0    0    5    1    0]\n",
      " [ 630    0    0  375    0    3    0    2    0    0]\n",
      " [ 432    0    0    0  544    0    1    0    0    5]\n",
      " [ 650    2    0    0    0  239    0    1    0    0]\n",
      " [ 407    2    0    0    3    0  546    0    0    0]\n",
      " [ 251    1    4    0    0    0    0  769    0    3]\n",
      " [ 716    1    0    0    1    0    0    0  253    3]\n",
      " [ 488    1    0    0    2    0    0    1    0  517]]\n"
     ]
    },
    {
     "data": {
      "image/png": "[encoded data removed]",
      "text/plain": [
       "<Figure size 720x720 with 2 Axes>"
      ]
     },
     "metadata": {
      "needs_background": "light"
     },
     "output_type": "display_data"
    },
    {
     "name": "stdout",
     "output_type": "stream",
     "text": [
      "running stats test\n",
      "['ANN training', 'ANN test', 'RF training', 'RF test']\n",
      "[0.22571666666666668, 0.2262, 0.5802666666666667, 0.5765]\n",
      "['ANN training', 'ANN test', 'RF training', 'RF test']\n",
      "[0.073956564, 0.073942155, 0.02133243, 0.021466596]\n"
     ]
    },
    {
     "data": {
      "image/png": "[encoded data removed]",
      "text/plain": [
       "<Figure size 432x288 with 1 Axes>"
      ]
     },
     "metadata": {
      "needs_background": "light"
     },
     "output_type": "display_data"
    },
    {
     "data": {
      "image/png": "[encoded data removed]",
      "text/plain": [
       "<Figure size 432x288 with 1 Axes>"
      ]
     },
     "metadata": {
      "needs_background": "light"
     },
     "output_type": "display_data"
    },
    {
     "name": "stdout",
     "output_type": "stream",
     "text": [
      "done\n",
      "{'cc': (7,), 'ci': (9, 4), 'ic': (4, 0), 'ii': (4, 7, 2)} {0: {'ANN': {7: 'ANNtslime_0_7.png'}, 'RF': {7: 'RFtslime_0_7.png'}}, 1: {'ANN': {4: 'ANNtslime_1_4.png'}, 'RF': {9: 'RFtslime_1_9.png', 4: 'RFtslime_1_4.png'}}, 2: {'ANN': {0: 'ANNtslime_2_0.png', 4: 'ANNtslime_2_4.png'}, 'RF': {0: 'RFtslime_2_0.png'}}, 3: {'ANN': {2: 'ANNtslime_3_2.png', 4: 'ANNtslime_3_4.png'}, 'RF': {2: 'RFtslime_3_2.png', 7: 'RFtslime_3_7.png'}}} {'ANN': {'conf': {'tr': 'ANNtrainconf.png', 'ts': 'ANNtestconf.png'}}, 'RF': {'conf': {'tr': 'RFtrainconf.png', 'ts': 'RFtestconf.png'}}} {'ANN': {'acc': {'tr': 0.22571666666666668, 'ts': 0.2262}, 'loss': {'tr': 0.073956564, 'ts': 0.073942155}}, 'RF': {'acc': {'tr': 0.5802666666666667, 'ts': 0.5765}, 'loss': {'tr': 0.02133243, 'ts': 0.021466596}}}\n",
      "CPU times: user 7min 53s, sys: 43.1 s, total: 8min 36s\n",
      "Wall time: 6min 4s\n"
     ]
    }
   ],
   "source": [
    "\n",
    "%%time\n",
    "limeinfo,filenamests,conffilenames,stats=tester.run_test(x_train,x_test,y_train,y_test)"
   ]
  },
  {
   "cell_type": "code",
   "execution_count": 24,
   "metadata": {
    "Collapsed": "false",
    "colab": {
     "base_uri": "https://localhost:8080/",
     "height": 555
    },
    "colab_type": "code",
    "id": "rdN8JXL-l3AG",
    "outputId": "d948646a-373a-45a3-dbf0-001e45a3a54b"
   },
   "outputs": [],
   "source": [
    "#from tensorflow.python.client import device_lib\n",
    "#print(device_lib.list_local_devices())"
   ]
  },
  {
   "cell_type": "code",
   "execution_count": 25,
   "metadata": {
    "Collapsed": "false",
    "colab": {},
    "colab_type": "code",
    "id": "Yfe-EgI2CZbM"
   },
   "outputs": [],
   "source": [
    "def generate(limeinfo,filenamests,conffilenames,stats,models):\n",
    "    print(limeinfo,\n",
    "          '\\n_________________________________\\n',\n",
    "          filenamests,\n",
    "          '\\n_________________________________\\n',\n",
    "          conffilenames,\n",
    "          '\\n_________________________________\\n',\n",
    "          stats,\n",
    "         '\\n_________________________________\\n')\n",
    "    with open('tamplate.md','r') as f:\n",
    "        template=f.read()\n",
    "    \n",
    "    name1=models[0]\n",
    "    name2=models[1]\n",
    "    cc=limeinfo['cc'][0]\n",
    "    text=template.replace('occ_',str(cc))\n",
    "    \n",
    "    text=text.replace('model1',name1).replace('model2',name2)\n",
    "    print(name1,name2)\n",
    "    # Lime\n",
    "    \n",
    "    \n",
    "    # correct-correct\n",
    "    text=text.replace('_lgcc1_',name1+' true')\n",
    "    text=text.replace('_lgcc2_',name2+' true')\n",
    "    text=text.replace('_filenamelgcc1_',filenamests[0][name1][cc])\n",
    "    text=text.replace('_filenamelgcc2_',filenamests[0][name2][cc])\n",
    "    \n",
    "    # correct-incorrect\n",
    "    ci_pred=limeinfo['ci'][0]\n",
    "    ci_true=limeinfo['ci'][1]\n",
    "    text=text.replace('oci_',str(ci_true))\n",
    "    text=text.replace('oci2',str(ci_pred))\n",
    "    text=text.replace('_lgci1_',name1+' true')\n",
    "    text=text.replace('_lgci2c_',name2+' true')\n",
    "    text=text.replace('_lgci2p_',name2+' predicted')\n",
    "    text=text.replace('_filenamelgci1_',filenamests[1][name1][ci_true])\n",
    "    text=text.replace('_filenamelgci2c_',filenamests[1][name2][ci_true])    \n",
    "    text=text.replace('_filenamelgci2p_',filenamests[1][name2][ci_pred])    \n",
    "    \n",
    "    # incorrect-correct\n",
    "    ic_pred=limeinfo['ic'][0]\n",
    "    ic_true=limeinfo['ic'][1]\n",
    "    text=text.replace('oic_',str(ic_true))\n",
    "    text=text.replace('oic1',str(ic_pred))\n",
    "    text=text.replace('_lgic1c_',name1+' true')\n",
    "    text=text.replace('_lgic1p_',name1+' predicted')\n",
    "    text=text.replace('_lgic2_',name2+' true')\n",
    "    text=text.replace('_filenamelgic1c_',filenamests[2][name1][ic_true])\n",
    "    text=text.replace('_filenamelgic1p_',filenamests[2][name1][ic_pred])    \n",
    "    text=text.replace('_filenamelgic2_',filenamests[2][name2][ic_true])    \n",
    "    \n",
    "    # incorrect-incorrect\n",
    "    ii_pred1=limeinfo['ii'][0]\n",
    "    ii_pred2=limeinfo['ii'][1]\n",
    "    ii_true=limeinfo['ii'][2]\n",
    "    text=text.replace('oii_',str(ii_true))\n",
    "    text=text.replace('oii1',str(ii_pred1))\n",
    "    text=text.replace('oii2',str(ii_pred2))\n",
    "    text=text.replace('_lgii1p_',name1+' predicted')\n",
    "    text=text.replace('_lgii2p_',name2+' predicted')\n",
    "    text=text.replace('_lgii1c_',name1+' true')\n",
    "    text=text.replace('_lgii2c_',name2+' true')\n",
    "    text=text.replace('_filenamelgii1p_',filenamests[3][name1][ii_pred1])\n",
    "    text=text.replace('_filenamelgii1c_',filenamests[3][name1][ii_true])\n",
    "    text=text.replace('_filenamelgii2c_',filenamests[3][name2][ii_true])\n",
    "    text=text.replace('_filenamelgii2p_',filenamests[3][name2][ii_pred2])\n",
    "    \n",
    "    \n",
    "    # conf matrices\n",
    "    text=text.replace('_cg1tr_',name1 +' training confution matrix')\n",
    "    text=text.replace('_cg1ts_',name1 +' test confution matrix')\n",
    "    text=text.replace('_cg2tr_',name2 +' training confution matrix')\n",
    "    text=text.replace('_cg2ts_',name2 +' test confution matrix')\n",
    "    \n",
    "    text=text.replace('_filenamecg1tr_',conffilenames[name1]['conf']['tr'])\n",
    "    text=text.replace('_filenamecg1ts_',conffilenames[name1]['conf']['ts'])\n",
    "    text=text.replace('_filenamecg2tr_',conffilenames[name2]['conf']['tr'])\n",
    "    text=text.replace('_filenamecg2ts_',conffilenames[name2]['conf']['ts'])\n",
    "    # stats\n",
    "    \n",
    "    text=text.replace('tracc1val',str(stats[name1]['acc']['tr']))\n",
    "    text=text.replace('tsacc1val',str(stats[name1]['acc']['ts']))\n",
    "    text=text.replace('tracc2val',str(stats[name2]['acc']['tr']))\n",
    "    text=text.replace('tsacc2val',str(stats[name2]['acc']['ts']))\n",
    "    text=text.replace('trloss1val',str(stats[name1]['loss']['tr']))\n",
    "    text=text.replace('tsloss1val',str(stats[name1]['loss']['ts']))\n",
    "    text=text.replace('trloss2val',str(stats[name2]['loss']['tr']))\n",
    "    text=text.replace('tsloss2val',str(stats[name2]['loss']['ts']))\n",
    "    \n",
    "    text=text.replace('_filenameacc_','acc.png')\n",
    "    text=text.replace('_filenameloss_','loss.png')\n",
    "    print(text)\n",
    "    with open('report.md','w') as f:\n",
    "        f.write(text)\n",
    "    print(text)"
   ]
  },
  {
   "cell_type": "code",
   "execution_count": 26,
   "metadata": {
    "Collapsed": "false",
    "colab": {
     "base_uri": "https://localhost:8080/",
     "height": 225
    },
    "colab_type": "code",
    "id": "rFuoLjZSCZbQ",
    "outputId": "564dc176-468f-44f8-9b64-1b4b46c83ef6"
   },
   "outputs": [
    {
     "data": {
      "text/plain": [
       "{'cc': (7,), 'ci': (9, 4), 'ic': (4, 0), 'ii': (4, 7, 2)}"
      ]
     },
     "execution_count": 26,
     "metadata": {},
     "output_type": "execute_result"
    }
   ],
   "source": [
    "limeinfo"
   ]
  },
  {
   "cell_type": "code",
   "execution_count": 27,
   "metadata": {
    "Collapsed": "false",
    "colab": {
     "base_uri": "https://localhost:8080/",
     "height": 1000
    },
    "colab_type": "code",
    "id": "BafHN9CPCZbW",
    "outputId": "ed447be8-9979-4a42-a803-2159a8bbd12b",
    "scrolled": true
   },
   "outputs": [
    {
     "name": "stdout",
     "output_type": "stream",
     "text": [
      "{'cc': (7,), 'ci': (9, 4), 'ic': (4, 0), 'ii': (4, 7, 2)} \n",
      "_________________________________\n",
      " {0: {'ANN': {7: 'ANNtslime_0_7.png'}, 'RF': {7: 'RFtslime_0_7.png'}}, 1: {'ANN': {4: 'ANNtslime_1_4.png'}, 'RF': {9: 'RFtslime_1_9.png', 4: 'RFtslime_1_4.png'}}, 2: {'ANN': {0: 'ANNtslime_2_0.png', 4: 'ANNtslime_2_4.png'}, 'RF': {0: 'RFtslime_2_0.png'}}, 3: {'ANN': {2: 'ANNtslime_3_2.png', 4: 'ANNtslime_3_4.png'}, 'RF': {2: 'RFtslime_3_2.png', 7: 'RFtslime_3_7.png'}}} \n",
      "_________________________________\n",
      " {'ANN': {'conf': {'tr': 'ANNtrainconf.png', 'ts': 'ANNtestconf.png'}}, 'RF': {'conf': {'tr': 'RFtrainconf.png', 'ts': 'RFtestconf.png'}}} \n",
      "_________________________________\n",
      " {'ANN': {'acc': {'tr': 0.22571666666666668, 'ts': 0.2262}, 'loss': {'tr': 0.073956564, 'ts': 0.073942155}}, 'RF': {'acc': {'tr': 0.5802666666666667, 'ts': 0.5765}, 'loss': {'tr': 0.02133243, 'ts': 0.021466596}}} \n",
      "_________________________________\n",
      "\n",
      "ANN RF\n",
      "# Models Report\n",
      "## Lime test\n",
      "### Correct-Correct\n",
      "\n",
      "true output: 7\n",
      "\n",
      "#### ANN\n",
      "\n",
      "!['ANN true'](ANNtslime_0_7.png)\n",
      "filename: ANNtslime_0_7.png\n",
      "\n",
      "#### RF\n",
      "\n",
      "!['RF true'](RFtslime_0_7.png)\n",
      "filename: RFtslime_0_7.png\n",
      "\n",
      "### ANN Correct-RF Incorrect\n",
      "\n",
      "true output: 4\n",
      "\n",
      "#### ANN\n",
      "\n",
      "!['ANN true'](ANNtslime_1_4.png)\n",
      "filename: ANNtslime_1_4.png\n",
      "\n",
      "#### RF\n",
      "\n",
      "predicted: 9\n",
      "\n",
      "!['RF true'](RFtslime_1_4.png)\n",
      "!['RF predicted'](RFtslime_1_9.png)\n",
      "filename: \n",
      "* RFtslime_1_4.png\n",
      "* RFtslime_1_9.png\n",
      "\n",
      "### ANN Incorrect-RF Correct\n",
      "\n",
      "true output: 0\n",
      "\n",
      "#### ANN\n",
      "\n",
      "predicted: 4\n",
      "\n",
      "!['ANN true'](ANNtslime_2_0.png)\n",
      "!['ANN predicted'](ANNtslime_2_4.png)\n",
      "\n",
      "filename:\n",
      "* ANNtslime_2_0.png\n",
      "* ANNtslime_2_4.png\n",
      "\n",
      "#### RF\n",
      "\n",
      "!['RF true'](RFtslime_2_0.png)\n",
      "\n",
      "filename: RFtslime_2_0.png\n",
      "\n",
      "### ANN Incorrect-RF Correct\n",
      "\n",
      "true output: 2\n",
      "\n",
      "#### ANN\n",
      "\n",
      "predicted: 4\n",
      "\n",
      "!['ANN true'](ANNtslime_3_2.png)\n",
      "!['ANN predicted'](ANNtslime_3_4.png)\n",
      "\n",
      "filename: \n",
      "* ANNtslime_3_2.png\n",
      "* ANNtslime_3_4.png\n",
      "\n",
      "#### RF\n",
      "\n",
      "predicted: 7\n",
      "\n",
      "\n",
      "!['RF true'](RFtslime_3_2.png)\n",
      "!['RF predicted'](RFtslime_3_7.png)\n",
      "\n",
      "filename: \n",
      "* RFtslime_3_2.png\n",
      "* RFtslime_3_7.png\n",
      "\n",
      "## Confusion matrices\n",
      "\n",
      "### ANN training\n",
      "\n",
      "!['ANN training confution matrix'](ANNtrainconf.png)\n",
      "\n",
      "filename: ANNtrainconf.png\n",
      "\n",
      "### ANN testing\n",
      "\n",
      "!['ANN test confution matrix'](ANNtestconf.png)\n",
      "filename: ANNtestconf.png\n",
      "\n",
      "### RF training\n",
      "\n",
      "!['RF training confution matrix'](RFtrainconf.png)\n",
      "\n",
      "filename: RFtrainconf.png\n",
      "\n",
      "### RF testing\n",
      "\n",
      "!['RF test confution matrix'](RFtestconf.png)\n",
      "\n",
      "filename: RFtestconf.png\n",
      "\n",
      "## Stats\n",
      "\n",
      "### Acuracy\n",
      "\n",
      "ANN acccuracy: \n",
      "* training: 0.22571666666666668\n",
      "* test: 0.2262\n",
      "\n",
      "RF accuracy:\n",
      "* training: 0.5802666666666667\n",
      "* test: 0.5765\n",
      "\n",
      "!['Accuracy'](acc.png)\n",
      "\n",
      "filename: acc.png\n",
      "\n",
      "### Loss\n",
      "\n",
      "ANN loss: \n",
      "* training: 0.073956564\n",
      "* test: 0.073942155\n",
      "RF loss:\n",
      "* training: 0.02133243\n",
      "* test: 0.021466596\n",
      "\n",
      "!['Loss'](loss.png)\n",
      "\n",
      "filename: loss.png\n",
      "\n",
      "# Models Report\n",
      "## Lime test\n",
      "### Correct-Correct\n",
      "\n",
      "true output: 7\n",
      "\n",
      "#### ANN\n",
      "\n",
      "!['ANN true'](ANNtslime_0_7.png)\n",
      "filename: ANNtslime_0_7.png\n",
      "\n",
      "#### RF\n",
      "\n",
      "!['RF true'](RFtslime_0_7.png)\n",
      "filename: RFtslime_0_7.png\n",
      "\n",
      "### ANN Correct-RF Incorrect\n",
      "\n",
      "true output: 4\n",
      "\n",
      "#### ANN\n",
      "\n",
      "!['ANN true'](ANNtslime_1_4.png)\n",
      "filename: ANNtslime_1_4.png\n",
      "\n",
      "#### RF\n",
      "\n",
      "predicted: 9\n",
      "\n",
      "!['RF true'](RFtslime_1_4.png)\n",
      "!['RF predicted'](RFtslime_1_9.png)\n",
      "filename: \n",
      "* RFtslime_1_4.png\n",
      "* RFtslime_1_9.png\n",
      "\n",
      "### ANN Incorrect-RF Correct\n",
      "\n",
      "true output: 0\n",
      "\n",
      "#### ANN\n",
      "\n",
      "predicted: 4\n",
      "\n",
      "!['ANN true'](ANNtslime_2_0.png)\n",
      "!['ANN predicted'](ANNtslime_2_4.png)\n",
      "\n",
      "filename:\n",
      "* ANNtslime_2_0.png\n",
      "* ANNtslime_2_4.png\n",
      "\n",
      "#### RF\n",
      "\n",
      "!['RF true'](RFtslime_2_0.png)\n",
      "\n",
      "filename: RFtslime_2_0.png\n",
      "\n",
      "### ANN Incorrect-RF Correct\n",
      "\n",
      "true output: 2\n",
      "\n",
      "#### ANN\n",
      "\n",
      "predicted: 4\n",
      "\n",
      "!['ANN true'](ANNtslime_3_2.png)\n",
      "!['ANN predicted'](ANNtslime_3_4.png)\n",
      "\n",
      "filename: \n",
      "* ANNtslime_3_2.png\n",
      "* ANNtslime_3_4.png\n",
      "\n",
      "#### RF\n",
      "\n",
      "predicted: 7\n",
      "\n",
      "\n",
      "!['RF true'](RFtslime_3_2.png)\n",
      "!['RF predicted'](RFtslime_3_7.png)\n",
      "\n",
      "filename: \n",
      "* RFtslime_3_2.png\n",
      "* RFtslime_3_7.png\n",
      "\n",
      "## Confusion matrices\n",
      "\n",
      "### ANN training\n",
      "\n",
      "!['ANN training confution matrix'](ANNtrainconf.png)\n",
      "\n",
      "filename: ANNtrainconf.png\n",
      "\n",
      "### ANN testing\n",
      "\n",
      "!['ANN test confution matrix'](ANNtestconf.png)\n",
      "filename: ANNtestconf.png\n",
      "\n",
      "### RF training\n",
      "\n",
      "!['RF training confution matrix'](RFtrainconf.png)\n",
      "\n",
      "filename: RFtrainconf.png\n",
      "\n",
      "### RF testing\n",
      "\n",
      "!['RF test confution matrix'](RFtestconf.png)\n",
      "\n",
      "filename: RFtestconf.png\n",
      "\n",
      "## Stats\n",
      "\n",
      "### Acuracy\n",
      "\n",
      "ANN acccuracy: \n",
      "* training: 0.22571666666666668\n",
      "* test: 0.2262\n",
      "\n",
      "RF accuracy:\n",
      "* training: 0.5802666666666667\n",
      "* test: 0.5765\n",
      "\n",
      "!['Accuracy'](acc.png)\n",
      "\n",
      "filename: acc.png\n",
      "\n",
      "### Loss\n",
      "\n",
      "ANN loss: \n",
      "* training: 0.073956564\n",
      "* test: 0.073942155\n",
      "RF loss:\n",
      "* training: 0.02133243\n",
      "* test: 0.021466596\n",
      "\n",
      "!['Loss'](loss.png)\n",
      "\n",
      "filename: loss.png\n",
      "\n"
     ]
    }
   ],
   "source": [
    "generate(limeinfo,filenamests,conffilenames,stats,tester.names)"
   ]
  },
  {
   "cell_type": "code",
   "execution_count": 28,
   "metadata": {
    "Collapsed": "false",
    "colab": {},
    "colab_type": "code",
    "id": "TnuJA8r9ajeR"
   },
   "outputs": [
    {
     "data": {
      "text/plain": [
       "<matplotlib.image.AxesImage at 0x1616c2510>"
      ]
     },
     "execution_count": 28,
     "metadata": {},
     "output_type": "execute_result"
    },
    {
     "data": {
      "image/png": "[encoded data removed]",
      "text/plain": [
       "<Figure size 432x288 with 1 Axes>"
      ]
     },
     "metadata": {
      "needs_background": "light"
     },
     "output_type": "display_data"
    }
   ],
   "source": [
    "plt.imshow(x_test[247,:,:,0])"
   ]
  },
  {
   "cell_type": "code",
   "execution_count": 29,
   "metadata": {
    "Collapsed": "false"
   },
   "outputs": [],
   "source": [
    "#!git add *\n",
    "#!git commit -m 'Update'\n",
    "#!git push"
   ]
  },
  {
   "cell_type": "code",
   "execution_count": 30,
   "metadata": {
    "Collapsed": "false"
   },
   "outputs": [],
   "source": [
    "#!git push --h"
   ]
  },
  {
   "cell_type": "code",
   "execution_count": null,
   "metadata": {
    "Collapsed": "false"
   },
   "outputs": [],
   "source": []
  }
 ],
 "metadata": {
  "accelerator": "GPU",
  "colab": {
   "collapsed_sections": [
    "1kY4g75WEtOz",
    "rAWvZvtpExxL",
    "8UZL9g74E6uB",
    "mhmIdlRPE_76",
    "OQ_ioCVdERI9",
    "uaHpqxNUEWxJ"
   ],
   "name": "ANNmnist.ipynb",
   "provenance": [],
   "toc_visible": true
  },
  "kernelspec": {
   "display_name": "Python 3",
   "language": "python",
   "name": "python3"
  },
  "language_info": {
   "codemirror_mode": {
    "name": "ipython",
    "version": 3
   },
   "file_extension": ".py",
   "mimetype": "text/x-python",
   "name": "python",
   "nbconvert_exporter": "python",
   "pygments_lexer": "ipython3",
   "version": "3.7.4"
  }
 },
 "nbformat": 4,
 "nbformat_minor": 4
}
